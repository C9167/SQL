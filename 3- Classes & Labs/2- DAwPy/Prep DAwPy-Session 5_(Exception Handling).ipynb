{
 "cells": [
  {
   "cell_type": "markdown",
   "id": "406f2981",
   "metadata": {},
   "source": [
    "<img src=\"https://docs.google.com/uc?id=14xeXxFrVRjvOoUYWn_GuyE-v84wVzrqr\" class=\"img-fluid\" alt=\"CLRWY\" width=\"400\" height=\"200\">"
   ]
  },
  {
   "cell_type": "markdown",
   "id": "97d2a08c",
   "metadata": {},
   "source": [
    "<a id=\"toc\"></a>\n",
    "\n",
    "## <p style=\"background-color:#0D8D99; font-family:newtimeroman; color:#FFF9ED; font-size:175%; text-align:center; border-radius:10px 10px;\">Prep DAwPy-Session 5<br><br>Exception Handling</p>"
   ]
  },
  {
   "cell_type": "code",
   "execution_count": null,
   "id": "26948fcc",
   "metadata": {},
   "outputs": [],
   "source": [
    "print(\"hello world\")\n",
    "print(\"hello world\")\n",
    "print(\"hello world\")\n",
    "print(\"hello world\")\n",
    "print(\"hello world\")\n",
    "2/0\n",
    "print(\"hello world\")\n",
    "print(\"hello world\")\n",
    "print(\"hello world\")\n",
    "print(\"hello world\")\n",
    "print(\"hello world\")"
   ]
  },
  {
   "cell_type": "markdown",
   "id": "f729db30",
   "metadata": {},
   "source": [
    "![python.exe](https://drive.google.com/uc?id=1k_1B0UDHLFoFYMS4KMlfi24rFm1vNNFk)"
   ]
  },
  {
   "cell_type": "code",
   "execution_count": null,
   "id": "a370eb6d",
   "metadata": {},
   "outputs": [],
   "source": [
    "print(\"hello world\")\n",
    "print(\"hello world\")\n",
    "print(\"hello world\")\n",
    "print(\"hello world\"\n",
    "print(\"hello world\")\n",
    "2/0\n",
    "print(\"hello world\")\n",
    "print(\"hello world\")\n",
    "print(\"hello world\")\n",
    "print(\"hello world\")\n",
    "print(\"hello world\")"
   ]
  },
  {
   "cell_type": "code",
   "execution_count": null,
   "id": "43a4c209",
   "metadata": {},
   "outputs": [],
   "source": [
    "# This is a syntax error\n",
    "\n",
    "print(\"hello\")\n",
    "print(hello\n",
    "      \n",
    "# syntax error! No lines of code executed."
   ]
  },
  {
   "cell_type": "code",
   "execution_count": null,
   "id": "2b788f0f",
   "metadata": {},
   "outputs": [],
   "source": [
    "# This is an exception error\n",
    "\n",
    "print(\"hello\")\n",
    "print(hello)\n",
    "\n",
    "# name error! The first line executed."
   ]
  },
  {
   "cell_type": "markdown",
   "id": "d8d1738c",
   "metadata": {},
   "source": [
    "**let's do some exercises:**"
   ]
  },
  {
   "cell_type": "code",
   "execution_count": null,
   "id": "7fc82e83",
   "metadata": {},
   "outputs": [],
   "source": [
    "try :\n",
    "    x = 2/0\n",
    "    print(\"It means that I have no problem, look I am executed.\")\n",
    "    \n",
    "except :  \n",
    "    print(\"something went wrong\")  "
   ]
  },
  {
   "cell_type": "code",
   "execution_count": null,
   "id": "03d9df8d",
   "metadata": {},
   "outputs": [],
   "source": [
    "\n",
    "try :\n",
    "    print(\"i am the first code line.\")\n",
    "    x = 2/0\n",
    "    print(\"It means that I have no problem, look I am executed.\")\n",
    "    \n",
    "except :  \n",
    "    print(\"something went wrong\")"
   ]
  },
  {
   "cell_type": "code",
   "execution_count": null,
   "id": "db514fe0",
   "metadata": {},
   "outputs": [],
   "source": [
    "try :\n",
    "    print(\"a\") \n",
    "    x = 2/2   \n",
    "    print(\"b\") \n",
    "    print(x) \n",
    "    \n",
    "except :  \n",
    "    print(\"c\")"
   ]
  },
  {
   "cell_type": "code",
   "execution_count": null,
   "id": "6ece05b9",
   "metadata": {},
   "outputs": [],
   "source": [
    "try :\n",
    "    print(\"a\") \n",
    "    x = 2/2   \n",
    "    print(\"b\") \n",
    "    print(x) \n",
    "    \n",
    "except :  \n",
    "    print(\"c\")\n",
    "    \n",
    "print(\"I am the line below the try except block.\")"
   ]
  },
  {
   "cell_type": "code",
   "execution_count": null,
   "id": "108b2ecf",
   "metadata": {},
   "outputs": [],
   "source": [
    "while True:\n",
    "    no_one = int(input(\"The first number please : \"))\n",
    "    no_two = int(input(\"The second number please : \"))\n",
    "    division = no_one / no_two\n",
    "    print(\"The result of the division is : \", division)\n",
    "    break"
   ]
  },
  {
   "cell_type": "markdown",
   "id": "d3d8ad55",
   "metadata": {},
   "source": [
    "<a id=\"toc\"></a>\n",
    "\n",
    "### <p style=\"background-color:#9d4f8c; font-family:newtimeroman; color:#FFF9ED; font-size:175%; text-align:center; border-radius:10px 10px;\">The basic structure of try-except statement looks like:</p>"
   ]
  },
  {
   "cell_type": "markdown",
   "id": "10b177e5",
   "metadata": {},
   "source": [
    "![python.exe](https://drive.google.com/uc?id=1lxgHIXdRUtU20Nm4iKHo6bVaFlLgcXSP)"
   ]
  },
  {
   "cell_type": "code",
   "execution_count": null,
   "id": "e78c04fb",
   "metadata": {},
   "outputs": [],
   "source": [
    "while True:\n",
    "    no_one = int(input(\"The first number please : \"))\n",
    "    no_two = int(input(\"The second number please : \"))\n",
    "    try:\n",
    "        division = no_one / no_two\n",
    "        print(\"The result of the division is : \", division)\n",
    "        break\n",
    "    except :\n",
    "        print(\"Something went wrong...Try again.\")\n",
    "        break"
   ]
  },
  {
   "cell_type": "code",
   "execution_count": null,
   "id": "c3242eb0",
   "metadata": {},
   "outputs": [],
   "source": [
    "while True:\n",
    "    no_one = int(input(\"The first number please : \"))\n",
    "    no_two = int(input(\"The second number please : \"))\n",
    "    try:\n",
    "        division = no_one / no_two\n",
    "        print(\"The result of the division is : \", division)\n",
    "        break\n",
    "    except ZeroDivisionError:   \n",
    "        print(\"Something went wrong...Try again.\")\n",
    "        break"
   ]
  },
  {
   "cell_type": "markdown",
   "id": "ffbafb89",
   "metadata": {},
   "source": [
    "<a id=\"toc\"></a>\n",
    "\n",
    "### <p style=\"background-color:#9d4f8c; font-family:newtimeroman; color:#FFF9ED; font-size:175%; text-align:center; border-radius:10px 10px;\">The full version of try-except statement is as follows :</p>"
   ]
  },
  {
   "cell_type": "markdown",
   "id": "cea55c08",
   "metadata": {},
   "source": [
    "![python.exe](https://drive.google.com/uc?id=15PCKldCCAZ0s8Ekre1H_zF4uCmwj6XWH)"
   ]
  },
  {
   "cell_type": "markdown",
   "id": "2ce25bb3",
   "metadata": {},
   "source": [
    "**Implementation of the Full 'Exception Handling Block' :**"
   ]
  },
  {
   "cell_type": "code",
   "execution_count": null,
   "id": "be20486e",
   "metadata": {},
   "outputs": [],
   "source": [
    "while True:\n",
    "    no_one = int(input(\"The first number please : \"))\n",
    "    no_two = int(input(\"The second number please : \"))\n",
    "    try:\n",
    "        division = no_one / no_two   \n",
    "    except ZeroDivisionError:   \n",
    "        print(\"You can't divide by zero! Try again.\")\n",
    "    else :\n",
    "        print(\"The result of the division is : \", division).\n",
    "    finally :\n",
    "        print(\"Thanks for using our mini divison calculator! Come again!\")\n",
    "        break "
   ]
  },
  {
   "cell_type": "code",
   "execution_count": null,
   "id": "425e6998",
   "metadata": {},
   "outputs": [],
   "source": [
    "while True:\n",
    "    no_one = int(input(\"The first number please : \"))\n",
    "    no_two = int(input(\"The second number please : \"))\n",
    "    try:\n",
    "        division = no_one / no_two  \n",
    "    except ZeroDivisionError:  \n",
    "        print(\"You can't divide by zero! Try again.\")\n",
    "    else :\n",
    "        print(\"The result of the division is : \", division) \n",
    "    finally :\n",
    "        print(\"Thanks for using our mini divison calculator! Come again!\")\n",
    "        break  "
   ]
  },
  {
   "cell_type": "markdown",
   "id": "ee7b96d6",
   "metadata": {},
   "source": [
    "**Now, Let's put the inputs inside the try block and see the difference:**"
   ]
  },
  {
   "cell_type": "code",
   "execution_count": null,
   "id": "3a319a74",
   "metadata": {},
   "outputs": [],
   "source": [
    "while True:\n",
    "\n",
    "    try:\n",
    "        no_one = int(input(\"The first number please : \"))\n",
    "        no_two = int(input(\"The second number please : \"))\n",
    "        division = no_one / no_two  \n",
    "    except ZeroDivisionError:  \n",
    "        print(\"You can't divide by zero! Try again.\")\n",
    "    else :\n",
    "        print(\"The result of the division is : \", division) \n",
    "    finally :\n",
    "        print(\"Thanks for using our mini divison calculator! Come again!\")\n",
    "        break  "
   ]
  },
  {
   "cell_type": "markdown",
   "id": "61f7c921",
   "metadata": {},
   "source": [
    "<a id=\"toc\"></a>\n",
    "\n",
    "### <p style=\"background-color:#9d4f8c; font-family:newtimeroman; color:#FFF9ED; font-size:175%; text-align:center; border-radius:10px 10px;\">Exception as</p>"
   ]
  },
  {
   "cell_type": "code",
   "execution_count": null,
   "id": "dda3f1a0",
   "metadata": {},
   "outputs": [],
   "source": [
    "while True:\n",
    "    no_one = int(input(\"The first number please : \"))\n",
    "    no_two = int(input(\"The second number please : \"))\n",
    "    try:\n",
    "        division = no_one / no_two\n",
    "        print(\"The result of the division is : \", division)\n",
    "        break\n",
    "    except Exception as anyword : \n",
    "        print(\"The exception that raised is :\", anyword)\n",
    "        break"
   ]
  },
  {
   "cell_type": "markdown",
   "id": "501ef70b",
   "metadata": {},
   "source": [
    "**Now, Let's put the inputs inside the try block and see the difference:**"
   ]
  },
  {
   "cell_type": "code",
   "execution_count": null,
   "id": "5e31326d",
   "metadata": {},
   "outputs": [],
   "source": [
    "while True:\n",
    "\n",
    "    try:\n",
    "        no_one = int(input(\"The first number please : \"))\n",
    "        no_two = int(input(\"The second number please : \"))\n",
    "        division = no_one / no_two\n",
    "        print(\"The result of the division is : \", division)\n",
    "        break\n",
    "    except Exception as dıgıdık :   \n",
    "        print(\"The exception that raised is :\", anyword)\n",
    "        break"
   ]
  },
  {
   "cell_type": "code",
   "execution_count": null,
   "id": "03c1fa29",
   "metadata": {},
   "outputs": [],
   "source": [
    "dıgıdık\n",
    "\n",
    "# error! (NameError: name 'anyword' is not defined)"
   ]
  },
  {
   "cell_type": "markdown",
   "id": "7ef96ec5",
   "metadata": {},
   "source": [
    "<a id=\"toc\"></a>\n",
    "\n",
    "### <p style=\"background-color:#9d4f8c; font-family:newtimeroman; color:#FFF9ED; font-size:175%; text-align:center; border-radius:10px 10px;\">else</p>"
   ]
  },
  {
   "cell_type": "markdown",
   "id": "6e4a1932",
   "metadata": {},
   "source": [
    "![python.exe](https://drive.google.com/uc?id=17d2rPwIOh38vS0pZE1W7QkljqHz0A1Ez)"
   ]
  },
  {
   "cell_type": "code",
   "execution_count": null,
   "id": "1c836ed5",
   "metadata": {},
   "outputs": [],
   "source": [
    "try:\n",
    "    x = 4 / 1\n",
    "except:\n",
    "    print(\"Something went wrong\")\n",
    "else:\n",
    "    print(\"Nothing went wrong\")\n",
    "    \n",
    "# else clause executes, because there is no exception"
   ]
  },
  {
   "cell_type": "markdown",
   "id": "37757770",
   "metadata": {},
   "source": [
    "<a id=\"toc\"></a>\n",
    "\n",
    "### <p style=\"background-color:#9d4f8c; font-family:newtimeroman; color:#FFF9ED; font-size:175%; text-align:center; border-radius:10px 10px;\">finally</p>"
   ]
  },
  {
   "cell_type": "markdown",
   "id": "bde97fb2",
   "metadata": {},
   "source": [
    "![python.exe](https://drive.google.com/uc?id=1PykHm_wtzeWHiFjXVto5J2Y7PRb6tQnN)"
   ]
  },
  {
   "cell_type": "code",
   "execution_count": null,
   "id": "9dbdaea9",
   "metadata": {},
   "outputs": [],
   "source": [
    "try:\n",
    "    x = 3 / 0\n",
    "except:\n",
    "    print(\"Something went wrong\")\n",
    "finally:\n",
    "    print(\"Always execute this\")"
   ]
  },
  {
   "cell_type": "code",
   "execution_count": null,
   "id": "4fbc9f5a",
   "metadata": {},
   "outputs": [],
   "source": [
    "try:\n",
    "    f = open('myfile.txt')\n",
    "    print(f.read())\n",
    "except:\n",
    "    print(\"Something went wrong\")\n",
    "finally:\n",
    "    f.close()"
   ]
  },
  {
   "cell_type": "markdown",
   "id": "a1eda9d4",
   "metadata": {},
   "source": [
    "<a id=\"toc\"></a>\n",
    "\n",
    "### <p style=\"background-color:#9d4f8c; font-family:newtimeroman; color:#FFF9ED; font-size:175%; text-align:center; border-radius:10px 10px;\">Several Handling Scenarios</p>"
   ]
  },
  {
   "cell_type": "code",
   "execution_count": null,
   "id": "2a941351",
   "metadata": {},
   "outputs": [],
   "source": [
    "try:\n",
    "    x = 2/0\n",
    "\n",
    "except ZeroDivisionError:\n",
    "    print('You are trying to divide by zero')\n",
    "except:\n",
    "    print('Something else went wrong')"
   ]
  },
  {
   "cell_type": "code",
   "execution_count": null,
   "id": "de57b513",
   "metadata": {},
   "outputs": [],
   "source": [
    "y"
   ]
  },
  {
   "cell_type": "code",
   "execution_count": null,
   "id": "787876c1",
   "metadata": {},
   "outputs": [],
   "source": [
    "try:\n",
    "    y\n",
    "except ZeroDivisionError:\n",
    "    print('You are trying to divide by zero')\n",
    "except:\n",
    "    print('Something else went wrong')"
   ]
  },
  {
   "cell_type": "code",
   "execution_count": null,
   "id": "3436037e",
   "metadata": {},
   "outputs": [],
   "source": [
    "try:\n",
    "    y\n",
    "except ZeroDivisionError:\n",
    "    print('You are trying to divide by zero')\n",
    "except NameError:\n",
    "    print('The wrong is related to name error')\n",
    "except:\n",
    "    print('Something else went wrong')"
   ]
  },
  {
   "cell_type": "code",
   "execution_count": null,
   "id": "16289622",
   "metadata": {},
   "outputs": [],
   "source": [
    "int(\"ten\")\n"
   ]
  },
  {
   "cell_type": "code",
   "execution_count": null,
   "id": "24535326",
   "metadata": {},
   "outputs": [],
   "source": [
    "try:\n",
    "    int(\"on\")\n",
    "except ZeroDivisionError:\n",
    "    print('You are trying to divide by zero')\n",
    "except NameError:\n",
    "    print('The wrong is related to name error')\n",
    "except:\n",
    "    print('Something else went wrong')"
   ]
  },
  {
   "cell_type": "markdown",
   "id": "c4fe6ded",
   "metadata": {},
   "source": [
    "why the last \"except\" executed? did you get it?"
   ]
  },
  {
   "cell_type": "code",
   "execution_count": null,
   "id": "019875dc",
   "metadata": {},
   "outputs": [],
   "source": [
    "try:\n",
    "    int(\"on\")\n",
    "    \n",
    "except ZeroDivisionError:\n",
    "    print('You are trying to divide by zero')\n",
    "except NameError:\n",
    "    print('The wrong is related to name error')\n",
    "except (ValueError, TypeError):\n",
    "    print('The wrong is related to value or type error')\n",
    "except:\n",
    "    print('Something else went wrong')    "
   ]
  },
  {
   "cell_type": "code",
   "execution_count": null,
   "id": "1e4f3326",
   "metadata": {},
   "outputs": [],
   "source": [
    "try:\n",
    "    4 + \"4\"\n",
    "    \n",
    "except ZeroDivisionError:\n",
    "    print('You are trying to divide by zero')\n",
    "except NameError:\n",
    "    print('The wrong is related to name error')\n",
    "except (ValueError, TypeError):\n",
    "    print('The wrong is related to value or type error')\n",
    "except:\n",
    "    print('Something else went wrong')"
   ]
  },
  {
   "cell_type": "markdown",
   "id": "bd1b8fa1",
   "metadata": {},
   "source": [
    "<a id=\"toc\"></a>\n",
    "\n",
    "### <p style=\"background-color:#9d4f8c; font-family:newtimeroman; color:#FFF9ED; font-size:175%; text-align:center; border-radius:10px 10px;\">Exception Hierarchy</p>"
   ]
  },
  {
   "cell_type": "markdown",
   "id": "0dad6308",
   "metadata": {},
   "source": [
    "[Exception Hierarchy-docs.python.org](https://docs.python.org/3/library/exceptions.html#exception-hierarchy)"
   ]
  },
  {
   "cell_type": "code",
   "execution_count": null,
   "id": "e2008441",
   "metadata": {},
   "outputs": [],
   "source": [
    "try:\n",
    "    4 / 0\n",
    "except ArithmeticError: \n",
    "    print('You are trying to divide by zero')\n",
    "except NameError:\n",
    "    print('The wrong is related to name error')\n",
    "except (ValueError, TypeError):\n",
    "    print('The wrong is related to value or type error')\n",
    "except:\n",
    "    print('Something else went wrong')"
   ]
  },
  {
   "cell_type": "markdown",
   "id": "7809dacc",
   "metadata": {},
   "source": [
    "<a id=\"toc\"></a>\n",
    "\n",
    "### <p style=\"background-color:#9d4f8c; font-family:newtimeroman; color:#FFF9ED; font-size:175%; text-align:center; border-radius:10px 10px;\">Task</p>"
   ]
  },
  {
   "cell_type": "markdown",
   "id": "b27f3f1e",
   "metadata": {},
   "source": [
    "![python.exe](https://drive.google.com/uc?id=1ME-O05KVaUFK2gdy7KDnC4sg6kD6RRde)"
   ]
  },
  {
   "cell_type": "code",
   "execution_count": null,
   "id": "2586ff34",
   "metadata": {},
   "outputs": [],
   "source": [
    "fruits = [\"banana\", \"mango\", \"pear\", \"apple\", \"kiwi\", \"grape\"]"
   ]
  },
  {
   "cell_type": "code",
   "execution_count": null,
   "id": "7f2193d8",
   "metadata": {},
   "outputs": [],
   "source": [
    "while True :\n",
    "    \n",
    "    try :\n",
    "        index = int(input(\"Pick an index number :\")) \n",
    "       \n",
    "        print(\"Your favorite fruit is\", fruits[index]) \n",
    "        break \n",
    "    \n",
    "    except IndexError :\n",
    "        print(\"There is no such an index. Try again!\")\n",
    "        \n",
    "    except ValueError :\n",
    "        print(\"You should enter integer. Try again!\")"
   ]
  },
  {
   "cell_type": "markdown",
   "id": "06d96aaf",
   "metadata": {},
   "source": [
    "<a id=\"toc\"></a>\n",
    "\n",
    "### <p style=\"background-color:#9d4f8c; font-family:newtimeroman; color:#FFF9ED; font-size:175%; text-align:center; border-radius:10px 10px;\">Task</p>"
   ]
  },
  {
   "cell_type": "markdown",
   "id": "83b9191c",
   "metadata": {},
   "source": [
    "![python.exe](https://drive.google.com/uc?id=1eS3Yonm1nbJLEJFvPriefB2CPNhhynHt)"
   ]
  },
  {
   "cell_type": "code",
   "execution_count": null,
   "id": "384b612f",
   "metadata": {},
   "outputs": [],
   "source": [
    "fruits = [\"banana\", \"mango\", \"pear\", \"apple\", \"kiwi\", \"grape\"]\n",
    "\n",
    "counter = 3\n",
    "\n",
    "while counter > 0 : \n",
    "    try :\n",
    "        print(f\"you have {counter} right.\") \n",
    "        index = int(input(\"pick an index number.\"))  \n",
    "        print(\"Your favorite fruit is\", fruits[index]) \n",
    "        \n",
    "    except IndexError :  \n",
    "        counter -= 1  \n",
    "        print(f\"Index error raised. You have {counter} left. Try again!\")\n",
    "\n",
    "    except ValueError :\n",
    "        counter -= 1\n",
    "        print(f\"Value error. You have {counter} left. Try again!\")  \n",
    "    else :\n",
    "        print(\"Congrats! You've entered valid input.\")\n",
    "        break             \n",
    "        \n",
    "    finally :\n",
    "        print(\"Our fruits are always fresh!\")"
   ]
  },
  {
   "cell_type": "markdown",
   "id": "dcecdd3a",
   "metadata": {},
   "source": [
    "**if we don't want it to write \"try again\" in case the rights are exhausted\n",
    "we can use \"if-else\"**"
   ]
  },
  {
   "cell_type": "code",
   "execution_count": null,
   "id": "fb371002",
   "metadata": {},
   "outputs": [],
   "source": [
    "\n",
    "\n",
    "fruits = [\"banana\", \"mango\", \"pear\", \"apple\", \"kiwi\", \"grape\"]\n",
    "\n",
    "counter = 3\n",
    "\n",
    "while counter > 0 : \n",
    "    try :\n",
    "        index = int(input(\"pick an index number.\"))  \n",
    "        print(\"Your favorite fruit is\", fruits[index])  \n",
    "\n",
    "    except IndexError :  \n",
    "        counter -= 1  \n",
    "        if counter != 0 :\n",
    "            print(f\"Value error. You have {counter} left. Try again!\")\n",
    "        else :\n",
    "            print(f\"Value error. Sorry you have no right left\")\n",
    "\n",
    "    except ValueError :\n",
    "        counter -= 1\n",
    "        if counter != 0 :\n",
    "            print(f\"Value error. You have {counter} left. Try again!\")\n",
    "        else :\n",
    "            print(f\"Value error.  Sorry you have no right left\")\n",
    "\n",
    "    else :\n",
    "        print(\"Congrats! You've entered valid input.\")\n",
    "        break             \n",
    "        \n",
    "    finally :\n",
    "        print(\"Our fruits are always fresh!\")"
   ]
  },
  {
   "cell_type": "markdown",
   "id": "2e387118",
   "metadata": {},
   "source": [
    "<a id=\"toc\"></a>\n",
    "\n",
    "## <p style=\"background-color:#9d4f8c; font-family:newtimeroman; color:#FFF9ED; font-size:175%; text-align:center; border-radius:10px 10px;\">An Algorithm Exercise</p>\n",
    " "
   ]
  },
  {
   "cell_type": "markdown",
   "id": "2ab8b6cb",
   "metadata": {},
   "source": [
    "<a id=\"toc\"></a>\n",
    "\n",
    "### <p style=\"background-color:#0D8D99; font-family:newtimeroman; color:#FFF9ED; font-size:175%; text-align:center; border-radius:10px 10px;\">Password Generator</p> "
   ]
  },
  {
   "cell_type": "markdown",
   "id": "30f2d4a8",
   "metadata": {},
   "source": [
    "<hr>\n",
    "\n",
    "When you sign up for some websites, they require you to choose a strong password. Sometimes, they even reject simple passwords that you choose.\n",
    "\n",
    "The strength of the password increases depending on the number of characters, diversity of characters, and the use of special characters. The more diverse characters you use, the harder it is to crack the password.\n",
    "\n",
    "Now, we will create a secure password generator together. We will create a function that will generate a password for us.\n",
    "\n",
    "Our password will include letters, numbers, and special characters.\n",
    "<hr>"
   ]
  },
  {
   "cell_type": "markdown",
   "id": "01576ef3",
   "metadata": {},
   "source": [
    "<hr>\n",
    "\n",
    "I want my password to contain random characters. If I need to perform a random selection process in my program, then the 'random' module comes to my mind.\n",
    "\n",
    "I am thinking that since the password will be generated from the characters entered from the keyboard, I can collect the characters on the keyboard in a list. \n",
    "\n",
    "Then, using the random module, I can select random characters from this list. This list doesn't have to be a single list. I can create separate lists for numerical, alphabetical, and special characters.\n",
    "\n",
    "Now, the question arises as to how I will choose these characters? Of course, I will select them based on their ASCII codes.\n",
    "\n",
    "I can use the ASCII table in the following link for this purpose:\n",
    "\n",
    "[ASCII-Table.pdf](https://www.101computing.net/wp/wp-content/uploads/ASCII-Table.pdf)\n",
    "<hr>"
   ]
  },
  {
   "cell_type": "markdown",
   "id": "961058d8",
   "metadata": {},
   "source": [
    "![python.exe](https://drive.google.com/uc?id=1hFyjOe2m2CzZsatmsN-20zSHRqC2xx-8)"
   ]
  },
  {
   "cell_type": "markdown",
   "id": "81ea5d23",
   "metadata": {},
   "source": [
    "small letters, capital letters, special characters, numbers, they're all here. These ASCII numbers will do the job for me."
   ]
  },
  {
   "cell_type": "code",
   "execution_count": null,
   "id": "c41679e6",
   "metadata": {},
   "outputs": [],
   "source": [
    "import random "
   ]
  },
  {
   "cell_type": "code",
   "execution_count": null,
   "id": "e33e4083",
   "metadata": {},
   "outputs": [],
   "source": [
    "random.  # (TAB) "
   ]
  },
  {
   "cell_type": "code",
   "execution_count": null,
   "id": "f8b9783d",
   "metadata": {},
   "outputs": [],
   "source": [
    "random.shuffle()   # (SHIFT + TAB + TAB)\n",
    "\n",
    "# Docstring: Shuffle list x in place, and return None."
   ]
  },
  {
   "cell_type": "code",
   "execution_count": null,
   "id": "22f46d80",
   "metadata": {},
   "outputs": [],
   "source": [
    "random.randint()   # (SHIFT + TAB + TAB)"
   ]
  },
  {
   "cell_type": "code",
   "execution_count": null,
   "id": "6ce4c168",
   "metadata": {},
   "outputs": [],
   "source": [
    "random.randint(10, 30)\n",
    "\n",
    "# Docstring: Return random integer in range [a, b], including both end points.\n",
    "# \"It generated a random value between 10 and 30.\n",
    "\n",
    "# This is just what we need."
   ]
  },
  {
   "cell_type": "markdown",
   "id": "4827fe2f",
   "metadata": {},
   "source": [
    "![python.exe](https://drive.google.com/uc?id=1Iqg0PZpIBS7YoXGgTYzWgkTnAErBvkID)"
   ]
  },
  {
   "cell_type": "markdown",
   "id": "5c0316c9",
   "metadata": {},
   "source": [
    "I will pass the numbers in this table as arguments to the randint() function, which will choose a random number from them for me. \n",
    "\n",
    "Then, I will use the character corresponding to that number to generate my password.\n",
    "\n",
    "And I will use the **chr()** function to find the character corresponding to the ASCII number:"
   ]
  },
  {
   "cell_type": "code",
   "execution_count": null,
   "id": "9a080189",
   "metadata": {},
   "outputs": [],
   "source": [
    "chr(111)"
   ]
  },
  {
   "cell_type": "markdown",
   "id": "0b177762",
   "metadata": {},
   "source": [
    "The ASCII numbers between 97 and 122 correspond to lowercase characters:"
   ]
  },
  {
   "cell_type": "code",
   "execution_count": null,
   "id": "fa7e5d1b",
   "metadata": {},
   "outputs": [],
   "source": [
    "chr(random.randint(97, 122)) \n",
    "\n",
    "# Look, it selected a random lowercase letter for me."
   ]
  },
  {
   "cell_type": "markdown",
   "id": "575229a9",
   "metadata": {},
   "source": [
    "The ASCII numbers between 65 and 90 correspond to uppercase characters:"
   ]
  },
  {
   "cell_type": "code",
   "execution_count": null,
   "id": "034b599c",
   "metadata": {},
   "outputs": [],
   "source": [
    "chr(random.randint(65, 90))"
   ]
  },
  {
   "cell_type": "markdown",
   "id": "76fce2dc",
   "metadata": {},
   "source": [
    "The ASCII numbers between 48 and 57 correspond to digit characters:"
   ]
  },
  {
   "cell_type": "code",
   "execution_count": null,
   "id": "d6642732",
   "metadata": {},
   "outputs": [],
   "source": [
    "chr(random.randint(48, 57))"
   ]
  },
  {
   "cell_type": "markdown",
   "id": "d70d99b1",
   "metadata": {},
   "source": [
    "The ASCII numbers between 33 and 47 correspond to special characters:"
   ]
  },
  {
   "cell_type": "code",
   "execution_count": null,
   "id": "65845693",
   "metadata": {},
   "outputs": [],
   "source": [
    "chr(random.randint(33, 47))"
   ]
  },
  {
   "cell_type": "code",
   "execution_count": null,
   "id": "dc891ae1",
   "metadata": {},
   "outputs": [],
   "source": [
    "chr(random.randint(58, 64))"
   ]
  },
  {
   "cell_type": "markdown",
   "id": "9b2610bc",
   "metadata": {},
   "source": [
    "I want to use all these returned values in an algorithm.\n",
    "\n",
    "In our password:\n",
    "- Let's have 3 uppercase letters,\n",
    "- 3 lowercase letters,\n",
    "- 3 numbers,\n",
    "- and 2 special characters.\n",
    "\n",
    "This is my decision, but you can customize this combination for yourself."
   ]
  },
  {
   "cell_type": "markdown",
   "id": "b7049793",
   "metadata": {},
   "source": [
    "<hr>\n",
    "\n",
    "**I will use a for loop that will run 3 times inside a list comprehension.** \n",
    "\n",
    "In each iteration of the loop, it will generate a random character and make that character an element of the list.\n",
    "\n",
    "Let's remember the syntax of list comprehension:"
   ]
  },
  {
   "cell_type": "markdown",
   "id": "70ae15f2",
   "metadata": {},
   "source": [
    "``` python\n",
    "uppers = [code body for in range(3)]\n",
    "```"
   ]
  },
  {
   "cell_type": "markdown",
   "id": "ad5e2d56",
   "metadata": {},
   "source": [
    "Let's implement this in our code:"
   ]
  },
  {
   "cell_type": "code",
   "execution_count": null,
   "id": "532da5e8",
   "metadata": {},
   "outputs": [],
   "source": [
    "uppers = [chr(random.randint(65, 90)) for i in range(3)]\n",
    "uppers"
   ]
  },
  {
   "cell_type": "code",
   "execution_count": null,
   "id": "e0697f67",
   "metadata": {},
   "outputs": [],
   "source": [
    "lowers = [chr(random.randint(97, 122)) for i in range(3)]\n",
    "lowers"
   ]
  },
  {
   "cell_type": "code",
   "execution_count": null,
   "id": "e06fe676",
   "metadata": {},
   "outputs": [],
   "source": [
    "numbers = [chr(random.randint(48,57)) for i in range(3)]\n",
    "numbers"
   ]
  },
  {
   "cell_type": "markdown",
   "id": "7b97453c",
   "metadata": {},
   "source": [
    "Since I will take only one character from each range of special characters, I don't need to use a loop. \n",
    "\n",
    "I will take one character from the ASCII codes between 33-47 and another one from the ASCII codes between 58-64. \n",
    "\n",
    "Then, I will concatenate them using the '+' operator:"
   ]
  },
  {
   "cell_type": "code",
   "execution_count": null,
   "id": "1a02c3da",
   "metadata": {},
   "outputs": [],
   "source": [
    "chars = chr(random.randint(33,47))+chr(random.randint(58,64))\n",
    "chars"
   ]
  },
  {
   "cell_type": "markdown",
   "id": "7906dc7e",
   "metadata": {},
   "source": [
    "Now we need to combine all these generated characters. \n",
    "\n",
    "I will concatenate all the characters generated earlier (numbers, uppers, lowers, and chars) into a single string, and this will be the password.\n",
    "\n",
    "I will join each element in the list by using an empty string as a separator. This will concatenate them all together. We can use the join() method of strings to achieve this:"
   ]
  },
  {
   "cell_type": "code",
   "execution_count": null,
   "id": "42ccdf65",
   "metadata": {},
   "outputs": [],
   "source": [
    "\"-\".join(numbers)"
   ]
  },
  {
   "cell_type": "code",
   "execution_count": null,
   "id": "8c02f883",
   "metadata": {},
   "outputs": [],
   "source": [
    "\"\".join(numbers)"
   ]
  },
  {
   "cell_type": "code",
   "execution_count": null,
   "id": "5770d10f",
   "metadata": {},
   "outputs": [],
   "source": [
    "passw = \"\".join(uppers) + \"\".join(lowers) + \"\".join(numbers) + chars\n",
    "passw"
   ]
  },
  {
   "cell_type": "markdown",
   "id": "8d9bb8b4",
   "metadata": {},
   "source": [
    "### Now let's shuffle the password:\n",
    "\n",
    "**To make the password stronger, I need to shuffle it since it's currently in a sequential order.** \n",
    "\n",
    "**To do this, I will use the shuffle() function that I came across while exploring the random module.**"
   ]
  },
  {
   "cell_type": "code",
   "execution_count": null,
   "id": "d651bb7d",
   "metadata": {},
   "outputs": [],
   "source": [
    "random.shuffle()  (SHIFT + TAB + TAB)\n",
    "\n",
    "# Docstring: Shuffle list x in place, and return None."
   ]
  },
  {
   "cell_type": "markdown",
   "id": "ecc5a060",
   "metadata": {},
   "source": [
    "When reading the docstring of shuffle() function, I learn that it shuffles a list.\n",
    "\n",
    "Therefore, I need to convert the password into a list first, and shuffle the list consisting of password elements. \n",
    "\n",
    "Then, I will convert the shuffled list back to a string to be able to use it as a password. Of course, I will do this using the join() method again."
   ]
  },
  {
   "cell_type": "code",
   "execution_count": null,
   "id": "522b77e1",
   "metadata": {},
   "outputs": [],
   "source": [
    "pass_list = list(passw)\n",
    "pass_list"
   ]
  },
  {
   "cell_type": "code",
   "execution_count": null,
   "id": "4a0fe41e",
   "metadata": {},
   "outputs": [],
   "source": [
    "random.shuffle(pass_list)  # shuffle the list object."
   ]
  },
  {
   "cell_type": "code",
   "execution_count": null,
   "id": "417185f7",
   "metadata": {},
   "outputs": [],
   "source": [
    "pass_list"
   ]
  },
  {
   "cell_type": "code",
   "execution_count": null,
   "id": "f7f71bb4",
   "metadata": {},
   "outputs": [],
   "source": [
    "\"\".join(pass_list)  # convert the list to a string."
   ]
  },
  {
   "cell_type": "markdown",
   "id": "85fb5962",
   "metadata": {},
   "source": [
    "### Now let's define a function that performs this shuffle operation. \n",
    "\n",
    "**We will pass the generated password to the function, and it will shuffle the characters of the password and return the final version of our password.**"
   ]
  },
  {
   "cell_type": "code",
   "execution_count": null,
   "id": "a0a63f4c",
   "metadata": {},
   "outputs": [],
   "source": [
    "def shuffle(password):\n",
    "    templist = list(password)  # Since the shuffle() function takes a list inside,\n",
    "                            # I temporarily converted the password string to a list first.\n",
    "    random.shuffle(templist)  # shuffle the password characters in the templist \n",
    "    return \"\".join(templist)   # return a string from the templist which has been shuffled."
   ]
  },
  {
   "cell_type": "code",
   "execution_count": null,
   "id": "4c66ea9e",
   "metadata": {},
   "outputs": [],
   "source": [
    "passw"
   ]
  },
  {
   "cell_type": "code",
   "execution_count": null,
   "id": "c925dc30",
   "metadata": {},
   "outputs": [],
   "source": [
    "print(shuffle(passw))  # print the shuffled password that returned from shuffle"
   ]
  }
 ],
 "metadata": {
  "kernelspec": {
   "display_name": "Python 3 (ipykernel)",
   "language": "python",
   "name": "python3"
  },
  "language_info": {
   "codemirror_mode": {
    "name": "ipython",
    "version": 3
   },
   "file_extension": ".py",
   "mimetype": "text/x-python",
   "name": "python",
   "nbconvert_exporter": "python",
   "pygments_lexer": "ipython3",
   "version": "3.9.12"
  }
 },
 "nbformat": 4,
 "nbformat_minor": 5
}
