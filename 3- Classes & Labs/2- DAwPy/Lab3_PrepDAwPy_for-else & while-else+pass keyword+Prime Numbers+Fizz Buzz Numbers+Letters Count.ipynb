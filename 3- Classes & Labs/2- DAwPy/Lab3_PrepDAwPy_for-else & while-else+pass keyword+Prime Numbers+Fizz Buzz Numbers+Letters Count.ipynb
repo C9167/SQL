{
 "cells": [
  {
   "cell_type": "markdown",
   "id": "03739c2e",
   "metadata": {},
   "source": [
    "![python.exe](https://drive.google.com/uc?id=1oY07NFR8n0Q3oP9CwwxLWh40cGEb_YkU)"
   ]
  },
  {
   "cell_type": "markdown",
   "id": "0ecddc8c",
   "metadata": {},
   "source": [
    "<a id=\"toc\"></a>\n",
    "\n",
    "# <p style=\"background-color:#0D8D99; font-family:newtimeroman; color:#FFF9ED; font-size:175%; text-align:center; border-radius:10px 10px;\">Lab3 Prep DAwPy</p>"
   ]
  },
  {
   "cell_type": "markdown",
   "id": "c74365f6",
   "metadata": {},
   "source": [
    "<div class=\"alert alert-block alert-info\"><h1><p style=\"text-align: center; color:purple\"><font color=darkblue><b>Some Practical Use Cases</b></font><br><br>\"for-else\" & \"while-else\" structure<br><br>\"pass\" keyword<br><br><font color=darkblue>Some Algorithm Exercises</font><br><br>Prime Numbers & Fizz Buzz Numbers & Letters Count</p>"
   ]
  },
  {
   "cell_type": "markdown",
   "id": "b86c6138",
   "metadata": {},
   "source": [
    "## for-else structure :"
   ]
  },
  {
   "cell_type": "markdown",
   "id": "c5e270e7",
   "metadata": {},
   "source": [
    "for loops also have an else clause which most of us are unfamiliar with. \n",
    "\n",
    "**The \"else\" clause executes after the loop completes normally.** \n",
    "\n",
    "**This means that the loop did not encounter a \"break\" statement.** "
   ]
  },
  {
   "cell_type": "code",
   "execution_count": 1,
   "id": "0ca9d463",
   "metadata": {},
   "outputs": [
    {
     "name": "stdout",
     "output_type": "stream",
     "text": [
      "0\n",
      "1\n",
      "2\n",
      "3\n",
      "4\n",
      "the code block of 'else' executed.\n"
     ]
    }
   ],
   "source": [
    "for i in range(5):\n",
    "    print(i)\n",
    "else :\n",
    "    print(\"the code block of 'else' executed.\")\n",
    "\n",
    "# since there was no 'break' statement, the 'else' block was executed."
   ]
  },
  {
   "cell_type": "markdown",
   "id": "849e253f",
   "metadata": {},
   "source": [
    "Then, what was the point of the 'else' statement?<br>\n",
    "In fact, it didn't really serve a purpose, and we could have achieved the same output without it. \n",
    "\n",
    "In Python, **the 'else' keyword used in conjunction with a 'for' loop only gains significance when used with the 'break' keyword.**\n",
    "\n",
    "If the loop was terminated using the **'break'** keyword, the 'else' block will not execute, but if it was not terminated using 'break', then the 'else' block will execute. \n",
    "\n",
    "In the example above, **since there was no 'break' statement, the 'else' block was executed.**"
   ]
  },
  {
   "cell_type": "markdown",
   "id": "0fe52de0",
   "metadata": {},
   "source": [
    "<hr>\n",
    "\n",
    "**Typically, when searching for an item within a loop, we use the \"break\" statement to exit the loop once the item is found.**\n",
    "\n",
    "However, there are two possible ways the loop may terminate:<br> \n",
    "either the item is found and **\"break\"** is executed,<br> \n",
    "or the loop completes without encountering a **\"break\"** statement. \n",
    "\n",
    "To determine which scenario caused the loop to end, we can either set a flag within the loop and check it after the loop has completed, or use the **\"else\"** clause.<hr>"
   ]
  },
  {
   "cell_type": "markdown",
   "id": "57f0ec39",
   "metadata": {},
   "source": [
    "Let's say we have a string and we want to check if the letter 'a' is present in it. If it is, we want to print a message indicating its presence on the screen:"
   ]
  },
  {
   "cell_type": "code",
   "execution_count": 11,
   "id": "1e84f10f",
   "metadata": {},
   "outputs": [
    {
     "name": "stdout",
     "output_type": "stream",
     "text": [
      "the letter 'a' is found in the text.\n",
      "the letter 'a' is found in the text.\n",
      "the letter 'a' is found in the text.\n",
      "the letter 'a' is found in the text.\n",
      "the letter 'a' is found in the text.\n"
     ]
    }
   ],
   "source": [
    "text = \"We are covering the final laboratory class this evening.\"\n",
    "\n",
    "for letter in text :\n",
    "    if letter == \"a\" :\n",
    "        print(\"the letter 'a' is found in the text.\")"
   ]
  },
  {
   "cell_type": "markdown",
   "id": "d3ad1f09",
   "metadata": {},
   "source": [
    "As you can see, in each iteration of the 'for' loop, it checked one character of the 'text' string and printed a message every time it found the letter 'a'.\n",
    "\n",
    "However, if we want to only check if the letter 'a' is present in the 'text' string, we need to ensure that the loop stops as soon as it finds the first occurrence of 'a'. This is where the **'break'** keyword comes in.\n",
    "\n",
    "Once the condition for finding the letter 'a' is met, the **'break'** keyword will execute, and the loop will terminate at that point."
   ]
  },
  {
   "cell_type": "code",
   "execution_count": 10,
   "id": "ebb7af74",
   "metadata": {},
   "outputs": [
    {
     "name": "stdout",
     "output_type": "stream",
     "text": [
      "the letter 'a' is found in the text.\n"
     ]
    }
   ],
   "source": [
    "text = \"We are covering the final laboratory class this evening.\"\n",
    "\n",
    "for letter in text :\n",
    "    if letter == \"a\" :\n",
    "        print(\"the letter 'a' is found in the text.\")\n",
    "        break  "
   ]
  },
  {
   "cell_type": "markdown",
   "id": "bcaf54a6",
   "metadata": {},
   "source": [
    "Now, let's use a for loop to check if the 'a' character exists in the text and print 'the letter \"a\" is not found' to the screen if it is not found.\n",
    "\n",
    "Note that you can do this simply using only an **if statement** and the **'in'** operator in its condition without using a for loop. **Our goal here is to demonstrate what the for-else structure is used for.**"
   ]
  },
  {
   "cell_type": "code",
   "execution_count": 9,
   "id": "fd893faf",
   "metadata": {
    "scrolled": true
   },
   "outputs": [
    {
     "name": "stdout",
     "output_type": "stream",
     "text": [
      "the letter 'a' is NOT found in the text.\n"
     ]
    }
   ],
   "source": [
    "text = \"Orion instructor likes this cohort.\"\n",
    "\n",
    "for letter in text :\n",
    "    if letter == \"a\" :\n",
    "        print(\"the letter 'a' is found in the text.\")\n",
    "        break  \n",
    "else : \n",
    "    print(\"the letter 'a' is NOT found in the text.\")"
   ]
  },
  {
   "cell_type": "markdown",
   "id": "2388222d",
   "metadata": {},
   "source": [
    "## while - else usage:"
   ]
  },
  {
   "cell_type": "code",
   "execution_count": 15,
   "id": "79e264a8",
   "metadata": {},
   "outputs": [
    {
     "name": "stdout",
     "output_type": "stream",
     "text": [
      "10\n"
     ]
    }
   ],
   "source": [
    "a = 1\n",
    "\n",
    "while a < 10 :  # While a is less than 10\n",
    "    a += 1    # a is incremented by 1\n",
    "else :        # If a is not less than 10\n",
    "    print(a)  # the value of a is printed to the screen"
   ]
  },
  {
   "cell_type": "markdown",
   "id": "a795c30b",
   "metadata": {},
   "source": [
    "## \"pass\" keyword:"
   ]
  },
  {
   "cell_type": "markdown",
   "id": "fa270b4c",
   "metadata": {},
   "source": [
    "<hr>\n",
    "\n",
    "In Python we may sometimes need an empty statement. In such cases, we can use the **pass** keyword.\n",
    "\n",
    "**pass** is used in Python to indicate that it is an empty statement. **This statement is skipped by the Python interpreter and does nothing.**<hr>"
   ]
  },
  {
   "cell_type": "markdown",
   "id": "c79c9b4d",
   "metadata": {},
   "source": [
    "**pass keyword in a function:**\n",
    "\n",
    "It is particularly useful when we haven't defined a **function** or class yet. Instead of leaving it empty, we can use the pass keyword to create a template. For example:"
   ]
  },
  {
   "cell_type": "code",
   "execution_count": 12,
   "id": "f77a17cf",
   "metadata": {},
   "outputs": [],
   "source": [
    "def my_function():\n",
    "    pass\n",
    "\n",
    "# This creates an empty template for the my_function function. \n",
    "# We can later fill in the template to make the function fit its purpose."
   ]
  },
  {
   "cell_type": "markdown",
   "id": "ae81c12d",
   "metadata": {},
   "source": [
    "**pass keyword in an if statement:**\n",
    "\n",
    "Additionally, the **pass** keyword can also be used for an unfinished code block within an **if statement**, allowing us to leave a temporary blank space in our code\n",
    "\n",
    "For example:"
   ]
  },
  {
   "cell_type": "code",
   "execution_count": 14,
   "id": "34b5698a",
   "metadata": {},
   "outputs": [
    {
     "name": "stdout",
     "output_type": "stream",
     "text": [
      "x is positive\n"
     ]
    }
   ],
   "source": [
    "x = 1\n",
    "\n",
    "if x < 0:\n",
    "    pass  # there's nothing to do yet\n",
    "else:\n",
    "    print(\"x is positive\")"
   ]
  },
  {
   "cell_type": "markdown",
   "id": "7ac2bf98",
   "metadata": {},
   "source": [
    "**pass keyword in a for loop:**\n",
    "\n",
    "If we don't want to perform any operation in the code block of a **for loop** but also don't want our code to throw an error, we can use the 'pass' keyword."
   ]
  },
  {
   "cell_type": "code",
   "execution_count": 7,
   "id": "62a27310",
   "metadata": {},
   "outputs": [
    {
     "name": "stdout",
     "output_type": "stream",
     "text": [
      "9\n"
     ]
    }
   ],
   "source": [
    "for i in range(10) :\n",
    "    pass   \n",
    "else :\n",
    "    print(i)\n",
    "    \n",
    "# The variable \"i\" was expected to be used inside the code block of the for loop, \n",
    "# but I did not use it. However, I did not receive any errors!"
   ]
  },
  {
   "cell_type": "markdown",
   "id": "d3d8ad55",
   "metadata": {},
   "source": [
    "<a id=\"toc\"></a>\n",
    "\n",
    "### <p style=\"background-color:#9d4f8c; font-family:newtimeroman; color:#FFF9ED; font-size:175%; text-align:center; border-radius:10px 10px;\">Task 1 - Prime Numbers</p>"
   ]
  },
  {
   "cell_type": "markdown",
   "id": "0ba54866",
   "metadata": {},
   "source": [
    "<div class=\"alert alert-block alert-info\">\n",
    "<font color=blue><b>Task :</b></font>\n",
    "<font color=red><b>Print the prime numbers which are between 1 to entered limit number (n).</b></font><br><br>\n",
    "<font color=darkblue>   \n",
    "<ol>\n",
    " <li>You can use a nested for loop.</li>\n",
    " <li>Collect all these numbers into a list</li>\n",
    " <li>The desired output for n=100 :</li>\n",
    "</ol></font>   "
   ]
  },
  {
   "cell_type": "markdown",
   "id": "94bc257b",
   "metadata": {},
   "source": [
    "![python.exe](https://drive.google.com/uc?id=1_bHfV24rNp8OYnKMdElkcVpmgz0xgvhL)"
   ]
  },
  {
   "cell_type": "markdown",
   "id": "00091283",
   "metadata": {},
   "source": [
    "Let's first write a program that finds prime numbers among the numbers from 1 to 10 :"
   ]
  },
  {
   "cell_type": "code",
   "execution_count": 16,
   "id": "c81ef3b2",
   "metadata": {},
   "outputs": [
    {
     "name": "stdout",
     "output_type": "stream",
     "text": [
      "2\n",
      "3\n",
      "5\n",
      "7\n"
     ]
    }
   ],
   "source": [
    "for i in range(2, 10): # For each i from 2 to 10,\n",
    "    \n",
    "    for j in range(2, i): # for each j in the range from 2 to i\"\n",
    "        \n",
    "        if i % j == 0: # If the remainder of i divided by j is 0, that is, if i is divisible by j without a remainder.\n",
    "            break # Then, it means that i has at least one divisor other than 1 and itself.\n",
    "                  # In this case, stop the inner for loop.\n",
    "            \n",
    "    else: # \"If there is no number between 2 and i that evenly divides i, \n",
    "          \n",
    "        print(i) # then print i to the screen.\n",
    "        \n",
    "# When the loop finishes, all i numbers that satisfy the condition checked above will be printed to the screen"
   ]
  },
  {
   "cell_type": "markdown",
   "id": "5e11b7d0",
   "metadata": {},
   "source": [
    "### Let's make the program check prime numbers up to a certain number to be taken from the user:"
   ]
  },
  {
   "cell_type": "code",
   "execution_count": 10,
   "id": "f797f332",
   "metadata": {},
   "outputs": [
    {
     "name": "stdout",
     "output_type": "stream",
     "text": [
      "enter a number to find the prime numbers in it :30\n",
      "2 3 5 7 11 13 17 19 23 29 "
     ]
    }
   ],
   "source": [
    "number = int(input(\"enter a number to find the prime numbers in it :\"))\n",
    "\n",
    "for i in range(2, number) :\n",
    "    for j in range(2, i) :\n",
    "        if i % j == 0 :\n",
    "                break\n",
    "    else:\n",
    "        print(i, end = \" \")"
   ]
  },
  {
   "cell_type": "markdown",
   "id": "c737f5cb",
   "metadata": {},
   "source": [
    "### we can append prime numbers to a list:"
   ]
  },
  {
   "cell_type": "code",
   "execution_count": 12,
   "id": "4738ae90",
   "metadata": {},
   "outputs": [
    {
     "name": "stdout",
     "output_type": "stream",
     "text": [
      "enter a number to find the prime numbers in it :30\n",
      "[2, 3, 5, 7, 11, 13, 17, 19, 23, 29]\n"
     ]
    }
   ],
   "source": [
    "number = int(input(\"enter a number to find the prime numbers in it :\"))\n",
    "prime_list = []\n",
    "\n",
    "for i in range(2, number) :\n",
    "    for j in range(2, i) :\n",
    "        if i % j == 0 :\n",
    "            break\n",
    "    else:\n",
    "        prime_list.append(i)\n",
    "\n",
    "print(prime_list)"
   ]
  },
  {
   "cell_type": "markdown",
   "id": "901921b8",
   "metadata": {},
   "source": [
    "### Solution using a counter:"
   ]
  },
  {
   "cell_type": "code",
   "execution_count": 13,
   "id": "ce66788a",
   "metadata": {},
   "outputs": [
    {
     "name": "stdout",
     "output_type": "stream",
     "text": [
      "enter a number to find the prime numbers in it :30\n",
      "list of prime numbers from 1 to 30 : [2, 3, 5, 7, 11, 13, 17, 19, 23, 29]\n"
     ]
    }
   ],
   "source": [
    "number = int(input(\"enter a number to find the prime numbers in it :\"))\n",
    "prime_list = []\n",
    "\n",
    "for i in range(2, number) :\n",
    "    count = 0\n",
    "    \n",
    "    for j in range(2, i) :\n",
    "        if i % j == 0 :\n",
    "            count += 1 \n",
    "    if count == 0 :\n",
    "        prime_list.append(i)\n",
    "\n",
    "print(f\"list of prime numbers from 1 to {number} : {prime_list}\")"
   ]
  },
  {
   "cell_type": "markdown",
   "id": "4d3656ab",
   "metadata": {},
   "source": [
    "<a id=\"toc\"></a>\n",
    "\n",
    "### <p style=\"background-color:#9d4f8c; font-family:newtimeroman; color:#FFF9ED; font-size:175%; text-align:center; border-radius:10px 10px;\">Task 2 - Fizz Buzz Numbers</p>"
   ]
  },
  {
   "cell_type": "markdown",
   "id": "055fceb9",
   "metadata": {},
   "source": [
    "<div class=\"alert alert-block alert-info\">\n",
    "<font color=blue><b>Task :</b></font>\n",
    "<font color=red><b>Print the Fizz Buzz numbers.</b></font><br><br>\n",
    "<font color=darkblue>\n",
    "<ul>\n",
    " <li>TFizz Buzz is a famous code challenge used in interviews to test basic programming skills. It's time to write your own implementation.</li>\n",
    " <li>Print numbers from 1 to 100 inclusively following these instructions:<br><br></li>\n",
    "<font color=darkred>    \n",
    "<ol>\n",
    " <li>if a number is multiple of 3, print \"Fizz\" instead of this number,</li>\n",
    " <li>if a number is multiple of 5, print \"Buzz\" instead of this number,</li>\n",
    " <li>for numbers that are multiples of both 3 and 5, print \"FizzBuzz\",</li>\n",
    " <li>print the rest of the numbers unchanged.</li>\n",
    "</ol></font></ul>   \n",
    "<font color=blue>Output each value on a separate line.</font>"
   ]
  },
  {
   "cell_type": "markdown",
   "id": "911b66d2",
   "metadata": {},
   "source": [
    "Fizz Buzz is a popular programming interview question that requires a candidate to write a program that outputs numbers from 1 to a given number, with certain conditions applied.\n",
    "\n",
    "The conditions are:<br>\n",
    "\n",
    "If a number is divisible by 3, the program should print \"Fizz\" instead of the number.<br>\n",
    "If a number is divisible by 5, the program should print \"Buzz\" instead of the number.<br>\n",
    "If a number is divisible by both 3 and 5, the program should print \"FizzBuzz\" instead of the number.<br>\n",
    "\n",
    "The Fizz Buzz problem is often used in programming interviews to test a candidate's basic programming skills, logical thinking, and ability to write clean and concise code"
   ]
  },
  {
   "cell_type": "code",
   "execution_count": 17,
   "id": "87ec2076",
   "metadata": {},
   "outputs": [
    {
     "name": "stdout",
     "output_type": "stream",
     "text": [
      "1 2 Fizz 4 Buzz Fizz 7 8 Fizz Buzz 11 Fizz 13 14 FizzBuzz 16 17 Fizz 19 Buzz Fizz 22 23 Fizz Buzz 26 Fizz 28 29 FizzBuzz 31 32 Fizz 34 Buzz Fizz 37 38 Fizz Buzz 41 Fizz 43 44 FizzBuzz 46 47 Fizz 49 Buzz Fizz 52 53 Fizz Buzz 56 Fizz 58 59 FizzBuzz 61 62 Fizz 64 Buzz Fizz 67 68 Fizz Buzz 71 Fizz 73 74 FizzBuzz 76 77 Fizz 79 Buzz Fizz 82 83 Fizz Buzz 86 Fizz 88 89 FizzBuzz 91 92 Fizz 94 Buzz Fizz 97 98 Fizz Buzz "
     ]
    }
   ],
   "source": [
    "for i in range(1, 101):\n",
    "    if i % 3 == 0 and i % 5 == 0:\n",
    "        print(\"FizzBuzz\", end = \" \")\n",
    "    elif i % 3 == 0:\n",
    "        print(\"Fizz\", end = \" \")\n",
    "    elif i % 5 == 0:\n",
    "        print(\"Buzz\", end = \" \")\n",
    "    else:\n",
    "        print(i, end = \" \")"
   ]
  },
  {
   "cell_type": "markdown",
   "id": "e170057b",
   "metadata": {},
   "source": [
    "**We can combine the condition \"i % 3 == 0 and i % 5 == 0\" as \"i % 15 == 0\"**"
   ]
  },
  {
   "cell_type": "code",
   "execution_count": 18,
   "id": "5c30d736",
   "metadata": {},
   "outputs": [
    {
     "name": "stdout",
     "output_type": "stream",
     "text": [
      "1 2 Fizz 4 Buzz Fizz 7 8 Fizz Buzz 11 Fizz 13 14 FizzBuzz 16 17 Fizz 19 Buzz Fizz 22 23 Fizz Buzz 26 Fizz 28 29 FizzBuzz 31 32 Fizz 34 Buzz Fizz 37 38 Fizz Buzz 41 Fizz 43 44 FizzBuzz 46 47 Fizz 49 Buzz Fizz 52 53 Fizz Buzz 56 Fizz 58 59 FizzBuzz 61 62 Fizz 64 Buzz Fizz 67 68 Fizz Buzz 71 Fizz 73 74 FizzBuzz 76 77 Fizz 79 Buzz Fizz 82 83 Fizz Buzz 86 Fizz 88 89 FizzBuzz 91 92 Fizz 94 Buzz Fizz 97 98 Fizz Buzz "
     ]
    }
   ],
   "source": [
    "for i in range(1, 101) :\n",
    "    if i % 15 == 0 :\n",
    "        print(\"FizzBuzz\", end = \" \")\n",
    "    elif i % 3 == 0 :\n",
    "        print(\"Fizz\", end = \" \")\n",
    "    elif i % 5 == 0 :\n",
    "        print(\"Buzz\", end = \" \")\n",
    "    else :\n",
    "        print(i, end = \" \")"
   ]
  },
  {
   "cell_type": "markdown",
   "id": "6545e4fc",
   "metadata": {},
   "source": [
    "# Solution with \"nested ternary expression\" :"
   ]
  },
  {
   "cell_type": "markdown",
   "id": "13fb12d6",
   "metadata": {},
   "source": [
    "![python.exe](https://drive.google.com/uc?id=1QhoObXTxv-Aohs4n9unGRPMtf62YfpXc)"
   ]
  },
  {
   "cell_type": "code",
   "execution_count": 22,
   "id": "ca5638d6",
   "metadata": {},
   "outputs": [
    {
     "data": {
      "text/plain": [
       "'not equal'"
      ]
     },
     "execution_count": 22,
     "metadata": {},
     "output_type": "execute_result"
    }
   ],
   "source": [
    "x, y = 10, 20\n",
    "\n",
    "# Print 'equal' if x is equal to y, otherwise print 'not equal'\n",
    "\"equal\" if x == y else \"not equal\""
   ]
  },
  {
   "cell_type": "code",
   "execution_count": 3,
   "id": "97f17c73",
   "metadata": {},
   "outputs": [],
   "source": [
    "import numpy as np"
   ]
  },
  {
   "cell_type": "code",
   "execution_count": 28,
   "id": "232520d7",
   "metadata": {},
   "outputs": [
    {
     "data": {
      "text/plain": [
       "1.169548185038747"
      ]
     },
     "execution_count": 28,
     "metadata": {},
     "output_type": "execute_result"
    }
   ],
   "source": [
    "np.random.randn()  # Return a sample (or samples) from the \"standard normal\" distribution"
   ]
  },
  {
   "cell_type": "markdown",
   "id": "2f77f05b",
   "metadata": {},
   "source": [
    "**randn() Returns a sample (or samples) from the \"standard normal\" distribution (with a mean of 0).** \n",
    "\n",
    "**Therefore, sometimes this number can be less than 0, and sometimes it can be greater than 0.** \n",
    "\n",
    "**We will use this while checking if the number is less than or greater than 0 in the nested ternary expression we will write shortly**"
   ]
  },
  {
   "cell_type": "markdown",
   "id": "f79c3ed0",
   "metadata": {},
   "source": [
    "![python.exe](https://drive.google.com/uc?id=1Y8oU4fN4CSKs-lU397ZsadKvSS8qoisu)"
   ]
  },
  {
   "cell_type": "code",
   "execution_count": 31,
   "id": "1b49c7cd",
   "metadata": {},
   "outputs": [
    {
     "data": {
      "text/plain": [
       "'Between 0 and 1'"
      ]
     },
     "execution_count": 31,
     "metadata": {},
     "output_type": "execute_result"
    }
   ],
   "source": [
    "a = np.random.randn()\n",
    "\n",
    "\"Less than zero\" if a < 0 else \"Between 0 and 1\" if a >= 0 and a <= 1 else \"Greater than 1\""
   ]
  },
  {
   "cell_type": "code",
   "execution_count": 9,
   "id": "376f7013",
   "metadata": {},
   "outputs": [
    {
     "name": "stdout",
     "output_type": "stream",
     "text": [
      "The number randomly selected is 'less than zero'\n"
     ]
    }
   ],
   "source": [
    "a = np.random.randn()\n",
    "\n",
    "print(\"The number randomly selected is\", \"'less than zero'\" if a < 0 else \"'between 0 and 1'\" if a >= 0 and a <= 1 else \"'greater than 1'\")"
   ]
  },
  {
   "cell_type": "markdown",
   "id": "575cd693",
   "metadata": {},
   "source": [
    "### The solution of Fizz Buzz Number Task with nested ternary operators:"
   ]
  },
  {
   "cell_type": "code",
   "execution_count": null,
   "id": "12214486",
   "metadata": {},
   "outputs": [],
   "source": [
    "for number in range(1, 101) :\n",
    "    print(\"FizzBuzz\" if not number % 3 and not number % 5 \\\n",
    "          else \"Buzz\" if not number % 5 else \"Fizz\" if not number % 3\\\n",
    "         else number, end = \" \")"
   ]
  },
  {
   "cell_type": "markdown",
   "id": "f67cdd13",
   "metadata": {},
   "source": [
    "<a id=\"toc\"></a>\n",
    "\n",
    "### <p style=\"background-color:#9d4f8c; font-family:newtimeroman; color:#FFF9ED; font-size:175%; text-align:center; border-radius:10px 10px;\">Task 3 - Letters Count</p>"
   ]
  },
  {
   "cell_type": "markdown",
   "id": "42878804",
   "metadata": {},
   "source": [
    "<div class=\"alert alert-block alert-info\">\n",
    "<font color=blue><b>Task :</b></font>\n",
    "<font color=red><b>Count the number of each letter in a sentence.</b></font><br><br>\n",
    "<font color=darkblue>\n",
    "<ul>\n",
    " <li>The department you work for undertook a project construction that makes word / text analysis. You are asked to calculate the number of letters or any chars in the sentences entered under this project.</li>\n",
    " <li>Write a Python program that;<br><br></li>\n",
    "<font color=darkred>    \n",
    "<ol>\n",
    " <li>takes a sentence from the user,</li>\n",
    " <li>counts the number of each letter/chars of the sentence,</li>\n",
    " <li>collects the letters/chars as a key and the counted numbers as a value in a dictionary.</li>\n",
    "</ol></font></ul>   \n",
    "</font> "
   ]
  },
  {
   "cell_type": "markdown",
   "id": "41ba89eb",
   "metadata": {},
   "source": [
    "![python.exe](https://drive.google.com/uc?id=1PbYWqNkZxRG-t-nEv-TCFwy___GcN_ug)"
   ]
  },
  {
   "cell_type": "markdown",
   "id": "d91750f0",
   "metadata": {},
   "source": [
    "<hr>\n",
    "\n",
    "Our scenario is as follows: The department you work for has undertaken a project that performs word/text analysis. As part of this project, you are asked to calculate the number of letters or characters in the entered sentences.\n",
    "\n",
    "The method we are asked to follow when calculating this is:\n",
    "\n",
    "We will get a sentence from the user.<br>\n",
    "We will count each letter and character of the sentence,<br>\n",
    "We will collect the letters and characters as \"keys\" and their repeat numbers as \"values\" in a dictionary.<br>\n",
    "\n",
    "For example, looking at the output for the sentence **\"hippo runs to us!\"**;\n",
    "\n",
    "we see that each letter is a key.<br> \n",
    "The values corresponding to the keys also show the number of times that letter appears in the text.<br> \n",
    "When we examine the key-value pairs, we understand that there are 2 s's, 1 r, 1 t, and 2 u's in the sentence.\n",
    "<hr>"
   ]
  },
  {
   "cell_type": "markdown",
   "id": "ca869edb",
   "metadata": {},
   "source": [
    "**In summary, we will create a dictionary where each letter in an entered sentence is a 'key', and the number of times these letters are repeated is its 'value'. As a result, we will determine how many times the letters appear in the given sentence.**"
   ]
  },
  {
   "cell_type": "code",
   "execution_count": 25,
   "id": "9ca35eae",
   "metadata": {},
   "outputs": [],
   "source": [
    "# Let's first create an empty dictionary:\n",
    "\n",
    "word = {}"
   ]
  },
  {
   "cell_type": "code",
   "execution_count": 26,
   "id": "c5b24d86",
   "metadata": {},
   "outputs": [],
   "source": [
    "# Then, let's add a value to it:\n",
    "\n",
    "word[\"e\"] = 1"
   ]
  },
  {
   "cell_type": "code",
   "execution_count": 27,
   "id": "4558cc34",
   "metadata": {},
   "outputs": [
    {
     "data": {
      "text/plain": [
       "{'e': 1}"
      ]
     },
     "execution_count": 27,
     "metadata": {},
     "output_type": "execute_result"
    }
   ],
   "source": [
    "# thus created a key-value pair.\n",
    "\n",
    "word"
   ]
  },
  {
   "cell_type": "code",
   "execution_count": 28,
   "id": "4504739c",
   "metadata": {},
   "outputs": [],
   "source": [
    "# Let's create one more key-value pair:\n",
    "\n",
    "word[\"d\"] = 1"
   ]
  },
  {
   "cell_type": "code",
   "execution_count": 29,
   "id": "d81daac0",
   "metadata": {},
   "outputs": [
    {
     "data": {
      "text/plain": [
       "{'e': 1, 'd': 1}"
      ]
     },
     "execution_count": 29,
     "metadata": {},
     "output_type": "execute_result"
    }
   ],
   "source": [
    "word"
   ]
  },
  {
   "cell_type": "code",
   "execution_count": 30,
   "id": "9d6675ac",
   "metadata": {},
   "outputs": [],
   "source": [
    "# and one more:\n",
    "\n",
    "word[\"c\"] = 1"
   ]
  },
  {
   "cell_type": "code",
   "execution_count": 31,
   "id": "76f56619",
   "metadata": {},
   "outputs": [
    {
     "data": {
      "text/plain": [
       "{'e': 1, 'd': 1, 'c': 1}"
      ]
     },
     "execution_count": 31,
     "metadata": {},
     "output_type": "execute_result"
    }
   ],
   "source": [
    "word"
   ]
  },
  {
   "cell_type": "code",
   "execution_count": 32,
   "id": "ba4b1b76",
   "metadata": {},
   "outputs": [
    {
     "data": {
      "text/plain": [
       "1"
      ]
     },
     "execution_count": 32,
     "metadata": {},
     "output_type": "execute_result"
    }
   ],
   "source": [
    "word[\"c\"]"
   ]
  },
  {
   "cell_type": "code",
   "execution_count": 35,
   "id": "233bb9a8",
   "metadata": {},
   "outputs": [
    {
     "data": {
      "text/plain": [
       "{'e': 1, 'd': 1, 'c': 4}"
      ]
     },
     "execution_count": 35,
     "metadata": {},
     "output_type": "execute_result"
    }
   ],
   "source": [
    "# We can increase the value of one of the keys like this:\n",
    "\n",
    "word[\"c\"] = word[\"c\"] + 1\n",
    "\n",
    "word\n",
    "\n",
    "# {run this cell for 3 times and see the result}"
   ]
  },
  {
   "cell_type": "markdown",
   "id": "efa50af3",
   "metadata": {},
   "source": [
    "<hr>\n",
    "\n",
    "- I will use a loop in this task.\n",
    "\n",
    "- I will check each key of the dictionary one by one in the loop. My condition will be as follows:\n",
    "\n",
    "- Is the key that I am checking one by one present in the dictionary or not?<br>\n",
    "- If the key is present among the dictionary keys, I will increase its value by one.<br> \n",
    "- If it is not present in the dictionary (meaning encountering it for the first time), I will add that key to the dictionary.<br>\n",
    "\n",
    "- In this for loop, I will take each letter of the entered sentence one by one and check it according to this condition.In the end, I will have a dictionary consisting of the letters in the sentence and their repetition numbers."
   ]
  },
  {
   "cell_type": "code",
   "execution_count": 36,
   "id": "06b795e7",
   "metadata": {},
   "outputs": [
    {
     "data": {
      "text/plain": [
       "True"
      ]
     },
     "execution_count": 36,
     "metadata": {},
     "output_type": "execute_result"
    }
   ],
   "source": [
    "# Remember the \"in\" membership operator:\n",
    "\n",
    "\"c\" in word"
   ]
  },
  {
   "cell_type": "code",
   "execution_count": 37,
   "id": "10dfc3f3",
   "metadata": {},
   "outputs": [
    {
     "data": {
      "text/plain": [
       "False"
      ]
     },
     "execution_count": 37,
     "metadata": {},
     "output_type": "execute_result"
    }
   ],
   "source": [
    "\"f\" in word\n",
    "\n",
    "# The letter 'f' returned False since it was not in the keys of the \"word\" dict."
   ]
  },
  {
   "cell_type": "code",
   "execution_count": 40,
   "id": "1466062a",
   "metadata": {},
   "outputs": [
    {
     "name": "stdout",
     "output_type": "stream",
     "text": [
      "{'I': 1, ' ': 19, 'a': 8, 'm': 4, 'v': 1, 'e': 11, 'r': 4, 'y': 4, 's': 4, 'd': 4, 't': 9, 'o': 7, '.': 2, 'W': 1, 'g': 2, 'h': 4, 'f': 1, 'l': 1, 'i': 2, 'n': 1, 'c': 1, 'b': 1}\n"
     ]
    }
   ],
   "source": [
    "string = \"I am very sad today. We are together for the last time and the time has come to say goodbye.\"\n",
    "\n",
    "word_dict = {}  # I should start with an empty dictionary\n",
    "\n",
    "for n in string :  # for each character in the string..\n",
    "    \n",
    "    if n in word_dict :  # if 'n' is present in the dictionary, execute the following code:\n",
    "        word_dict[n] += 1  # If 'n' is present in the dictionary, its value should be incremented by 1.\n",
    "        \n",
    "    else :  # If  'n' is not present in the dictionary, \n",
    "        word_dict[n] = 1   # create a new 'key' and assign it a value of 1.\n",
    "        \n",
    "print(word_dict)"
   ]
  },
  {
   "cell_type": "markdown",
   "id": "ba141f41",
   "metadata": {},
   "source": [
    "## Let's use the same method to determine the number of data types of the elements in a list.: (OPTIONAL)"
   ]
  },
  {
   "cell_type": "code",
   "execution_count": 44,
   "id": "812aa3ad",
   "metadata": {},
   "outputs": [],
   "source": [
    "data = [\"a\", \"b\", True, (False, 1), {\"1\":2}, [1,2], {\"2\":\"two\"},{2, \"3\"}, \"c\", 23, 0]"
   ]
  },
  {
   "cell_type": "code",
   "execution_count": 45,
   "id": "72d2ef78",
   "metadata": {},
   "outputs": [],
   "source": [
    "types = [\"int\", \"str\", \"bool\", \"list\", \"tuple\", \"dict\", \"set\"]"
   ]
  },
  {
   "cell_type": "markdown",
   "id": "37f52f31",
   "metadata": {},
   "source": [
    "**we will have an output similar to this:**\n",
    "\n",
    "**{\"bool\" : 1, \"int\" : 2, \"list\" : 1, \"tuple\" : 1, \"str\" : 3, \"dict\" : 2}**"
   ]
  },
  {
   "cell_type": "code",
   "execution_count": 1,
   "id": "3214afc2",
   "metadata": {},
   "outputs": [],
   "source": [
    "a = {}"
   ]
  },
  {
   "cell_type": "code",
   "execution_count": null,
   "id": "ca3e857e",
   "metadata": {},
   "outputs": [],
   "source": [
    "a.fromkeys()  # shif tab tab!!"
   ]
  },
  {
   "cell_type": "markdown",
   "id": "5b6f70b5",
   "metadata": {},
   "source": [
    "**The fromkeys() function in Python is used to create a new dictionary from a specified list of keys and a specified value.**\n",
    "\n",
    "The function is used as follows:"
   ]
  },
  {
   "cell_type": "code",
   "execution_count": 46,
   "id": "cfc5ce24",
   "metadata": {},
   "outputs": [
    {
     "data": {
      "text/plain": [
       "{'int': True,\n",
       " 'str': True,\n",
       " 'bool': True,\n",
       " 'list': True,\n",
       " 'tuple': True,\n",
       " 'dict': True,\n",
       " 'set': True}"
      ]
     },
     "execution_count": 46,
     "metadata": {},
     "output_type": "execute_result"
    }
   ],
   "source": [
    "a.fromkeys(types, True)"
   ]
  },
  {
   "cell_type": "markdown",
   "id": "e234be64",
   "metadata": {},
   "source": [
    "Here, \"types\" is an iterable that contains the keys for the new dictionary to be created. \"True\" is the value that will be assigned to each key in the new dictionary. \n",
    "\n",
    "If value is not specified, it defaults to **None**"
   ]
  },
  {
   "cell_type": "code",
   "execution_count": 47,
   "id": "2e745311",
   "metadata": {},
   "outputs": [
    {
     "data": {
      "text/plain": [
       "{'int': 0, 'str': 0, 'bool': 0, 'list': 0, 'tuple': 0, 'dict': 0, 'set': 0}"
      ]
     },
     "execution_count": 47,
     "metadata": {},
     "output_type": "execute_result"
    }
   ],
   "source": [
    "a.fromkeys(types, 0)"
   ]
  },
  {
   "cell_type": "code",
   "execution_count": 54,
   "id": "2b8139b2",
   "metadata": {},
   "outputs": [
    {
     "data": {
      "text/plain": [
       "{'int': 0, 'str': 0, 'bool': 0, 'list': 0, 'tuple': 0, 'dict': 0, 'set': 0}"
      ]
     },
     "execution_count": 54,
     "metadata": {},
     "output_type": "execute_result"
    }
   ],
   "source": [
    "# We should assign a zero value to them initially before starting to count the types of elements in the list\n",
    "\n",
    "total_types  = {}.fromkeys(types, 0)\n",
    "total_types"
   ]
  },
  {
   "cell_type": "code",
   "execution_count": 49,
   "id": "a91303ca",
   "metadata": {},
   "outputs": [
    {
     "name": "stdout",
     "output_type": "stream",
     "text": [
      "['a', 'b', True, (False, 1), {'1': 2}, [1, 2], {'2': 'two'}, {2, '3'}, 'c', 23, 0]\n"
     ]
    }
   ],
   "source": [
    "print(data)"
   ]
  },
  {
   "cell_type": "code",
   "execution_count": 50,
   "id": "c2330a13",
   "metadata": {},
   "outputs": [
    {
     "data": {
      "text/plain": [
       "list"
      ]
     },
     "execution_count": 50,
     "metadata": {},
     "output_type": "execute_result"
    }
   ],
   "source": [
    "type(data[5])"
   ]
  },
  {
   "cell_type": "code",
   "execution_count": 51,
   "id": "207098b9",
   "metadata": {},
   "outputs": [
    {
     "data": {
      "text/plain": [
       "tuple"
      ]
     },
     "execution_count": 51,
     "metadata": {},
     "output_type": "execute_result"
    }
   ],
   "source": [
    "type(data[3])"
   ]
  },
  {
   "cell_type": "code",
   "execution_count": 55,
   "id": "ca9ea98c",
   "metadata": {},
   "outputs": [
    {
     "data": {
      "text/plain": [
       "{'int': 2, 'str': 3, 'bool': 1, 'list': 1, 'tuple': 1, 'dict': 2, 'set': 1}"
      ]
     },
     "execution_count": 55,
     "metadata": {},
     "output_type": "execute_result"
    }
   ],
   "source": [
    "for i in range(len(data)):\n",
    "    \n",
    "    if type(data[i]) == int : total_types[\"int\"] += 1   # If the element is an integer, increase the value of the 'int' key by one\n",
    "    elif type(data[i]) == str : total_types[\"str\"] += 1  # If the element is an str, increase the value of the 'str' key by one\n",
    "    elif type(data[i]) == bool : total_types[\"bool\"] += 1 # If the element is an bool, increase the value of the 'bool' key by one\n",
    "    elif type(data[i]) == list : total_types[\"list\"] += 1  # If the element is an list, increase the value of the 'list' key by one\n",
    "    elif type(data[i]) == tuple : total_types[\"tuple\"] += 1 # If the element is an tuple, increase the value of the 'tuple' key by one  \n",
    "    elif type(data[i]) == dict  : total_types[\"dict\"] += 1  # If the element is an dict, increase the value of the 'dict' key by one\n",
    "    elif type(data[i]) == set : total_types[\"set\"] += 1  # If the element is an set, increase the value of the 'set' key by one\n",
    "        \n",
    "total_types"
   ]
  },
  {
   "cell_type": "markdown",
   "id": "ee92f2bf",
   "metadata": {},
   "source": [
    "<a id=\"toc\"></a>\n",
    "\n",
    "### <p style=\"background-color:#9d4f8c; font-family:newtimeroman; color:#FFF9ED; font-size:175%; text-align:center; border-radius:10px 10px;\">Task 4 - Tax Deduction</p>"
   ]
  },
  {
   "cell_type": "markdown",
   "id": "98422d76",
   "metadata": {},
   "source": [
    "Let's create a DataFrame. One of the columns should consist of employees' names and surnames, the second column should contain their department information, and the third column should represent their salaries.\n",
    "\n",
    "Objective: We will create a fourth column consisting of the amount of tax calculated as 20% of the salaries."
   ]
  },
  {
   "cell_type": "code",
   "execution_count": 11,
   "id": "d3868c75",
   "metadata": {},
   "outputs": [
    {
     "data": {
      "text/html": [
       "<div>\n",
       "<style scoped>\n",
       "    .dataframe tbody tr th:only-of-type {\n",
       "        vertical-align: middle;\n",
       "    }\n",
       "\n",
       "    .dataframe tbody tr th {\n",
       "        vertical-align: top;\n",
       "    }\n",
       "\n",
       "    .dataframe thead th {\n",
       "        text-align: right;\n",
       "    }\n",
       "</style>\n",
       "<table border=\"1\" class=\"dataframe\">\n",
       "  <thead>\n",
       "    <tr style=\"text-align: right;\">\n",
       "      <th></th>\n",
       "      <th>Name</th>\n",
       "      <th>Department</th>\n",
       "      <th>Salary</th>\n",
       "    </tr>\n",
       "  </thead>\n",
       "  <tbody>\n",
       "    <tr>\n",
       "      <th>0</th>\n",
       "      <td>Ahmet Yılmaz</td>\n",
       "      <td>Accounting</td>\n",
       "      <td>5000</td>\n",
       "    </tr>\n",
       "    <tr>\n",
       "      <th>1</th>\n",
       "      <td>Ayşe Şahin</td>\n",
       "      <td>Human Resource</td>\n",
       "      <td>6000</td>\n",
       "    </tr>\n",
       "    <tr>\n",
       "      <th>2</th>\n",
       "      <td>Mehmet Arslan</td>\n",
       "      <td>Data Analyst</td>\n",
       "      <td>10000</td>\n",
       "    </tr>\n",
       "  </tbody>\n",
       "</table>\n",
       "</div>"
      ],
      "text/plain": [
       "            Name      Department  Salary\n",
       "0   Ahmet Yılmaz     Accounting     5000\n",
       "1     Ayşe Şahin  Human Resource    6000\n",
       "2  Mehmet Arslan    Data Analyst   10000"
      ]
     },
     "execution_count": 11,
     "metadata": {},
     "output_type": "execute_result"
    }
   ],
   "source": [
    "import pandas as pd\n",
    "\n",
    "df = pd.DataFrame({\n",
    "    'Name': ['Ahmet Yılmaz', 'Ayşe Şahin', 'Mehmet Arslan'],\n",
    "    'Department': ['Accounting ', 'Human Resource', 'Data Analyst'],\n",
    "    'Salary': [5000, 6000, 10000]\n",
    "})\n",
    "\n",
    "df"
   ]
  },
  {
   "cell_type": "code",
   "execution_count": 12,
   "id": "3b4787ac",
   "metadata": {},
   "outputs": [
    {
     "data": {
      "text/plain": [
       "0    1000.0\n",
       "1    1200.0\n",
       "2    2000.0\n",
       "Name: Salary, dtype: float64"
      ]
     },
     "execution_count": 12,
     "metadata": {},
     "output_type": "execute_result"
    }
   ],
   "source": [
    "df['Salary'].map(lambda x: x * 0.2)"
   ]
  },
  {
   "cell_type": "markdown",
   "id": "02e8bbad",
   "metadata": {},
   "source": [
    "**We obtained new data by using the data in the \"Salary\" column. In other words, we mapped the \"Salary\" data**"
   ]
  },
  {
   "cell_type": "code",
   "execution_count": 13,
   "id": "7b29c5e4",
   "metadata": {},
   "outputs": [
    {
     "data": {
      "text/html": [
       "<div>\n",
       "<style scoped>\n",
       "    .dataframe tbody tr th:only-of-type {\n",
       "        vertical-align: middle;\n",
       "    }\n",
       "\n",
       "    .dataframe tbody tr th {\n",
       "        vertical-align: top;\n",
       "    }\n",
       "\n",
       "    .dataframe thead th {\n",
       "        text-align: right;\n",
       "    }\n",
       "</style>\n",
       "<table border=\"1\" class=\"dataframe\">\n",
       "  <thead>\n",
       "    <tr style=\"text-align: right;\">\n",
       "      <th></th>\n",
       "      <th>Name</th>\n",
       "      <th>Department</th>\n",
       "      <th>Salary</th>\n",
       "      <th>tax_deduction</th>\n",
       "    </tr>\n",
       "  </thead>\n",
       "  <tbody>\n",
       "    <tr>\n",
       "      <th>0</th>\n",
       "      <td>Ahmet Yılmaz</td>\n",
       "      <td>Accounting</td>\n",
       "      <td>5000</td>\n",
       "      <td>1000.0</td>\n",
       "    </tr>\n",
       "    <tr>\n",
       "      <th>1</th>\n",
       "      <td>Ayşe Şahin</td>\n",
       "      <td>Human Resource</td>\n",
       "      <td>6000</td>\n",
       "      <td>1200.0</td>\n",
       "    </tr>\n",
       "    <tr>\n",
       "      <th>2</th>\n",
       "      <td>Mehmet Arslan</td>\n",
       "      <td>Data Analyst</td>\n",
       "      <td>10000</td>\n",
       "      <td>2000.0</td>\n",
       "    </tr>\n",
       "  </tbody>\n",
       "</table>\n",
       "</div>"
      ],
      "text/plain": [
       "            Name      Department  Salary  tax_deduction\n",
       "0   Ahmet Yılmaz     Accounting     5000         1000.0\n",
       "1     Ayşe Şahin  Human Resource    6000         1200.0\n",
       "2  Mehmet Arslan    Data Analyst   10000         2000.0"
      ]
     },
     "execution_count": 13,
     "metadata": {},
     "output_type": "execute_result"
    }
   ],
   "source": [
    "df['tax_deduction'] = df['Salary'].map(lambda x: x * 0.2)\n",
    "\n",
    "df"
   ]
  },
  {
   "cell_type": "markdown",
   "id": "8ff99265",
   "metadata": {},
   "source": [
    "Let's create another column from the remaining amount of salary:"
   ]
  },
  {
   "cell_type": "code",
   "execution_count": 14,
   "id": "ee08ce1c",
   "metadata": {},
   "outputs": [
    {
     "data": {
      "text/html": [
       "<div>\n",
       "<style scoped>\n",
       "    .dataframe tbody tr th:only-of-type {\n",
       "        vertical-align: middle;\n",
       "    }\n",
       "\n",
       "    .dataframe tbody tr th {\n",
       "        vertical-align: top;\n",
       "    }\n",
       "\n",
       "    .dataframe thead th {\n",
       "        text-align: right;\n",
       "    }\n",
       "</style>\n",
       "<table border=\"1\" class=\"dataframe\">\n",
       "  <thead>\n",
       "    <tr style=\"text-align: right;\">\n",
       "      <th></th>\n",
       "      <th>Name</th>\n",
       "      <th>Department</th>\n",
       "      <th>Salary</th>\n",
       "      <th>tax_deduction</th>\n",
       "      <th>net_Salary</th>\n",
       "    </tr>\n",
       "  </thead>\n",
       "  <tbody>\n",
       "    <tr>\n",
       "      <th>0</th>\n",
       "      <td>Ahmet Yılmaz</td>\n",
       "      <td>Accounting</td>\n",
       "      <td>5000</td>\n",
       "      <td>1000.0</td>\n",
       "      <td>4000.0</td>\n",
       "    </tr>\n",
       "    <tr>\n",
       "      <th>1</th>\n",
       "      <td>Ayşe Şahin</td>\n",
       "      <td>Human Resource</td>\n",
       "      <td>6000</td>\n",
       "      <td>1200.0</td>\n",
       "      <td>4800.0</td>\n",
       "    </tr>\n",
       "    <tr>\n",
       "      <th>2</th>\n",
       "      <td>Mehmet Arslan</td>\n",
       "      <td>Data Analyst</td>\n",
       "      <td>10000</td>\n",
       "      <td>2000.0</td>\n",
       "      <td>8000.0</td>\n",
       "    </tr>\n",
       "  </tbody>\n",
       "</table>\n",
       "</div>"
      ],
      "text/plain": [
       "            Name      Department  Salary  tax_deduction  net_Salary\n",
       "0   Ahmet Yılmaz     Accounting     5000         1000.0      4000.0\n",
       "1     Ayşe Şahin  Human Resource    6000         1200.0      4800.0\n",
       "2  Mehmet Arslan    Data Analyst   10000         2000.0      8000.0"
      ]
     },
     "execution_count": 14,
     "metadata": {},
     "output_type": "execute_result"
    }
   ],
   "source": [
    "df['net_Salary'] = df['Salary'].map(lambda x: x * 0.8)\n",
    "\n",
    "df"
   ]
  },
  {
   "cell_type": "markdown",
   "id": "655fd9dc",
   "metadata": {},
   "source": [
    "We can also calculate this using an expression:"
   ]
  },
  {
   "cell_type": "code",
   "execution_count": 15,
   "id": "169b9059",
   "metadata": {},
   "outputs": [
    {
     "data": {
      "text/html": [
       "<div>\n",
       "<style scoped>\n",
       "    .dataframe tbody tr th:only-of-type {\n",
       "        vertical-align: middle;\n",
       "    }\n",
       "\n",
       "    .dataframe tbody tr th {\n",
       "        vertical-align: top;\n",
       "    }\n",
       "\n",
       "    .dataframe thead th {\n",
       "        text-align: right;\n",
       "    }\n",
       "</style>\n",
       "<table border=\"1\" class=\"dataframe\">\n",
       "  <thead>\n",
       "    <tr style=\"text-align: right;\">\n",
       "      <th></th>\n",
       "      <th>Name</th>\n",
       "      <th>Department</th>\n",
       "      <th>Salary</th>\n",
       "      <th>tax_deduction</th>\n",
       "      <th>net_Salary</th>\n",
       "      <th>net_Salary2</th>\n",
       "    </tr>\n",
       "  </thead>\n",
       "  <tbody>\n",
       "    <tr>\n",
       "      <th>0</th>\n",
       "      <td>Ahmet Yılmaz</td>\n",
       "      <td>Accounting</td>\n",
       "      <td>5000</td>\n",
       "      <td>1000.0</td>\n",
       "      <td>4000.0</td>\n",
       "      <td>4000.0</td>\n",
       "    </tr>\n",
       "    <tr>\n",
       "      <th>1</th>\n",
       "      <td>Ayşe Şahin</td>\n",
       "      <td>Human Resource</td>\n",
       "      <td>6000</td>\n",
       "      <td>1200.0</td>\n",
       "      <td>4800.0</td>\n",
       "      <td>4800.0</td>\n",
       "    </tr>\n",
       "    <tr>\n",
       "      <th>2</th>\n",
       "      <td>Mehmet Arslan</td>\n",
       "      <td>Data Analyst</td>\n",
       "      <td>10000</td>\n",
       "      <td>2000.0</td>\n",
       "      <td>8000.0</td>\n",
       "      <td>8000.0</td>\n",
       "    </tr>\n",
       "  </tbody>\n",
       "</table>\n",
       "</div>"
      ],
      "text/plain": [
       "            Name      Department  Salary  tax_deduction  net_Salary   \n",
       "0   Ahmet Yılmaz     Accounting     5000         1000.0      4000.0  \\\n",
       "1     Ayşe Şahin  Human Resource    6000         1200.0      4800.0   \n",
       "2  Mehmet Arslan    Data Analyst   10000         2000.0      8000.0   \n",
       "\n",
       "   net_Salary2  \n",
       "0       4000.0  \n",
       "1       4800.0  \n",
       "2       8000.0  "
      ]
     },
     "execution_count": 15,
     "metadata": {},
     "output_type": "execute_result"
    }
   ],
   "source": [
    "df['net_Salary2'] = df['Salary'] - df['tax_deduction']   \n",
    "# The right side of the equation is an expression that generates a value.\n",
    "df"
   ]
  },
  {
   "cell_type": "markdown",
   "id": "823ef0d7",
   "metadata": {},
   "source": [
    "![python.exe](https://drive.google.com/uc?id=1oY07NFR8n0Q3oP9CwwxLWh40cGEb_YkU)"
   ]
  }
 ],
 "metadata": {
  "kernelspec": {
   "display_name": "Python 3 (ipykernel)",
   "language": "python",
   "name": "python3"
  },
  "language_info": {
   "codemirror_mode": {
    "name": "ipython",
    "version": 3
   },
   "file_extension": ".py",
   "mimetype": "text/x-python",
   "name": "python",
   "nbconvert_exporter": "python",
   "pygments_lexer": "ipython3",
   "version": "3.9.12"
  }
 },
 "nbformat": 4,
 "nbformat_minor": 5
}
