{
 "cells": [
  {
   "cell_type": "markdown",
   "id": "04ea8dd3",
   "metadata": {},
   "source": [
    "![python.exe](https://drive.google.com/uc?id=1oY07NFR8n0Q3oP9CwwxLWh40cGEb_YkU)"
   ]
  },
  {
   "cell_type": "markdown",
   "id": "0ecddc8c",
   "metadata": {},
   "source": [
    "<a id=\"toc\"></a>\n",
    "\n",
    "## <p style=\"background-color:#0D8D99; font-family:newtimeroman; color:#FFF9ED; font-size:175%; text-align:center; border-radius:10px 10px;\">Prep DAwPy-Lab 2</p>"
   ]
  },
  {
   "cell_type": "markdown",
   "id": "040640c2",
   "metadata": {},
   "source": [
    "<div class=\"alert alert-block alert-info\"><h1><p style=\"text-align: center; color:purple\">Iterable & Iterator Concepts<br><br>iter() function<br><br>Usage of iterators in for loops<br><br>Generator Comprehension<br><br>Algorithm Exercise (Valid Paranthesis)"
   ]
  },
  {
   "cell_type": "markdown",
   "id": "52f6bbb1",
   "metadata": {},
   "source": [
    "<a id=\"toc\"></a>\n",
    "\n",
    "### <p style=\"background-color:#9d4f8c; font-family:newtimeroman; color:#FFF9ED; font-size:175%; text-align:center; border-radius:10px 10px;\">What is \"iterable\"?</p>"
   ]
  },
  {
   "cell_type": "markdown",
   "id": "52ef77f5",
   "metadata": {},
   "source": [
    "<hr>\n",
    "\n",
    "**An iterable is an object in programming that can be iterated, or looped over, such as a list, tuple, set, or dictionary. \n",
    "In simpler terms, an iterable is anything that can be processed in a for loop.** \n",
    "\n",
    "When a program iterates over an iterable, it accesses each item or element of the iterable in turn, allowing for manipulation or processing of the data.\n",
    "<hr>"
   ]
  },
  {
   "cell_type": "markdown",
   "id": "eec542b7",
   "metadata": {},
   "source": [
    "<hr>\n",
    "\n",
    "The iterable data types:\n",
    "\n",
    "**Lists:** They store elements in a sequential order and are mutable.\n",
    "\n",
    "**Tuples:** They store elements in a sequential order but are immutable.\n",
    "\n",
    "**Dictionaries:** They store key-value pairs and elements can be accessed using keys.\n",
    "\n",
    "**Sets:** They store unique elements and are unordered.\n",
    "\n",
    "**Strings:** They are stored as character sequences and are ordered.\n",
    "\n",
    "**File Objects:** They are used to read lines or characters from a file.\n",
    "\n",
    "**Generators:** They are functions used for iteration, and they produce elements in sequence without storing them in memory\n",
    "<hr>"
   ]
  },
  {
   "cell_type": "code",
   "execution_count": 6,
   "id": "5550c94c",
   "metadata": {},
   "outputs": [
    {
     "data": {
      "text/plain": [
       "range(1, 11)"
      ]
     },
     "execution_count": 6,
     "metadata": {},
     "output_type": "execute_result"
    }
   ],
   "source": [
    "range(1,11)  \n",
    "\n",
    "# the range() object is calculated \"lazily\" in a \"lazy\" way to minimize memory usage, \n",
    "# which means that the range object does not contain any elements until it is iterated"
   ]
  },
  {
   "cell_type": "markdown",
   "id": "ed9a88c6",
   "metadata": {},
   "source": [
    "<hr>\n",
    "\n",
    "the range() object is calculated \"lazily\" in a \"lazy\" way to **minimize memory usage**, which means that the range object does not contain any elements until it is iterated. **This means that the range() object does not appear to have any elements before being iterated.**\n",
    "\n",
    "The result of the range() function is a range object, which generates the integers in the specified range when iterated. \n",
    "\n",
    "However, the range object does not hold the entire range in memory, and only produces elements when it is iterated. This is particularly useful for optimizing memory usage for large ranges.\n",
    "<hr>"
   ]
  },
  {
   "cell_type": "code",
   "execution_count": 11,
   "id": "0e351d8c",
   "metadata": {},
   "outputs": [
    {
     "data": {
      "text/plain": [
       "range"
      ]
     },
     "execution_count": 11,
     "metadata": {},
     "output_type": "execute_result"
    }
   ],
   "source": [
    "type(range(1,11))"
   ]
  },
  {
   "cell_type": "markdown",
   "id": "6da74e87",
   "metadata": {},
   "source": [
    "Look, this is a range object. Since this object has an iterable property, its elements can be accessed, and therefore it can be indexed/sliced"
   ]
  },
  {
   "cell_type": "markdown",
   "id": "4dd98455",
   "metadata": {},
   "source": [
    "## indexing & slicing:"
   ]
  },
  {
   "cell_type": "code",
   "execution_count": 4,
   "id": "100150c0",
   "metadata": {},
   "outputs": [
    {
     "data": {
      "text/plain": [
       "list"
      ]
     },
     "execution_count": 4,
     "metadata": {},
     "output_type": "execute_result"
    }
   ],
   "source": [
    "mix_list = [1, \"two\", 3.0, True]\n",
    "type(mix_list)"
   ]
  },
  {
   "cell_type": "markdown",
   "id": "b69e3c5b",
   "metadata": {},
   "source": [
    "In this example, we have an iterable of list type. Now, pay attention:"
   ]
  },
  {
   "cell_type": "code",
   "execution_count": 5,
   "id": "44c4c3d5",
   "metadata": {},
   "outputs": [
    {
     "data": {
      "text/plain": [
       "'two'"
      ]
     },
     "execution_count": 5,
     "metadata": {},
     "output_type": "execute_result"
    }
   ],
   "source": [
    "mix_list[1]"
   ]
  },
  {
   "cell_type": "code",
   "execution_count": 6,
   "id": "04c450f4",
   "metadata": {},
   "outputs": [
    {
     "data": {
      "text/plain": [
       "str"
      ]
     },
     "execution_count": 6,
     "metadata": {},
     "output_type": "execute_result"
    }
   ],
   "source": [
    "type(mix_list[1])"
   ]
  },
  {
   "cell_type": "markdown",
   "id": "b9cb084a",
   "metadata": {},
   "source": [
    "No matter what type of iterable we index, only a single element is returned from the index operation. Therefore, the type of the returned object from indexing will be the type of that element. Here, a string object was returned.\n",
    "\n",
    "Let's also slice the iterable to see the difference"
   ]
  },
  {
   "cell_type": "code",
   "execution_count": 7,
   "id": "ddcf26af",
   "metadata": {},
   "outputs": [
    {
     "data": {
      "text/plain": [
       "[3.0, True]"
      ]
     },
     "execution_count": 7,
     "metadata": {},
     "output_type": "execute_result"
    }
   ],
   "source": [
    "mix_list[2:4]"
   ]
  },
  {
   "cell_type": "code",
   "execution_count": 8,
   "id": "f6e5afbe",
   "metadata": {},
   "outputs": [
    {
     "data": {
      "text/plain": [
       "list"
      ]
     },
     "execution_count": 8,
     "metadata": {},
     "output_type": "execute_result"
    }
   ],
   "source": [
    "type(mix_list[2:4])"
   ]
  },
  {
   "cell_type": "markdown",
   "id": "e1e3f6ac",
   "metadata": {},
   "source": [
    "![python.exe](https://drive.google.com/uc?id=1-r-qNl9AsqZ7d_BkZ4f4Zooln00AlNBv)"
   ]
  },
  {
   "cell_type": "markdown",
   "id": "675ac940",
   "metadata": {},
   "source": [
    "Note that regardless of the type of the iterable we are indexing, indexing always returns a single element from within the iterable. Therefore, the type of the object returned by indexing will be the type of that element. Here, a string object was returned by indexing.\n",
    "\n",
    "Now let's see the difference when we slice the iterable: when I sliced it, meaning I took a portion of that iterable object, it still returned an object of the same iterable type.\n",
    "\n",
    "Think of a strawberry and banana roll cake. For the sake of easy understanding, let's assume I have one here. This is your list. This is a cake of the type 'strawberry and banana roll cake' - a strawberry and banana roll cake type :) Each object has its own unique properties, right? That's why we call one a 'range type object', another a 'list type object', and another a 'zip type object'. This is a chocolate log type cake.\n",
    "\n",
    "When you take a single strawberry off of this \"cake\", what is the name of the remaining object in your hand? It's a strawberry, right? You wouldn't call it a cake. What you have in your hand is a strawberry, because that's the type of object it is.\n",
    "\n",
    "But what about when you slice the cake and put that slice on a plate? What would you call that? It's still a strawberry and banana roll cake. The slice on your plate might have a strawberry on it, or a banana - or maybe you've cut a larger slice and it has both strawberries and bananas. But there's still cake underneath, with its sponge, cream, sugar, and eggs. In the end, what's on your plate is still a strawberry and banana roll cake.\n",
    "\n",
    "That's the difference between slicing and indexing, in terms of the objects they return. When you slice an object, you still end up with an object of the same type. But when you index an object, you end up with an object of the type of the element you indexed."
   ]
  },
  {
   "cell_type": "code",
   "execution_count": 10,
   "id": "e5a6e077",
   "metadata": {},
   "outputs": [
    {
     "data": {
      "text/plain": [
       "range"
      ]
     },
     "execution_count": 10,
     "metadata": {},
     "output_type": "execute_result"
    }
   ],
   "source": [
    "# Now let's index and slice the range object. Range objects are lazy objects\n",
    "\n",
    "type(range(10))\n",
    "\n",
    "# This is an object of type range."
   ]
  },
  {
   "cell_type": "code",
   "execution_count": 23,
   "id": "cc2911b5",
   "metadata": {},
   "outputs": [
    {
     "data": {
      "text/plain": [
       "int"
      ]
     },
     "execution_count": 23,
     "metadata": {},
     "output_type": "execute_result"
    }
   ],
   "source": [
    "type(range(10)[4])"
   ]
  },
  {
   "cell_type": "code",
   "execution_count": 11,
   "id": "b3f3b3ad",
   "metadata": {},
   "outputs": [
    {
     "data": {
      "text/plain": [
       "range(0, 10, 2)"
      ]
     },
     "execution_count": 11,
     "metadata": {},
     "output_type": "execute_result"
    }
   ],
   "source": [
    "range(10)[::2]"
   ]
  },
  {
   "cell_type": "code",
   "execution_count": 12,
   "id": "aa281fea",
   "metadata": {},
   "outputs": [
    {
     "data": {
      "text/plain": [
       "range"
      ]
     },
     "execution_count": 12,
     "metadata": {},
     "output_type": "execute_result"
    }
   ],
   "source": [
    "type(range(10)[::2])"
   ]
  },
  {
   "cell_type": "code",
   "execution_count": 19,
   "id": "cb66e7f3",
   "metadata": {},
   "outputs": [
    {
     "data": {
      "text/plain": [
       "4"
      ]
     },
     "execution_count": 19,
     "metadata": {},
     "output_type": "execute_result"
    }
   ],
   "source": [
    "# Since range objects have the iterable property, they can be indexed and sliced.\n",
    "\n",
    "range(10)[4]"
   ]
  },
  {
   "cell_type": "code",
   "execution_count": 23,
   "id": "80d09c9e",
   "metadata": {},
   "outputs": [
    {
     "data": {
      "text/plain": [
       "int"
      ]
     },
     "execution_count": 23,
     "metadata": {},
     "output_type": "execute_result"
    }
   ],
   "source": [
    "type(range(10)[4])"
   ]
  },
  {
   "cell_type": "code",
   "execution_count": 2,
   "id": "ed635e8f",
   "metadata": {},
   "outputs": [
    {
     "data": {
      "text/plain": [
       "range(1, 4)"
      ]
     },
     "execution_count": 2,
     "metadata": {},
     "output_type": "execute_result"
    }
   ],
   "source": [
    "range(10)[1:4]\n",
    "\n",
    "# The type of the object returned by slicing is the same as the type of the sliced object, \n",
    "# so as you can see, it still returns a range object."
   ]
  },
  {
   "cell_type": "code",
   "execution_count": 1,
   "id": "d787f515",
   "metadata": {},
   "outputs": [
    {
     "data": {
      "text/plain": [
       "range"
      ]
     },
     "execution_count": 1,
     "metadata": {},
     "output_type": "execute_result"
    }
   ],
   "source": [
    "type(range(10)[1:4])"
   ]
  },
  {
   "cell_type": "code",
   "execution_count": 7,
   "id": "dcd83068",
   "metadata": {},
   "outputs": [
    {
     "data": {
      "text/plain": [
       "[1, 2, 3]"
      ]
     },
     "execution_count": 7,
     "metadata": {},
     "output_type": "execute_result"
    }
   ],
   "source": [
    "# One of the methods used to make range objects visible is \n",
    "   # to place them inside a collection such as \"list\"\n",
    "\n",
    "list(range(10)[1:4]) \n",
    "\n",
    "# Now, the range object has been converted into a list object."
   ]
  },
  {
   "cell_type": "markdown",
   "id": "475e5a1f",
   "metadata": {},
   "source": [
    "<a id=\"toc\"></a>\n",
    "\n",
    "### <p style=\"background-color:#9d4f8c; font-family:newtimeroman; color:#FFF9ED; font-size:175%; text-align:center; border-radius:10px 10px;\">What is \"iterator\"?</p>"
   ]
  },
  {
   "cell_type": "markdown",
   "id": "1eef35a9",
   "metadata": {},
   "source": [
    "<hr>\n",
    "\n",
    "**An iterator is an object in Python that enables iteration, which allows returning one item at a time from an object.**\n",
    "\n",
    "Iterator objects contain two special methods: **iter()** and **next()**. Applying these methods to an iterator object and getting a value means that you are inside an object with iterator properties. For example, lists, tuples, and strings in Python have this property.\n",
    "\n",
    "Therefore, Python iterators are objects that contain a countable number of values and are generated from an iterable object. \n",
    "\n",
    "How are they generated? \n",
    "**hey are generated using the iter() method.** \n",
    "\n",
    "How can their elements be iterated over one by one? \n",
    "**They can be iterated over using the next() method.**\n",
    "<hr>"
   ]
  },
  {
   "cell_type": "markdown",
   "id": "da507414",
   "metadata": {},
   "source": [
    "<hr>\n",
    "\n",
    "**Due to these properties, iterators can be used in loops, lists, tuples, and generators** in the Python programming language.\n",
    "\n",
    "Therefore, the following two methods are applied to any object to be used as an iterator:\n",
    "**iter()** and **next()**\n",
    "\n",
    "**The iter()** method creates an iterator object from an iterable object.\n",
    "**The next()** method retrieves the elements of this iterator in sequence for use. \n",
    "Note that there is another next() function besides the next() method.\n",
    "\n",
    "As it retrieves the elements, it detaches them from the iterator. As I use the elements and empty the iterator, it becomes empty. Yes, just like a magazine being emptied.\n",
    "<hr>"
   ]
  },
  {
   "cell_type": "code",
   "execution_count": null,
   "id": "ced626b6",
   "metadata": {},
   "outputs": [],
   "source": [
    "iter()"
   ]
  },
  {
   "cell_type": "markdown",
   "id": "1eef134f",
   "metadata": {},
   "source": [
    "iter() --> SHIFT TAB TAB \n",
    "\n",
    "When we look at its docstring:\n",
    "\n",
    "**iter(iterable) -> iterator: Takes an iterable object and returns an iterator object.**\n",
    "\n",
    "**iter(callable, sentinel) -> iterator: Creates an iterator from a callable and a sentinel.**\n",
    "\n",
    "So, it creates an iterator from an object."
   ]
  },
  {
   "cell_type": "markdown",
   "id": "db1eeec5",
   "metadata": {},
   "source": [
    "![python.exe](https://drive.google.com/uc?id=1sKfPAHyLJfqo3IKpUORATr0ggcEBFNFi)"
   ]
  },
  {
   "cell_type": "markdown",
   "id": "67cef7de",
   "metadata": {},
   "source": [
    "<a id=\"toc\"></a>\n",
    "\n",
    "### <p style=\"background-color:#9d4f8c; font-family:newtimeroman; color:#FFF9ED; font-size:175%; text-align:center; border-radius:10px 10px;\">iter() function</p>"
   ]
  },
  {
   "cell_type": "code",
   "execution_count": 8,
   "id": "4a1e5a01",
   "metadata": {},
   "outputs": [],
   "source": [
    "# Let's create a list.\n",
    "\n",
    "my_list = [3, 6, 9, 12]"
   ]
  },
  {
   "cell_type": "code",
   "execution_count": 3,
   "id": "9dfbf0d0",
   "metadata": {},
   "outputs": [
    {
     "ename": "TypeError",
     "evalue": "'list' object is not an iterator",
     "output_type": "error",
     "traceback": [
      "\u001b[1;31m---------------------------------------------------------------------------\u001b[0m",
      "\u001b[1;31mTypeError\u001b[0m                                 Traceback (most recent call last)",
      "\u001b[1;32m~\\AppData\\Local\\Temp/ipykernel_21672/314756995.py\u001b[0m in \u001b[0;36m<cell line: 1>\u001b[1;34m()\u001b[0m\n\u001b[1;32m----> 1\u001b[1;33m \u001b[0mnext\u001b[0m\u001b[1;33m(\u001b[0m\u001b[0mmy_list\u001b[0m\u001b[1;33m)\u001b[0m  \u001b[1;31m# next() fonksiyonu ile bu listenin elemanlarını almaya çalışalım.\u001b[0m\u001b[1;33m\u001b[0m\u001b[1;33m\u001b[0m\u001b[0m\n\u001b[0m",
      "\u001b[1;31mTypeError\u001b[0m: 'list' object is not an iterator"
     ]
    }
   ],
   "source": [
    "next(my_list)  # Let's try to iterate over the elements of this list one by one using the next() function."
   ]
  },
  {
   "cell_type": "markdown",
   "id": "8bac5c10",
   "metadata": {},
   "source": [
    "<hr>\n",
    "\n",
    "As you can see, even though **lists** have **iterable** properties, **we cannot directly retrieve an element from a list using the next() function.**\n",
    "\n",
    "Yes, lists are iterable, but **to iterate over them, we first need to create an \"iterator\" from them.**\n",
    "\n",
    "<hr>"
   ]
  },
  {
   "cell_type": "code",
   "execution_count": 4,
   "id": "3d5633ee",
   "metadata": {},
   "outputs": [
    {
     "data": {
      "text/plain": [
       "<list_iterator at 0x1411637e460>"
      ]
     },
     "execution_count": 4,
     "metadata": {},
     "output_type": "execute_result"
    }
   ],
   "source": [
    "# let's create an iterator from the my_list list:\n",
    "\n",
    "iter(my_list)"
   ]
  },
  {
   "cell_type": "markdown",
   "id": "637c8600",
   "metadata": {},
   "source": [
    "<hr>\n",
    "\n",
    "We obtained an iterator from the list because the list is iterable.\n",
    "\n",
    "Now we can use this iterator in a for loop or manually obtain \n",
    "\n",
    "and use its elements one by one with the next() function.\n",
    "<hr>"
   ]
  },
  {
   "cell_type": "code",
   "execution_count": 5,
   "id": "a7100530",
   "metadata": {},
   "outputs": [
    {
     "data": {
      "text/plain": [
       "list_iterator"
      ]
     },
     "execution_count": 5,
     "metadata": {},
     "output_type": "execute_result"
    }
   ],
   "source": [
    "# first, let's check its type:\n",
    "\n",
    "type(iter(my_list))\n",
    "\n",
    "# the type of the created iterator is list_iterator."
   ]
  },
  {
   "cell_type": "code",
   "execution_count": 9,
   "id": "27a9c4a5",
   "metadata": {},
   "outputs": [
    {
     "name": "stdout",
     "output_type": "stream",
     "text": [
      "<list_iterator object at 0x00000216602F6280>\n"
     ]
    }
   ],
   "source": [
    "# To use it practically, let me assign the iterator to a variable first.\n",
    "# and then let's try to print it on the screen:\n",
    "\n",
    "iterator = iter(my_list)  \n",
    "\n",
    "print(iterator)   \n"
   ]
  },
  {
   "cell_type": "markdown",
   "id": "95a2cb7d",
   "metadata": {},
   "source": [
    "<hr>\n",
    "\n",
    "Notice that the **iter()** function, just like the **range()** function, created **a lazy iterator object.**\n",
    "\n",
    "There were several ways to make a lazy object visible:\n",
    "\n",
    "1. Converting it into a collection using functions such as list() and tuple().\n",
    "\n",
    "2. Using it inside a for loop.\n",
    "\n",
    "3. using the asterisk (*) operator in the print function.\n",
    "<hr>"
   ]
  },
  {
   "cell_type": "code",
   "execution_count": 7,
   "id": "98f4530e",
   "metadata": {},
   "outputs": [
    {
     "name": "stdout",
     "output_type": "stream",
     "text": [
      "3 6 9 12\n"
     ]
    }
   ],
   "source": [
    "print(*iterator)"
   ]
  },
  {
   "cell_type": "code",
   "execution_count": 8,
   "id": "a16fe66c",
   "metadata": {},
   "outputs": [
    {
     "name": "stdout",
     "output_type": "stream",
     "text": [
      "\n"
     ]
    }
   ],
   "source": [
    "print(*iterator)"
   ]
  },
  {
   "cell_type": "markdown",
   "id": "5d5614ee",
   "metadata": {},
   "source": [
    "<hr>\n",
    "\n",
    "When we made the iterator object visible using the **asterisk (*)** operator in the print function, the object was consumed, meaning that its elements were iterated over and printed out. Therefore, when we try to see the iterator again, **it will be empty because all its elements have already been consumed and we need to create a new iterator object if we want to iterate over its elements again.**\n",
    "\n",
    "In summary, **iterating over an iterator consumes its elements and the iterator object needs to be recreated if we want to iterate over its elements again.**\n",
    "<hr>"
   ]
  },
  {
   "cell_type": "code",
   "execution_count": 10,
   "id": "cdf03d4b",
   "metadata": {},
   "outputs": [],
   "source": [
    "# I am re-creating my iterator using the iter() function.\n",
    "\n",
    "iterator = iter(my_list)"
   ]
  },
  {
   "cell_type": "markdown",
   "id": "632c7160",
   "metadata": {},
   "source": [
    "<hr>\n",
    "\n",
    "So, the **iter()** function converts an object that can be iterated over.\n",
    "\n",
    "An iterator object can be iterated over using the **next()** function. \n",
    "\n",
    "Now let's take a look at what the next() function does:\n",
    "<hr>"
   ]
  },
  {
   "cell_type": "markdown",
   "id": "b0a32355",
   "metadata": {},
   "source": [
    "<a id=\"toc\"></a>\n",
    "\n",
    "### <p style=\"background-color:#9d4f8c; font-family:newtimeroman; color:#FFF9ED; font-size:175%; text-align:center; border-radius:10px 10px;\">Iterating over data with an iterator:</p>"
   ]
  },
  {
   "cell_type": "markdown",
   "id": "f6d79cde",
   "metadata": {},
   "source": [
    "**Let's now iterate over the elements of this iterator one by one and return them individually:**"
   ]
  },
  {
   "cell_type": "code",
   "execution_count": 11,
   "id": "3315b161",
   "metadata": {},
   "outputs": [
    {
     "data": {
      "text/plain": [
       "3"
      ]
     },
     "execution_count": 11,
     "metadata": {},
     "output_type": "execute_result"
    }
   ],
   "source": [
    "next(iterator)"
   ]
  },
  {
   "cell_type": "code",
   "execution_count": 12,
   "id": "2846cce9",
   "metadata": {},
   "outputs": [
    {
     "data": {
      "text/plain": [
       "6"
      ]
     },
     "execution_count": 12,
     "metadata": {},
     "output_type": "execute_result"
    }
   ],
   "source": [
    "next(iterator)\n",
    "\n",
    "# As you can see, it returned the next element in the sequence."
   ]
  },
  {
   "cell_type": "code",
   "execution_count": 13,
   "id": "399b75db",
   "metadata": {},
   "outputs": [
    {
     "data": {
      "text/plain": [
       "9"
      ]
     },
     "execution_count": 13,
     "metadata": {},
     "output_type": "execute_result"
    }
   ],
   "source": [
    "next(iterator)"
   ]
  },
  {
   "cell_type": "markdown",
   "id": "066fcb65",
   "metadata": {},
   "source": [
    "<hr>\n",
    "\n",
    "We can use the **next()** function to manually iterate through all the elements of an iterator. \n",
    "\n",
    "**When we reach the end of the data in the iterator and there are no more elements, a StopIteration exception will be raised.**\n",
    "\n",
    "Let's continue and see if we can reach the last element of the iterator.\n",
    "<hr>"
   ]
  },
  {
   "cell_type": "code",
   "execution_count": 14,
   "id": "ae33cc21",
   "metadata": {},
   "outputs": [
    {
     "name": "stdout",
     "output_type": "stream",
     "text": [
      "12\n"
     ]
    }
   ],
   "source": [
    "# The next() function and the next() method do the same thing.\n",
    "\n",
    "print(iterator.__next__())"
   ]
  },
  {
   "cell_type": "code",
   "execution_count": 15,
   "id": "fc26c4cf",
   "metadata": {},
   "outputs": [
    {
     "ename": "StopIteration",
     "evalue": "",
     "output_type": "error",
     "traceback": [
      "\u001b[1;31m---------------------------------------------------------------------------\u001b[0m",
      "\u001b[1;31mStopIteration\u001b[0m                             Traceback (most recent call last)",
      "Cell \u001b[1;32mIn[15], line 1\u001b[0m\n\u001b[1;32m----> 1\u001b[0m \u001b[38;5;28mprint\u001b[39m(\u001b[43miterator\u001b[49m\u001b[38;5;241;43m.\u001b[39;49m\u001b[38;5;21;43m__next__\u001b[39;49m\u001b[43m(\u001b[49m\u001b[43m)\u001b[49m)\n",
      "\u001b[1;31mStopIteration\u001b[0m: "
     ]
    }
   ],
   "source": [
    "print(iterator.__next__())\n",
    "\n",
    "# you have used all the elements in your iterator. It is now empty until it is refilled"
   ]
  },
  {
   "cell_type": "code",
   "execution_count": 17,
   "id": "b8c74fb8",
   "metadata": {},
   "outputs": [
    {
     "name": "stdout",
     "output_type": "stream",
     "text": [
      "3\n",
      "6\n",
      "9\n",
      "12\n",
      "At this point, since the iterator has been emptied, \n",
      "we expect to get the StopIteration Exception after applying the following next() function.\n",
      " 🦖🦖🦖🦖🦖🦖🦖🦖🦖🦖 \n",
      " 👇👇👇👇👇👇👇👇👇👇 \n",
      "\n"
     ]
    },
    {
     "ename": "StopIteration",
     "evalue": "",
     "output_type": "error",
     "traceback": [
      "\u001b[1;31m---------------------------------------------------------------------------\u001b[0m",
      "\u001b[1;31mStopIteration\u001b[0m                             Traceback (most recent call last)",
      "Cell \u001b[1;32mIn[17], line 11\u001b[0m\n\u001b[0;32m      6\u001b[0m \u001b[38;5;28mprint\u001b[39m(my_iter\u001b[38;5;241m.\u001b[39m\u001b[38;5;21m__next__\u001b[39m())\n\u001b[0;32m      8\u001b[0m \u001b[38;5;28mprint\u001b[39m(\u001b[38;5;124m\"\u001b[39m\u001b[38;5;124mAt this point, since the iterator has been emptied, \u001b[39m\u001b[38;5;130;01m\\n\u001b[39;00m\u001b[38;5;124mwe expect\u001b[39m\u001b[38;5;130;01m\\\u001b[39;00m\n\u001b[0;32m      9\u001b[0m \u001b[38;5;124m to get the StopIteration Exception after applying the following next() function.\u001b[39m\u001b[38;5;130;01m\\n\u001b[39;00m\u001b[38;5;124m\"\u001b[39m,\n\u001b[0;32m     10\u001b[0m       \u001b[38;5;124m\"\u001b[39m\u001b[38;5;130;01m\\N{T-Rex}\u001b[39;00m\u001b[38;5;124m\"\u001b[39m\u001b[38;5;241m*\u001b[39m\u001b[38;5;241m10\u001b[39m, \u001b[38;5;124m\"\u001b[39m\u001b[38;5;130;01m\\n\u001b[39;00m\u001b[38;5;124m\"\u001b[39m,\u001b[38;5;124m\"\u001b[39m\u001b[38;5;130;01m\\U0001F447\u001b[39;00m\u001b[38;5;124m\"\u001b[39m\u001b[38;5;241m*\u001b[39m\u001b[38;5;241m10\u001b[39m,\u001b[38;5;124m\"\u001b[39m\u001b[38;5;130;01m\\n\u001b[39;00m\u001b[38;5;124m\"\u001b[39m)\n\u001b[1;32m---> 11\u001b[0m \u001b[38;5;28;43mnext\u001b[39;49m\u001b[43m(\u001b[49m\u001b[43mmy_iter\u001b[49m\u001b[43m)\u001b[49m\n\u001b[0;32m     13\u001b[0m \u001b[38;5;28mprint\u001b[39m()\n",
      "\u001b[1;31mStopIteration\u001b[0m: "
     ]
    }
   ],
   "source": [
    "my_iter = iter(my_list)\n",
    " \n",
    "print(next(my_iter))\n",
    "print(next(my_iter))\n",
    "print(my_iter.__next__())\n",
    "print(my_iter.__next__())\n",
    " \n",
    "print(\"At this point, since the iterator has been emptied, \\nwe expect\\\n",
    " to get the StopIteration Exception after applying the following next() function.\\n\",\n",
    "      \"\\N{T-Rex}\"*10, \"\\n\",\"\\U0001F447\"*10,\"\\n\")\n",
    "next(my_iter)\n",
    "\n",
    "print()"
   ]
  },
  {
   "cell_type": "markdown",
   "id": "c401e383",
   "metadata": {},
   "source": [
    "**https://unicode.org/emoji/charts/full-emoji-list.html**"
   ]
  },
  {
   "cell_type": "markdown",
   "id": "c1cedfbe",
   "metadata": {},
   "source": [
    "<a id=\"toc\"></a>\n",
    "\n",
    "### <p style=\"background-color:#9d4f8c; font-family:newtimeroman; color:#FFF9ED; font-size:175%; text-align:center; border-radius:10px 10px;\">Using iterators in for loops</p>"
   ]
  },
  {
   "cell_type": "code",
   "execution_count": 18,
   "id": "f930af8b",
   "metadata": {},
   "outputs": [],
   "source": [
    "# let's create a list of 3 strings.\n",
    "\n",
    "my_list = [\"jack\", \"orion\", \"matthew\", \"sam\"]"
   ]
  },
  {
   "cell_type": "code",
   "execution_count": 19,
   "id": "f1fc96b3",
   "metadata": {},
   "outputs": [
    {
     "name": "stdout",
     "output_type": "stream",
     "text": [
      "jack orion matthew sam "
     ]
    }
   ],
   "source": [
    "# I am using my_list as an iterator in a for loop.\n",
    "\n",
    "for i in my_list:  \n",
    "    print(i, end=\" \")"
   ]
  },
  {
   "cell_type": "markdown",
   "id": "5ac06a2f",
   "metadata": {},
   "source": [
    "<hr>\n",
    "\n",
    "Have you ever wondered how the for loop is able to iterate over a list such as my_list? \n",
    "\n",
    "The underlying mechanism behind this is the iter() and next() functions, which are the fundamental building blocks of the for loop. When you provide an iterable object (such as a list, tuple, dict, or range() function) to a for loop, the loop first creates an iterator object out of the given object using the iter() function.\n",
    "\n",
    "In each iteration of the loop, the next() function is called to select the next item in the iterator. Finally, when the StopIteration exception is raised (indicating that there are no more items left in the iterator), the loop terminates.\n",
    "<hr>"
   ]
  },
  {
   "cell_type": "code",
   "execution_count": 9,
   "id": "cb078521",
   "metadata": {},
   "outputs": [],
   "source": [
    "# Let's try to use an integer object as an iterator in a for loop now.\n",
    "\n",
    "number = 234234  "
   ]
  },
  {
   "cell_type": "code",
   "execution_count": 10,
   "id": "83c85af3",
   "metadata": {},
   "outputs": [
    {
     "ename": "TypeError",
     "evalue": "'int' object is not iterable",
     "output_type": "error",
     "traceback": [
      "\u001b[1;31m---------------------------------------------------------------------------\u001b[0m",
      "\u001b[1;31mTypeError\u001b[0m                                 Traceback (most recent call last)",
      "Cell \u001b[1;32mIn[10], line 1\u001b[0m\n\u001b[1;32m----> 1\u001b[0m \u001b[38;5;28;01mfor\u001b[39;00m i \u001b[38;5;129;01min\u001b[39;00m number :\n\u001b[0;32m      2\u001b[0m     \u001b[38;5;28mprint\u001b[39m(i)\n",
      "\u001b[1;31mTypeError\u001b[0m: 'int' object is not iterable"
     ]
    }
   ],
   "source": [
    "for i in number :\n",
    "    print(i)\n",
    "    \n",
    "# error!"
   ]
  },
  {
   "cell_type": "code",
   "execution_count": 76,
   "id": "802dadca",
   "metadata": {},
   "outputs": [
    {
     "ename": "TypeError",
     "evalue": "'int' object is not iterable",
     "output_type": "error",
     "traceback": [
      "\u001b[1;31m---------------------------------------------------------------------------\u001b[0m",
      "\u001b[1;31mTypeError\u001b[0m                                 Traceback (most recent call last)",
      "Cell \u001b[1;32mIn[76], line 1\u001b[0m\n\u001b[1;32m----> 1\u001b[0m \u001b[38;5;28;43miter\u001b[39;49m\u001b[43m(\u001b[49m\u001b[43mnumber\u001b[49m\u001b[43m)\u001b[49m\n",
      "\u001b[1;31mTypeError\u001b[0m: 'int' object is not iterable"
     ]
    }
   ],
   "source": [
    "iter(number)"
   ]
  },
  {
   "cell_type": "markdown",
   "id": "ae25f6af",
   "metadata": {},
   "source": [
    "<hr>\n",
    "\n",
    "**integers cannot be used as iterators in for loops since integers are not divisible into individual elements.** \n",
    "\n",
    "Regardless of how large an integer is, it is considered a single object and does not contain individual elements that can be iterated over or accessed. \n",
    "\n",
    "Therefore, integers cannot be used as iterators in for loops since they do not have any iterable elements to iterate over.\n",
    "<hr>"
   ]
  },
  {
   "cell_type": "markdown",
   "id": "f5688c7d",
   "metadata": {},
   "source": [
    "<hr>\n",
    "\n",
    "**We mentioned that range objects are iterable, so they can be used as iterators in their original form without requiring any visible structure:**\n",
    "<hr>"
   ]
  },
  {
   "cell_type": "code",
   "execution_count": 21,
   "id": "bea7f697",
   "metadata": {},
   "outputs": [
    {
     "name": "stdout",
     "output_type": "stream",
     "text": [
      "0 1 2 3 4 5 6 7 8 9 "
     ]
    }
   ],
   "source": [
    "for i in range(10) :  \n",
    "    print(i, end=\" \")"
   ]
  },
  {
   "cell_type": "markdown",
   "id": "8a3b71f8",
   "metadata": {},
   "source": [
    "I used the sequence of numbers generated by range(10) as an iterator. It produces numbers from 0 to 10"
   ]
  },
  {
   "cell_type": "code",
   "execution_count": 6,
   "id": "c939f49b",
   "metadata": {},
   "outputs": [
    {
     "name": "stdout",
     "output_type": "stream",
     "text": [
      "[0, 1, 4, 9, 16, 25, 36, 49, 64, 81]\n"
     ]
    }
   ],
   "source": [
    "squares = []\n",
    "for i in range(10) :  \n",
    "    squares.append(i**2)\n",
    "print(squares)"
   ]
  },
  {
   "cell_type": "markdown",
   "id": "54e78e45",
   "metadata": {},
   "source": [
    "Or, as in this code, I created a list of the squares of those numbers"
   ]
  },
  {
   "cell_type": "code",
   "execution_count": 22,
   "id": "c5b98c97",
   "metadata": {},
   "outputs": [
    {
     "data": {
      "text/plain": [
       "[0, 1, 4, 9, 16, 25, 36, 49, 64, 81]"
      ]
     },
     "execution_count": 22,
     "metadata": {},
     "output_type": "execute_result"
    }
   ],
   "source": [
    "[i**2 for i in range(10)]"
   ]
  },
  {
   "cell_type": "markdown",
   "id": "60ac8750",
   "metadata": {},
   "source": [
    "if we want, we can use them as the index numbers of a list:"
   ]
  },
  {
   "cell_type": "code",
   "execution_count": 24,
   "id": "984b7b49",
   "metadata": {},
   "outputs": [
    {
     "name": "stdout",
     "output_type": "stream",
     "text": [
      "index no: 0 is : banana\n",
      "index no: 1 is : mango\n",
      "index no: 2 is : pear\n",
      "index no: 3 is : apple\n",
      "index no: 4 is : kiwi\n",
      "index no: 5 is : grape\n"
     ]
    }
   ],
   "source": [
    "fruits = [\"banana\", \"mango\", \"pear\", \"apple\", \"kiwi\", \"grape\"]\n",
    "\n",
    "for i in range(len(fruits)) :\n",
    "    print(f\"index no: {i} is : {fruits[i]}\")"
   ]
  },
  {
   "cell_type": "markdown",
   "id": "68dd7968",
   "metadata": {},
   "source": [
    "or we can use them as a multiplier."
   ]
  },
  {
   "cell_type": "code",
   "execution_count": 23,
   "id": "672ab12a",
   "metadata": {},
   "outputs": [
    {
     "name": "stdout",
     "output_type": "stream",
     "text": [
      "1\n",
      "22\n",
      "333\n",
      "4444\n",
      "55555\n",
      "666666\n",
      "7777777\n",
      "88888888\n",
      "999999999\n"
     ]
    }
   ],
   "source": [
    "for i in range(1, 10):\n",
    "    print(str(i) * i)"
   ]
  },
  {
   "cell_type": "markdown",
   "id": "c4976fc8",
   "metadata": {},
   "source": [
    "Since strings are iterable objects, they can be used as an iterator"
   ]
  },
  {
   "cell_type": "code",
   "execution_count": 7,
   "id": "e68cd11e",
   "metadata": {},
   "outputs": [
    {
     "name": "stdout",
     "output_type": "stream",
     "text": [
      "THANK GOODNESS I AM LEARNING PYTHON."
     ]
    }
   ],
   "source": [
    "# Could this iterable be a string as well.\n",
    "\n",
    "for i in \"Thank goodness I am learning Python.\":\n",
    "    print(i.upper(), end=\"\")"
   ]
  },
  {
   "cell_type": "markdown",
   "id": "22b379ca",
   "metadata": {},
   "source": [
    "<a id=\"toc\"></a>\n",
    "\n",
    "### <p style=\"background-color:#9d4f8c; font-family:newtimeroman; color:#FFF9ED; font-size:175%; text-align:center; border-radius:10px 10px;\">Generator Comprehension</p>"
   ]
  },
  {
   "cell_type": "markdown",
   "id": "df97f8b6",
   "metadata": {},
   "source": [
    "<hr>\n",
    "\n",
    "A generator is a special kind of iterator, which stores the instructions for how to generate each of its members, in order, along with its current state of iterations. It generates each member, one at a time, only as it is requested via iteration.\n",
    "\n",
    "Recall that a list readily stores all of its members; you can access any of its contents via indexing. \n",
    "\n",
    "A generator, on the other hand, does not store any items. Instead, it stores the instructions for generating each of its members, and stores its iteration state; \n",
    "\n",
    "this means that the generator will know if it has generated its second member, and will thus generate its third member the next time it is iterated on.\n",
    "\n",
    "The whole point of this is that you can use a generator to produce a long sequence of items, without having to store them all in memory.\n",
    "\n",
    "Because range is a generator, the command range(5) will simply store the instructions needed to produce the sequence of numbers 0-4, whereas the list [0, 1, 2, 3, 4] stores all of these items in memory at once.\n",
    "\n",
    "For short sequences, this seems to be a rather paltry savings; this is not the case for long sequences. \n",
    "\n",
    "A generator comprehension is a single-line specification for defining a generator in Python. It is absolutely essential to learn this syntax in order to write simple and readable code.\n",
    "\n",
    "<hr>"
   ]
  },
  {
   "cell_type": "code",
   "execution_count": null,
   "id": "d7186a7c",
   "metadata": {},
   "outputs": [],
   "source": [
    "# list comprehension. (a visible object returned)\n",
    "\n",
    "[i ** 2 for i in range(6)]"
   ]
  },
  {
   "cell_type": "code",
   "execution_count": 2,
   "id": "7f1c750b",
   "metadata": {},
   "outputs": [
    {
     "data": {
      "text/plain": [
       "<generator object <genexpr> at 0x000001F187725270>"
      ]
     },
     "execution_count": 2,
     "metadata": {},
     "output_type": "execute_result"
    }
   ],
   "source": [
    "# create a tuple using tuple comprehension.\n",
    "\n",
    "(i ** 2 for i in range(6))\n",
    "\n",
    "# a \"lazy\" generator object created."
   ]
  },
  {
   "cell_type": "markdown",
   "id": "e753aefb",
   "metadata": {},
   "source": [
    "**list comprehension vs generator expression (comprehension)**\n",
    "\n",
    "- A list comprehension returns a list while a generator expression returns a generator object.\n",
    "\n",
    "- It means that a list comprehension returns a complete list of elements upfront. However, a generator expression returns a list of elements, one at a time, based on request.\n",
    "\n",
    "- A list comprehension is eager while a generator expression is lazy.\n",
    "\n",
    "- In other words, a list comprehension creates all elements right away and loads all of them into the memory.\n",
    "\n",
    "- Conversely, a generator expression creates a single element based on request. It loads only one single element to the memory.\n",
    "\n",
    "- A list comprehension returns an iterable. It means that you can iterate over the result of a list comprehension again and again.\n",
    "\n",
    "- However, a generator expression returns an iterator, specifically a lazy iterator. It becomes exhausting when you complete iterating over it."
   ]
  },
  {
   "cell_type": "code",
   "execution_count": 1,
   "id": "175c6a92",
   "metadata": {},
   "outputs": [],
   "source": [
    "generator = (i ** 2 for i in range(6))"
   ]
  },
  {
   "cell_type": "code",
   "execution_count": 2,
   "id": "475f26ef",
   "metadata": {
    "scrolled": true
   },
   "outputs": [
    {
     "data": {
      "text/plain": [
       "[0, 1, 4, 9, 16, 25]"
      ]
     },
     "execution_count": 2,
     "metadata": {},
     "output_type": "execute_result"
    }
   ],
   "source": [
    "list(generator)"
   ]
  },
  {
   "cell_type": "markdown",
   "id": "1c791528",
   "metadata": {},
   "source": [
    "## some other examples:"
   ]
  },
  {
   "cell_type": "code",
   "execution_count": 3,
   "id": "c20fe72c",
   "metadata": {},
   "outputs": [
    {
     "name": "stdout",
     "output_type": "stream",
     "text": [
      "0.0 4.5 10.5 16.0\n"
     ]
    }
   ],
   "source": [
    "generator2 = (i/2 for i in [0, 9, 21, 32])\n",
    "print(*generator2)"
   ]
  },
  {
   "cell_type": "code",
   "execution_count": 4,
   "id": "cd77e362",
   "metadata": {},
   "outputs": [
    {
     "name": "stdout",
     "output_type": "stream",
     "text": [
      "0 2 4 6 8 10 12 14 16 18 20 22 24 26 28 30 32 34 36 38 40 42 44 46 48 50 52 54 56 58 60 62 64 66 68 70 72 74 76 78 80 82 84 86 88 90 92 94 96 98\n"
     ]
    }
   ],
   "source": [
    "generator3 = (i for i in range(100) if i%2 == 0)\n",
    "print(*generator3)"
   ]
  },
  {
   "cell_type": "markdown",
   "id": "8b75c40c",
   "metadata": {},
   "source": [
    "**\"expression\" can be any valid single-line of Python code that returns an object:**"
   ]
  },
  {
   "cell_type": "code",
   "execution_count": 6,
   "id": "7166b86f",
   "metadata": {},
   "outputs": [
    {
     "data": {
      "text/plain": [
       "<generator object <genexpr> at 0x00000273DD98B890>"
      ]
     },
     "execution_count": 6,
     "metadata": {},
     "output_type": "execute_result"
    }
   ],
   "source": [
    "((i, i**2, i**3) for i in range(10))"
   ]
  },
  {
   "cell_type": "code",
   "execution_count": 10,
   "id": "793a3c41",
   "metadata": {},
   "outputs": [
    {
     "name": "stdout",
     "output_type": "stream",
     "text": [
      "(0, 0, 0) (1, 1, 1) (2, 4, 8) (3, 9, 27) (4, 16, 64) (5, 25, 125) (6, 36, 216) (7, 49, 343) (8, 64, 512) (9, 81, 729)\n"
     ]
    }
   ],
   "source": [
    "print(*((i, i**2, i**3) for i in range(10)))"
   ]
  },
  {
   "cell_type": "markdown",
   "id": "beb1dff4",
   "metadata": {},
   "source": [
    "**This means that \"expression\" can even involve inline if-else statements:**"
   ]
  },
  {
   "cell_type": "code",
   "execution_count": 12,
   "id": "196a2325",
   "metadata": {},
   "outputs": [
    {
     "name": "stdout",
     "output_type": "stream",
     "text": [
      "apple apple apple pie pie pie\n"
     ]
    }
   ],
   "source": [
    "generator5 = ((\"apple\" if i < 3 else \"pie\") for i in range(6))\n",
    "\n",
    "print(*generator5)"
   ]
  },
  {
   "cell_type": "code",
   "execution_count": 7,
   "id": "89552cf4",
   "metadata": {},
   "outputs": [
    {
     "data": {
      "text/plain": [
       "<generator object <genexpr> at 0x00000273DD98BCF0>"
      ]
     },
     "execution_count": 7,
     "metadata": {},
     "output_type": "execute_result"
    }
   ],
   "source": [
    "generator4 = (i/2 for i in [0, 9, 21, 32])\n",
    "generator4"
   ]
  },
  {
   "cell_type": "code",
   "execution_count": 9,
   "id": "0f00c9b1",
   "metadata": {
    "scrolled": true
   },
   "outputs": [
    {
     "name": "stdout",
     "output_type": "stream",
     "text": [
      "0.0\n",
      "4.5\n",
      "10.5\n",
      "16.0\n"
     ]
    }
   ],
   "source": [
    "for item in generator4:\n",
    "    print(item)"
   ]
  },
  {
   "cell_type": "markdown",
   "id": "2ab8b6cb",
   "metadata": {},
   "source": [
    "<a id=\"toc\"></a>\n",
    "\n",
    "### <p style=\"background-color:#0D8D99; font-family:newtimeroman; color:#FFF9ED; font-size:175%; text-align:center; border-radius:10px 10px;\">Valid Paranthesis</p> "
   ]
  },
  {
   "cell_type": "markdown",
   "id": "7da40a02",
   "metadata": {},
   "source": [
    "```\n",
    "Input        Output\n",
    "--------:    ------:\n",
    "\"()\"         True\n",
    "\"()[]{}\"     True\n",
    "\"(]\"         False\n",
    "\"([)]\"       False\n",
    "\"{[]}\"       True\n",
    "\"\"           True\n",
    "```"
   ]
  },
  {
   "cell_type": "markdown",
   "id": "399ef85e",
   "metadata": {},
   "source": [
    "We will brainstorm the shortest solution for this problem, although there may be longer methods to solve it."
   ]
  },
  {
   "cell_type": "markdown",
   "id": "df60fd6d",
   "metadata": {},
   "source": [
    "<hr>\n",
    "\n",
    "Let's think. What is the rule for a parenthesis to be valid? \n",
    "\n",
    "If there is one normal parenthesis, there must be a corresponding normal parenthesis. If there is one curly brace, there must be a corresponding curly brace. If there is one square bracket, there must be a corresponding square bracket.\n",
    "\n",
    "And imagine that there are many of these nested in a way that satisfies this rule\n",
    "\n",
    "For example, are the parentheses in this string valid? Do all parentheses have a corresponding one? :\n",
    "<hr>"
   ]
  },
  {
   "cell_type": "markdown",
   "id": "e6e895fa",
   "metadata": {},
   "source": [
    "**Check if there are corresponding closing parentheses for the opening ones!**"
   ]
  },
  {
   "cell_type": "code",
   "execution_count": null,
   "id": "c5d3a238",
   "metadata": {},
   "outputs": [],
   "source": [
    "\"([{({})}]({}))\"  "
   ]
  },
  {
   "cell_type": "markdown",
   "id": "81d15db8",
   "metadata": {},
   "source": [
    "<hr>\n",
    "\n",
    "If you noticed, there is always an opening and a closing parenthesis right next to each other in the innermost level.\n",
    "\n",
    "Therefore, if we start from the innermost level and delete the parentheses that satisfy this condition, and if we end up with no parentheses left, then all parentheses in this string are properly written. \n",
    "\n",
    "So our criterion for having valid parentheses is to end up with an empty string after deleting matching parentheses from the innermost level to the outermost.\n",
    "<hr>"
   ]
  },
  {
   "cell_type": "markdown",
   "id": "1bc638e9",
   "metadata": {},
   "source": [
    "![python.exe](https://drive.google.com/uc?id=1CftFclHt3EPM4i4v9Mxm9vH7Mrxye6SE)"
   ]
  },
  {
   "cell_type": "markdown",
   "id": "d1ccc2cc",
   "metadata": {},
   "source": [
    "<hr>\n",
    "\n",
    "So if I start from the innermost level and delete the opening-closing parentheses one by one until I reach an empty string, then the parentheses are valid.\n",
    "\n",
    "If they are not valid, then instead of an empty string, I will have a parenthesis left at the end.\n",
    "<hr>"
   ]
  },
  {
   "cell_type": "markdown",
   "id": "b4ad0523",
   "metadata": {},
   "source": [
    "**Let's now turn this into code.**\n",
    "\n",
    "We will proceed by making these queries:<br> \n",
    "Does this string contain any open and close parentheses?<br>\n",
    "Are there any open and close square brackets?<br>\n",
    "Are there any open and close curly braces?<br>\n",
    "\n",
    "Each time, we will check all three conditions. If any of them is satisfied, we will delete the substring that satisfies that condition."
   ]
  },
  {
   "cell_type": "markdown",
   "id": "a1e1f715",
   "metadata": {},
   "source": [
    "**How can we delete a character from a string? Can we use the replace() method?**"
   ]
  },
  {
   "cell_type": "code",
   "execution_count": 14,
   "id": "39d5336b",
   "metadata": {},
   "outputs": [
    {
     "data": {
      "text/plain": [
       "'ally+kirby+betty'"
      ]
     },
     "execution_count": 14,
     "metadata": {},
     "output_type": "execute_result"
    }
   ],
   "source": [
    "\"ally-kirby-betty\".replace(\"-\", \"+\")"
   ]
  },
  {
   "cell_type": "markdown",
   "id": "a2a00d76",
   "metadata": {},
   "source": [
    "We replaced the '-' characters with '+'. \n",
    "\n",
    "**Note that the replace() method, which is a method of strings, is applied to a string and returns a string.**\n",
    "\n",
    "Then let's delete the dashes with the replace() method:"
   ]
  },
  {
   "cell_type": "code",
   "execution_count": 15,
   "id": "c95e4610",
   "metadata": {},
   "outputs": [
    {
     "data": {
      "text/plain": [
       "'allykirbybetty'"
      ]
     },
     "execution_count": 15,
     "metadata": {},
     "output_type": "execute_result"
    }
   ],
   "source": [
    "\"ally-kirby-betty\".replace(\"-\", \"\")"
   ]
  },
  {
   "cell_type": "markdown",
   "id": "544ced91",
   "metadata": {},
   "source": [
    "I can apply multiple methods in sequence by utilizing the property of the method applied to the string to return another string :"
   ]
  },
  {
   "cell_type": "code",
   "execution_count": 16,
   "id": "b2f6b6c8",
   "metadata": {},
   "outputs": [
    {
     "data": {
      "text/plain": [
       "'llykrbybetty'"
      ]
     },
     "execution_count": 16,
     "metadata": {},
     "output_type": "execute_result"
    }
   ],
   "source": [
    "\"ally-kirby-betty\".replace(\"-\", \"\").replace(\"a\", \"\").replace(\"i\", \"\")"
   ]
  },
  {
   "cell_type": "markdown",
   "id": "2799d7ff",
   "metadata": {},
   "source": [
    "**However, here is an important point to note!**\n",
    "\n",
    "The methods we apply to strings return a new string object, but they do not modify the original string object. This is because strings are immutable (they cannot be changed in-place). \n",
    "\n",
    "**So, if I want to keep the modified version of the string, I should assign it to a variable.** \n",
    "\n",
    "**When we want to update an immutable object, assigning the modified version to itself works.**"
   ]
  },
  {
   "cell_type": "code",
   "execution_count": 21,
   "id": "4254db81",
   "metadata": {},
   "outputs": [
    {
     "data": {
      "text/plain": [
       "'allykirbybetty'"
      ]
     },
     "execution_count": 21,
     "metadata": {},
     "output_type": "execute_result"
    }
   ],
   "source": [
    "original_str = \"ally-kirby-betty\"\n",
    "\n",
    "original_str.replace(\"-\", \"\")"
   ]
  },
  {
   "cell_type": "code",
   "execution_count": 22,
   "id": "875bcd9e",
   "metadata": {},
   "outputs": [
    {
     "data": {
      "text/plain": [
       "'ally-kirby-betty'"
      ]
     },
     "execution_count": 22,
     "metadata": {},
     "output_type": "execute_result"
    }
   ],
   "source": [
    "original_str"
   ]
  },
  {
   "cell_type": "code",
   "execution_count": 23,
   "id": "0dd425d1",
   "metadata": {},
   "outputs": [
    {
     "data": {
      "text/plain": [
       "'allykirbybetty'"
      ]
     },
     "execution_count": 23,
     "metadata": {},
     "output_type": "execute_result"
    }
   ],
   "source": [
    "updated_str = original_str.replace(\"-\", \"\")\n",
    "\n",
    "updated_str"
   ]
  },
  {
   "cell_type": "markdown",
   "id": "16bbb162",
   "metadata": {},
   "source": [
    "**When we want to update an immutable object, assigning the modified version to itself works:**"
   ]
  },
  {
   "cell_type": "code",
   "execution_count": 24,
   "id": "ddc94901",
   "metadata": {},
   "outputs": [],
   "source": [
    "original_str = original_str.replace(\"-\", \"\")"
   ]
  },
  {
   "cell_type": "code",
   "execution_count": 25,
   "id": "a5c9436f",
   "metadata": {},
   "outputs": [
    {
     "data": {
      "text/plain": [
       "'allykirbybetty'"
      ]
     },
     "execution_count": 25,
     "metadata": {},
     "output_type": "execute_result"
    }
   ],
   "source": [
    "original_str"
   ]
  },
  {
   "cell_type": "markdown",
   "id": "49213683",
   "metadata": {},
   "source": [
    "**Now let's start defining our function:**"
   ]
  },
  {
   "cell_type": "code",
   "execution_count": null,
   "id": "d707949f",
   "metadata": {},
   "outputs": [],
   "source": [
    "def isValid(s) :"
   ]
  },
  {
   "cell_type": "code",
   "execution_count": 26,
   "id": "63e62a09",
   "metadata": {},
   "outputs": [],
   "source": [
    "s = \"[([{({})}]({}))\""
   ]
  },
  {
   "cell_type": "code",
   "execution_count": 27,
   "id": "ec489d60",
   "metadata": {},
   "outputs": [
    {
     "data": {
      "text/plain": [
       "False"
      ]
     },
     "execution_count": 27,
     "metadata": {},
     "output_type": "execute_result"
    }
   ],
   "source": [
    "\"()\" in s\n",
    "\n",
    "# There are no \"open-close parentheses\" in my string."
   ]
  },
  {
   "cell_type": "code",
   "execution_count": 28,
   "id": "0656197b",
   "metadata": {},
   "outputs": [
    {
     "data": {
      "text/plain": [
       "False"
      ]
     },
     "execution_count": 28,
     "metadata": {},
     "output_type": "execute_result"
    }
   ],
   "source": [
    "\"[]\" in s\n",
    "\n",
    "# There are no 'open-close square brackets' in my string"
   ]
  },
  {
   "cell_type": "code",
   "execution_count": 29,
   "id": "c68088e6",
   "metadata": {},
   "outputs": [
    {
     "data": {
      "text/plain": [
       "True"
      ]
     },
     "execution_count": 29,
     "metadata": {},
     "output_type": "execute_result"
    }
   ],
   "source": [
    "\"{}\" in s\n",
    "\n",
    "# There we go! The string contains 'open-close curly braces'"
   ]
  },
  {
   "cell_type": "markdown",
   "id": "2f2090a6",
   "metadata": {},
   "source": [
    "**Then, I can establish a while loop and use the 'in' operator in its condition to provide the necessary check I need.**"
   ]
  },
  {
   "cell_type": "code",
   "execution_count": null,
   "id": "f0adaf53",
   "metadata": {},
   "outputs": [],
   "source": [
    "def isValid(s) :\n",
    "    while \"()\" in s or \"[]\" in s or \"{}\" in s :"
   ]
  },
  {
   "cell_type": "markdown",
   "id": "14692563",
   "metadata": {},
   "source": [
    "Since I used the 'or' logical operator in the condition, the loop will continue to run as long as it finds any of the parentheses, regardless of which one it is.\n",
    "\n",
    "**Now we can write the code block that will perform the deletion operation:**"
   ]
  },
  {
   "cell_type": "code",
   "execution_count": null,
   "id": "17f87bd1",
   "metadata": {},
   "outputs": [],
   "source": [
    "def isValid(s) :\n",
    "    while \"()\" in s or \"[]\" in s or \"{}\" in s :\n",
    "        s = s.replace(\"()\", \"\").replace(\"[]\", \"\").replace(\"{}\", \"\") # {buraya önce s = yazma!}\n",
    "    \n",
    "    return s == \"\""
   ]
  },
  {
   "cell_type": "markdown",
   "id": "053b47de",
   "metadata": {},
   "source": [
    "After exiting the while loop, we write the condition **return s == \"\"** to return **True** \n",
    "\n",
    "if the resulting string is empty. **f there is any character left in the string**, it will return **False**"
   ]
  },
  {
   "cell_type": "code",
   "execution_count": 8,
   "id": "2ab8efc3",
   "metadata": {},
   "outputs": [
    {
     "data": {
      "text/plain": [
       "False"
      ]
     },
     "execution_count": 8,
     "metadata": {},
     "output_type": "execute_result"
    }
   ],
   "source": [
    "isValid(s)"
   ]
  },
  {
   "cell_type": "markdown",
   "id": "09fb52d6",
   "metadata": {},
   "source": [
    "Let's input another parentheses group to the function:"
   ]
  },
  {
   "cell_type": "code",
   "execution_count": 9,
   "id": "82b26ce4",
   "metadata": {},
   "outputs": [
    {
     "data": {
      "text/plain": [
       "True"
      ]
     },
     "execution_count": 9,
     "metadata": {},
     "output_type": "execute_result"
    }
   ],
   "source": [
    "isValid(\"([{({})}]({}))\")"
   ]
  },
  {
   "cell_type": "markdown",
   "id": "d1d5e5ce",
   "metadata": {},
   "source": [
    "![python.exe](https://drive.google.com/uc?id=1oY07NFR8n0Q3oP9CwwxLWh40cGEb_YkU)"
   ]
  }
 ],
 "metadata": {
  "kernelspec": {
   "display_name": "Python 3 (ipykernel)",
   "language": "python",
   "name": "python3"
  },
  "language_info": {
   "codemirror_mode": {
    "name": "ipython",
    "version": 3
   },
   "file_extension": ".py",
   "mimetype": "text/x-python",
   "name": "python",
   "nbconvert_exporter": "python",
   "pygments_lexer": "ipython3",
   "version": "3.9.12"
  }
 },
 "nbformat": 4,
 "nbformat_minor": 5
}
