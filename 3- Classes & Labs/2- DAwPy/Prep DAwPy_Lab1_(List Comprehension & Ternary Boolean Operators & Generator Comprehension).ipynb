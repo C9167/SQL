{
 "cells": [
  {
   "cell_type": "markdown",
   "id": "0d513a37",
   "metadata": {},
   "source": [
    "![python.exe](https://drive.google.com/uc?id=1oY07NFR8n0Q3oP9CwwxLWh40cGEb_YkU)"
   ]
  },
  {
   "cell_type": "markdown",
   "id": "97d2a08c",
   "metadata": {},
   "source": [
    "<a id=\"toc\"></a>\n",
    "\n",
    "## <p style=\"background-color:#0D8D99; font-family:newtimeroman; color:#FFF9ED; font-size:175%; text-align:center; border-radius:10px 10px;\">List Comprehension<br>Ternary Boolean Operators<br>Generator Comprehension</p>"
   ]
  },
  {
   "cell_type": "markdown",
   "id": "bb821073",
   "metadata": {},
   "source": [
    "<a id=\"toc\"></a>\n",
    "\n",
    "### <p style=\"background-color:#9d4f8c; font-family:newtimeroman; color:#FFF9ED; font-size:175%; text-align:center; border-radius:10px 10px;\">List Comprehension</p>"
   ]
  },
  {
   "cell_type": "markdown",
   "id": "ef3fc11f",
   "metadata": {},
   "source": [
    "**Python official document (PEP 202): https://peps.python.org/pep-0202/**\n",
    "\n",
    "**Python list comprehension: https://www.geeksforgeeks.org/python-list-comprehension/**"
   ]
  },
  {
   "cell_type": "markdown",
   "id": "6f13441c",
   "metadata": {},
   "source": [
    "![python.exe](https://drive.google.com/uc?id=1tIr30tdA3Pj7LxVz2vccR9GQvoyubDTh)"
   ]
  },
  {
   "cell_type": "markdown",
   "id": "9be437ff",
   "metadata": {},
   "source": [
    "![python.exe](https://drive.google.com/uc?id=1s_FICRMyo94GFzWkZ6SfEhaXtsSOJbko)"
   ]
  },
  {
   "cell_type": "markdown",
   "id": "4345ea92",
   "metadata": {},
   "source": [
    "Let's recall, the general structure of a for loop is as follows:"
   ]
  },
  {
   "cell_type": "markdown",
   "id": "15497734",
   "metadata": {},
   "source": [
    "```python\n",
    "# classic for loop structure:\n",
    "\n",
    "for variable in iterable :\n",
    "    expression\n",
    "\n",
    "# list comprehension structure:\n",
    "[expression for item in iterable]\n",
    "```"
   ]
  },
  {
   "cell_type": "markdown",
   "id": "9bfe2ec5",
   "metadata": {},
   "source": [
    " the \"for\" keyword, followed by the variable name, then the \"in\" keyword, then the iterable, two colons, and finally the code body belonging to the loop"
   ]
  },
  {
   "cell_type": "code",
   "execution_count": 1,
   "id": "55594939",
   "metadata": {},
   "outputs": [
    {
     "data": {
      "text/plain": [
       "[0, 1, 2, 3, 4]"
      ]
     },
     "execution_count": 1,
     "metadata": {},
     "output_type": "execute_result"
    }
   ],
   "source": [
    "numbers = []\n",
    "\n",
    "for n in range(5):\n",
    "    numbers.append(n)\n",
    "\n",
    "numbers"
   ]
  },
  {
   "cell_type": "markdown",
   "id": "85526add",
   "metadata": {},
   "source": [
    "We have an iterable, and we iterate over it, meaning we go through its elements one by one. In each iteration, one element is assigned to our variable, and the expression in the code body instructs what to do is executed accordingly.\n",
    "\n",
    "Now, let's assume that the code body contains an append method, and let's imagine that we are adding elements to a list."
   ]
  },
  {
   "cell_type": "code",
   "execution_count": 2,
   "id": "df55db4c",
   "metadata": {},
   "outputs": [
    {
     "name": "stdout",
     "output_type": "stream",
     "text": [
      "[0]\n",
      "[0, 1]\n",
      "[0, 1, 2]\n",
      "[0, 1, 2, 3]\n",
      "[0, 1, 2, 3, 4]\n",
      "---------------\n",
      "[0, 1, 2, 3, 4]\n"
     ]
    }
   ],
   "source": [
    "numbers = []\n",
    "\n",
    "for n in range(5):   \n",
    "    numbers.append(n)\n",
    "    print(numbers)\n",
    "\n",
    "print(\"---------------\")\n",
    "print(numbers)"
   ]
  },
  {
   "cell_type": "markdown",
   "id": "bc37dd8d",
   "metadata": {},
   "source": [
    "If we want to do this with a list comprehension, here's what we do:"
   ]
  },
  {
   "cell_type": "code",
   "execution_count": 53,
   "id": "e91c462b",
   "metadata": {},
   "outputs": [
    {
     "data": {
      "text/plain": [
       "[0, 1, 2, 3, 4]"
      ]
     },
     "execution_count": 53,
     "metadata": {},
     "output_type": "execute_result"
    }
   ],
   "source": [
    "[i for i in range(5)]"
   ]
  },
  {
   "cell_type": "markdown",
   "id": "d6f87412",
   "metadata": {},
   "source": [
    "First, we open a square bracket. When we open a square bracket, we create a list, right? This will be our list that we will fill in.\n",
    "\n",
    "Now, first comes our expression. We write the expression that will do the job in the code body of a classic for loop at the beginning. If we are going to append elements to a list one by one, we don't need to use the append() method because list comprehension already does the appending. Then, we write the first line of the for loop. That's it.\n",
    "\n",
    "That's it. There are no two colons, so there is no separate line for indentation and a separate code block. Everything is done in a single line.\n",
    "\n",
    "Look, we can do the job of the for loop above with this single-line code."
   ]
  },
  {
   "cell_type": "code",
   "execution_count": 54,
   "id": "d0dfcf56",
   "metadata": {},
   "outputs": [
    {
     "data": {
      "text/plain": [
       "[0, 1, 4, 9, 16]"
      ]
     },
     "execution_count": 54,
     "metadata": {},
     "output_type": "execute_result"
    }
   ],
   "source": [
    "[i ** 2 for i in range(5)]\n",
    "\n",
    "# or:\n",
    "# [i * i for i in range(5)]"
   ]
  },
  {
   "cell_type": "code",
   "execution_count": 55,
   "id": "20f115ac",
   "metadata": {},
   "outputs": [
    {
     "data": {
      "text/plain": [
       "'Jane Austen'"
      ]
     },
     "execution_count": 55,
     "metadata": {},
     "output_type": "execute_result"
    }
   ],
   "source": [
    "\"jane austen\".title()"
   ]
  },
  {
   "cell_type": "code",
   "execution_count": 3,
   "id": "55f7cfcb",
   "metadata": {},
   "outputs": [
    {
     "data": {
      "text/plain": [
       "['Jane Austen', 'George Orwell', 'James Clear', 'Cal Newport']"
      ]
     },
     "execution_count": 3,
     "metadata": {},
     "output_type": "execute_result"
    }
   ],
   "source": [
    "authors = [\"jane austen\", \"george orwell\", \"james clear\", \"cal newport\"]\n",
    "\n",
    "author_list = [i.title() for i in authors] \n",
    "author_list"
   ]
  },
  {
   "cell_type": "markdown",
   "id": "a0f83314",
   "metadata": {},
   "source": [
    "**Here one more example:**\n",
    "\n",
    "**Let's say we have the following two lists that consist of the lengths of the sides of four rectangles in order. Let's create a new list consisting of the areas of these four rectangles.**"
   ]
  },
  {
   "cell_type": "code",
   "execution_count": 4,
   "id": "bf7f0170",
   "metadata": {},
   "outputs": [
    {
     "data": {
      "text/plain": [
       "<zip at 0x1c29b6b3f40>"
      ]
     },
     "execution_count": 4,
     "metadata": {},
     "output_type": "execute_result"
    }
   ],
   "source": [
    "a = [4,5,6,7]\n",
    "b = [8,9,10,11]\n",
    "\n",
    "# I will use zip() function.\n",
    "zip(a, b)"
   ]
  },
  {
   "cell_type": "code",
   "execution_count": 5,
   "id": "c44b2e4b",
   "metadata": {},
   "outputs": [
    {
     "data": {
      "text/plain": [
       "[(4, 8), (5, 9), (6, 10), (7, 11)]"
      ]
     },
     "execution_count": 5,
     "metadata": {},
     "output_type": "execute_result"
    }
   ],
   "source": [
    "# Let's make the zip object visible:\n",
    "\n",
    "list(zip(a, b))"
   ]
  },
  {
   "cell_type": "code",
   "execution_count": 10,
   "id": "e740210a",
   "metadata": {},
   "outputs": [
    {
     "data": {
      "text/plain": [
       "[(4, 8), (5, 9), (6, 10), (7, 11)]"
      ]
     },
     "execution_count": 10,
     "metadata": {},
     "output_type": "execute_result"
    }
   ],
   "source": [
    "# with for loop:\n",
    "\n",
    "dimenson_list=[]\n",
    "\n",
    "for i in zip(a, b) :\n",
    "    dimenson_list.append(i)\n",
    "    \n",
    "dimenson_list"
   ]
  },
  {
   "cell_type": "code",
   "execution_count": 11,
   "id": "5cb00ace",
   "metadata": {},
   "outputs": [
    {
     "data": {
      "text/plain": [
       "(4, 8)"
      ]
     },
     "execution_count": 11,
     "metadata": {},
     "output_type": "execute_result"
    }
   ],
   "source": [
    "dimenson_list[0]\n",
    "\n",
    "# See, now I can index this list and access the tuples inside it."
   ]
  },
  {
   "cell_type": "code",
   "execution_count": 12,
   "id": "47047240",
   "metadata": {},
   "outputs": [
    {
     "data": {
      "text/plain": [
       "(5, 9)"
      ]
     },
     "execution_count": 12,
     "metadata": {},
     "output_type": "execute_result"
    }
   ],
   "source": [
    "dimenson_list[1]"
   ]
  },
  {
   "cell_type": "code",
   "execution_count": 62,
   "id": "1d8097ad",
   "metadata": {},
   "outputs": [
    {
     "name": "stdout",
     "output_type": "stream",
     "text": [
      "4\n",
      "8\n"
     ]
    }
   ],
   "source": [
    "# If I can access the tuples, I can assign them to variables using tuple unpacking method:\n",
    "\n",
    "j, k = (4, 8)\n",
    "\n",
    "print(j)\n",
    "print(k)"
   ]
  },
  {
   "cell_type": "code",
   "execution_count": 13,
   "id": "ef5a603c",
   "metadata": {},
   "outputs": [
    {
     "name": "stdout",
     "output_type": "stream",
     "text": [
      "4\n",
      "8\n"
     ]
    }
   ],
   "source": [
    "j, k = dimenson_list[0]\n",
    "\n",
    "print(j)\n",
    "print(k)"
   ]
  },
  {
   "cell_type": "code",
   "execution_count": 65,
   "id": "dfb51f9a",
   "metadata": {},
   "outputs": [
    {
     "name": "stdout",
     "output_type": "stream",
     "text": [
      "32\n"
     ]
    }
   ],
   "source": [
    "# Since we can access the elements inside tuples within a list, \n",
    "  # we can perform arithmetic operations with them.\n",
    "\n",
    "print(j * k)"
   ]
  },
  {
   "cell_type": "code",
   "execution_count": 14,
   "id": "c09e39b1",
   "metadata": {},
   "outputs": [
    {
     "data": {
      "text/plain": [
       "[(4, 8), (5, 9), (6, 10), (7, 11)]"
      ]
     },
     "execution_count": 14,
     "metadata": {},
     "output_type": "execute_result"
    }
   ],
   "source": [
    "dimenson_list = list(zip(a, b))\n",
    "\n",
    "dimenson_list"
   ]
  },
  {
   "cell_type": "code",
   "execution_count": 15,
   "id": "76904ef2",
   "metadata": {},
   "outputs": [
    {
     "data": {
      "text/plain": [
       "[32, 45, 60, 77]"
      ]
     },
     "execution_count": 15,
     "metadata": {},
     "output_type": "execute_result"
    }
   ],
   "source": [
    "# Now we can easily calculate the areas of these rectangles. \n",
    "# All we have to do is to multiply the corresponding edge lengths in the lists a and b with each other\n",
    "\n",
    "area_list = []\n",
    "\n",
    "for i in range(len(dimenson_list)) :\n",
    "    j, k = dimenson_list[i]\n",
    "    area_list.append(j * k)\n",
    "    \n",
    "area_list"
   ]
  },
  {
   "cell_type": "code",
   "execution_count": 16,
   "id": "e2c477e7",
   "metadata": {},
   "outputs": [
    {
     "data": {
      "text/plain": [
       "[(4, 8), (5, 9), (6, 10), (7, 11)]"
      ]
     },
     "execution_count": 16,
     "metadata": {},
     "output_type": "execute_result"
    }
   ],
   "source": [
    "dimenson_list"
   ]
  },
  {
   "cell_type": "code",
   "execution_count": 18,
   "id": "679ed918",
   "metadata": {},
   "outputs": [
    {
     "data": {
      "text/plain": [
       "[32, 45, 60, 77]"
      ]
     },
     "execution_count": 18,
     "metadata": {},
     "output_type": "execute_result"
    }
   ],
   "source": [
    "# Now let's shorten our code a bit. \n",
    "# We can define 2 variables (i and j) in the for loop. \n",
    "# This way, we can assign the tuples consisting of 2 elements in the list to i and j each time\n",
    "\n",
    "area_list = []\n",
    "\n",
    "for i, j in dimenson_list :\n",
    "    area_list.append(i * j)\n",
    "    \n",
    "area_list"
   ]
  },
  {
   "cell_type": "markdown",
   "id": "dadbfc72",
   "metadata": {},
   "source": [
    "**Now let's solve the same question using list comprehension:**"
   ]
  },
  {
   "cell_type": "code",
   "execution_count": 20,
   "id": "098902e2",
   "metadata": {},
   "outputs": [
    {
     "data": {
      "text/plain": [
       "[32, 45, 60, 77]"
      ]
     },
     "execution_count": 20,
     "metadata": {},
     "output_type": "execute_result"
    }
   ],
   "source": [
    "area_list_comp = [i*j for i, j in dimenson_list]\n",
    "area_list_comp"
   ]
  },
  {
   "cell_type": "markdown",
   "id": "95db9219",
   "metadata": {},
   "source": [
    "Alternatively, I can directly use the zip object as an iterator in the for loop without putting it into a list.\n",
    "\n",
    "In each iteration of the for loop, the elements of the zip object can be called and used. Let's remember that the elements inside lazy objects are created when they are called."
   ]
  },
  {
   "cell_type": "code",
   "execution_count": 21,
   "id": "13228940",
   "metadata": {},
   "outputs": [
    {
     "data": {
      "text/plain": [
       "[32, 45, 60, 77]"
      ]
     },
     "execution_count": 21,
     "metadata": {},
     "output_type": "execute_result"
    }
   ],
   "source": [
    "area_list_comp = [i*j for i, j in zip(a, b)]\n",
    "area_list_comp"
   ]
  },
  {
   "cell_type": "markdown",
   "id": "79c3b842",
   "metadata": {},
   "source": [
    "**Examine this code about zip() function after the session:**"
   ]
  },
  {
   "cell_type": "code",
   "execution_count": 1,
   "id": "dd48b444",
   "metadata": {},
   "outputs": [
    {
     "data": {
      "text/plain": [
       "[('a', 0, 0), ('b', 1, 1), ('c', 2, 2)]"
      ]
     },
     "execution_count": 1,
     "metadata": {},
     "output_type": "execute_result"
    }
   ],
   "source": [
    "list(zip('abcdefg', range(3), range(4)))"
   ]
  },
  {
   "cell_type": "markdown",
   "id": "495fcf8d",
   "metadata": {},
   "source": [
    "<a id=\"toc\"></a>\n",
    "\n",
    "### <p style=\"background-color:#9d4f8c; font-family:newtimeroman; color:#FFF9ED; font-size:175%; text-align:center; border-radius:10px 10px;\">Ternary Boolean Operators</p>"
   ]
  },
  {
   "cell_type": "markdown",
   "id": "058907b5",
   "metadata": {},
   "source": [
    "**Examine this code after the session:**"
   ]
  },
  {
   "cell_type": "markdown",
   "id": "80e895ca",
   "metadata": {},
   "source": [
    "**Python official document - Conditional Expressions: https://docs.python.org/3/reference/expressions.html**\n",
    "\n",
    "**Python official document (PEP 308): https://peps.python.org/pep-0308/**\n",
    "\n",
    "**ternary operators in python: https://www.geeksforgeeks.org/ternary-operator-in-python/**\n",
    "\n",
    "**what is the ternary operators: https://www.educative.io/answers/what-is-the-ternary-operator-in-python**"
   ]
  },
  {
   "cell_type": "markdown",
   "id": "7a103307",
   "metadata": {},
   "source": [
    "In short, one-line if-else structures are called ternary operators.\n",
    "\n",
    "To explain further, \"ternary operators\" are also known as conditional expressions. You can think of them as a simplified, one-line version of an if-else statement used to test a condition. Instead of using a multi-line if-else statement, we can test a condition in a single line and return one of two different values depending on whether the condition is true or false.\n",
    "\n",
    "Using ternary operators makes our code more compact.\n",
    "\n",
    "This is a new feature, and ternary operators have been used in Python since version 2.5.\n",
    "\n",
    "The syntax is as follows:"
   ]
  },
  {
   "cell_type": "markdown",
   "id": "ab5a26d2",
   "metadata": {},
   "source": [
    "![python.exe](https://drive.google.com/uc?id=1tIr30tdA3Pj7LxVz2vccR9GQvoyubDTh)"
   ]
  },
  {
   "cell_type": "markdown",
   "id": "e81f9a22",
   "metadata": {},
   "source": [
    "```python\n",
    "if condition :\n",
    "    execute_body1\n",
    "else:\n",
    "    execute_body2\n",
    "    \n",
    "# or:\n",
    "\n",
    "execute_body1 if condition else execute_body2\n",
    "```"
   ]
  },
  {
   "cell_type": "markdown",
   "id": "9d21ad92",
   "metadata": {},
   "source": [
    "First, we write the execute-body1. If the condition is True, then the expression in body1 is executed. Otherwise, the expression at the end (execute_body2) is executed.\n",
    "\n",
    "That's it!"
   ]
  },
  {
   "cell_type": "code",
   "execution_count": 22,
   "id": "4b80be9d",
   "metadata": {},
   "outputs": [
    {
     "name": "stdout",
     "output_type": "stream",
     "text": [
      "'b' is greater than 'a'\n"
     ]
    }
   ],
   "source": [
    "# Let's examine the topic through a simple example.\n",
    "\n",
    "a = 2\n",
    "b = 3\n",
    "\n",
    "# If we code using the classic If-else statement structure:\n",
    "\n",
    "if a > b :\n",
    "    print(\"'a' is greater than 'b'\")\n",
    "    \n",
    "else:\n",
    "    print(\"'b' is greater than 'a'\")"
   ]
  },
  {
   "cell_type": "code",
   "execution_count": 23,
   "id": "18aa0dfc",
   "metadata": {},
   "outputs": [
    {
     "data": {
      "text/plain": [
       "\"'b' is greater than 'a'\""
      ]
     },
     "execution_count": 23,
     "metadata": {},
     "output_type": "execute_result"
    }
   ],
   "source": [
    "# Now let's do it with a ternary expression:\n",
    "\n",
    "\"'a' is greater than 'b'\" if a > b else \"'b' is greater than 'a'\""
   ]
  },
  {
   "cell_type": "markdown",
   "id": "387edfca",
   "metadata": {},
   "source": [
    "**I can assign the value from this ternary to a variable for later use**"
   ]
  },
  {
   "cell_type": "code",
   "execution_count": 74,
   "id": "c6d1ae4c",
   "metadata": {},
   "outputs": [
    {
     "data": {
      "text/plain": [
       "3"
      ]
     },
     "execution_count": 74,
     "metadata": {},
     "output_type": "execute_result"
    }
   ],
   "source": [
    "z = a if a > b else b\n",
    "\n",
    "z\n",
    "\n",
    "# Now you see that the variable z holds the value that comes from the ternary expression."
   ]
  },
  {
   "cell_type": "code",
   "execution_count": 75,
   "id": "fc9a0aa8",
   "metadata": {},
   "outputs": [
    {
     "data": {
      "text/plain": [
       "8"
      ]
     },
     "execution_count": 75,
     "metadata": {},
     "output_type": "execute_result"
    }
   ],
   "source": [
    "z = a ** 2 if a > b else a ** 3\n",
    "\n",
    "z\n",
    "\n",
    "# I returned the result of a mathematical operation based on the condition using a ternary expression."
   ]
  },
  {
   "cell_type": "markdown",
   "id": "616bc276",
   "metadata": {},
   "source": [
    "**Task: Let's write a program that calculates the area of a triangle if it is an equilateral triangle, and prints out \"this is not an equilateral triangle\" if it is not an equilateral triangle.**"
   ]
  },
  {
   "cell_type": "markdown",
   "id": "0d8bfbcc",
   "metadata": {},
   "source": [
    "![python.exe](https://drive.google.com/uc?id=1UM32Ue4vSPoMPKNy7doied3hlDWRTGeb)"
   ]
  },
  {
   "cell_type": "code",
   "execution_count": 28,
   "id": "09276def",
   "metadata": {},
   "outputs": [],
   "source": [
    "# The length of the edge is 10 units.\n",
    "\n",
    "s = 10"
   ]
  },
  {
   "cell_type": "code",
   "execution_count": 29,
   "id": "3d772469",
   "metadata": {},
   "outputs": [
    {
     "data": {
      "text/plain": [
       "43.3"
      ]
     },
     "execution_count": 29,
     "metadata": {},
     "output_type": "execute_result"
    }
   ],
   "source": [
    "angle = 60\n",
    "\n",
    "area = round(((3 ** (1/2) / 4) * s ** 2), 2) if angle == 60 else \"this is not an equilateral triangle.\"\n",
    "\n",
    "area"
   ]
  },
  {
   "cell_type": "markdown",
   "id": "d6ff2002",
   "metadata": {},
   "source": [
    "### When using ternary expressions, it is necessary to pay attention to the precedence of the operation!"
   ]
  },
  {
   "cell_type": "code",
   "execution_count": 30,
   "id": "cd014c63",
   "metadata": {},
   "outputs": [
    {
     "data": {
      "text/plain": [
       "1"
      ]
     },
     "execution_count": 30,
     "metadata": {},
     "output_type": "execute_result"
    }
   ],
   "source": [
    "a = 2\n",
    "b = 1\n",
    "\n",
    "a if a < b else b"
   ]
  },
  {
   "cell_type": "code",
   "execution_count": 32,
   "id": "57ab67a5",
   "metadata": {},
   "outputs": [
    {
     "data": {
      "text/plain": [
       "1"
      ]
     },
     "execution_count": 32,
     "metadata": {},
     "output_type": "execute_result"
    }
   ],
   "source": [
    "# If I want to add 3 to the result returned from the ternary expression:\n",
    "\n",
    "plus_3 = 3 + a if a < b else b\n",
    "plus_3\n",
    "\n",
    "# Since a is greater than b, the else condition will work. and it will return 1 from ternary.\n",
    "# I expected the result to be 4, but it gave me 1. this is wrong!"
   ]
  },
  {
   "cell_type": "code",
   "execution_count": 31,
   "id": "4a6c5fa2",
   "metadata": {},
   "outputs": [
    {
     "data": {
      "text/plain": [
       "4"
      ]
     },
     "execution_count": 31,
     "metadata": {},
     "output_type": "execute_result"
    }
   ],
   "source": [
    "# Actually, what we want to do is the following:\n",
    "\n",
    "a = 2\n",
    "b = 1\n",
    "\n",
    "plus_3 = 3 + (a if a < b else b)\n",
    "# or 3 + a if a < b else b +3\n",
    "plus_3\n",
    "\n",
    "# this is right!"
   ]
  },
  {
   "cell_type": "markdown",
   "id": "1c355ecb",
   "metadata": {},
   "source": [
    "## Using \"if\" and \"for\" in an expression"
   ]
  },
  {
   "cell_type": "markdown",
   "id": "f0325378",
   "metadata": {},
   "source": [
    "We learned that, firstly, we can express for loops in a single line using list comprehension. \n",
    "Secondly, we learned that we can express if-else structures in a single line using ternary expressions. \n",
    "\n",
    "But what if we want to include a condition inside the list comprehension? \n",
    "\n",
    "That is, if we want to use list comprehension along with ternary expressions. \n",
    "\n",
    "How can we do that?"
   ]
  },
  {
   "cell_type": "code",
   "execution_count": 33,
   "id": "e8be3bfa",
   "metadata": {},
   "outputs": [],
   "source": [
    "my_list = [1, 2, 3, 4, 5, 6]"
   ]
  },
  {
   "cell_type": "markdown",
   "id": "09955c60",
   "metadata": {},
   "source": [
    "**Let's collect the squares of the odd numbers in this list in a separate list.**"
   ]
  },
  {
   "cell_type": "code",
   "execution_count": 86,
   "id": "1d25ba7e",
   "metadata": {},
   "outputs": [
    {
     "name": "stdout",
     "output_type": "stream",
     "text": [
      "[1, 9, 25]\n"
     ]
    }
   ],
   "source": [
    "# classic for loop solution:\n",
    "\n",
    "new_list = []\n",
    "\n",
    "for i in my_list :\n",
    "\n",
    "    if i % 2 :\n",
    "        new_list.append(i ** 2)\n",
    "\n",
    "print(new_list)"
   ]
  },
  {
   "cell_type": "code",
   "execution_count": 34,
   "id": "43fa879a",
   "metadata": {},
   "outputs": [
    {
     "data": {
      "text/plain": [
       "[1, 9, 25]"
      ]
     },
     "execution_count": 34,
     "metadata": {},
     "output_type": "execute_result"
    }
   ],
   "source": [
    "# list comprehension and ternary operator solution:\n",
    "\n",
    "[i ** 2 for i in my_list if i % 2]"
   ]
  },
  {
   "cell_type": "markdown",
   "id": "3e6b4f40",
   "metadata": {},
   "source": [
    "**Task : Let's collect the squares of the odd numbers and the cubes of the even numbers in this list into a new list.:**"
   ]
  },
  {
   "cell_type": "code",
   "execution_count": 112,
   "id": "05295591",
   "metadata": {},
   "outputs": [
    {
     "data": {
      "text/plain": [
       "[1, 8, 9, 64, 25, 216]"
      ]
     },
     "execution_count": 112,
     "metadata": {},
     "output_type": "execute_result"
    }
   ],
   "source": [
    "new_list = [i ** 2 if i % 2 else i ** 3 for i in my_list]\n",
    "\n",
    "new_list"
   ]
  },
  {
   "cell_type": "markdown",
   "id": "c3ca9f7d",
   "metadata": {},
   "source": [
    "## Some examples:"
   ]
  },
  {
   "cell_type": "code",
   "execution_count": 116,
   "id": "529fdfff",
   "metadata": {},
   "outputs": [
    {
     "data": {
      "text/plain": [
       "['-', '-', '-', '-', '-', '+', '+', '+', '+', '+']"
      ]
     },
     "execution_count": 116,
     "metadata": {},
     "output_type": "execute_result"
    }
   ],
   "source": [
    "['+' if i > 5 else '-' for i in range(1, 11)]"
   ]
  },
  {
   "cell_type": "code",
   "execution_count": 114,
   "id": "4993f803",
   "metadata": {},
   "outputs": [
    {
     "data": {
      "text/plain": [
       "'Welcome'"
      ]
     },
     "execution_count": 114,
     "metadata": {},
     "output_type": "execute_result"
    }
   ],
   "source": [
    "age = 20\n",
    "\n",
    "output = 'Go home.' if age < 16 else 'Not sure...' if 16 <= age < 18 else 'Welcome'\n",
    "\n",
    "output"
   ]
  },
  {
   "cell_type": "code",
   "execution_count": 115,
   "id": "89d3bdea",
   "metadata": {},
   "outputs": [
    {
     "data": {
      "text/plain": [
       "'A'"
      ]
     },
     "execution_count": 115,
     "metadata": {},
     "output_type": "execute_result"
    }
   ],
   "source": [
    "x = 90\n",
    "\n",
    "grade = \"A+\" if x >= 95 else \"A\" if x >= 90 else \"B+\" if x >= 85 else \"B\" if x >= 80 else \"C\" if x >= 70 else \"D\"\n",
    "\n",
    "grade"
   ]
  },
  {
   "cell_type": "code",
   "execution_count": 37,
   "id": "82408914",
   "metadata": {},
   "outputs": [],
   "source": [
    "# student names and their grades:\n",
    "\n",
    "students = [\n",
    "    {'name': 'Ally', 'score': 42},\n",
    "    {'name': 'Betty', 'score': 58},\n",
    "    {'name': 'Kirby', 'score': 99},\n",
    "    {'name': 'Samuel', 'score': 31}\n",
    "]"
   ]
  },
  {
   "cell_type": "code",
   "execution_count": 40,
   "id": "1798bb6f",
   "metadata": {},
   "outputs": [
    {
     "name": "stdout",
     "output_type": "stream",
     "text": [
      "['Ally failed the exam!', 'Betty passed the exam!', 'Kirby passed the exam!', 'Samuel failed the exam!']\n"
     ]
    }
   ],
   "source": [
    "output = [f\"{student['name']} passed the exam!\" if student['score'] > 50\n",
    "          else f\"{student['name']} failed the exam!\" for student in students]\n",
    "print(output)"
   ]
  },
  {
   "cell_type": "code",
   "execution_count": 39,
   "id": "b39f0f24",
   "metadata": {},
   "outputs": [
    {
     "name": "stdout",
     "output_type": "stream",
     "text": [
      "['Ally failed the exam!', 'Betty passed the exam!', 'Kirby passed the exam!', 'Samuel failed the exam!']\n"
     ]
    }
   ],
   "source": [
    "# classic for loop solution:\n",
    "\n",
    "output = []\n",
    "\n",
    "for student in students:\n",
    "    if student['score'] > 50:\n",
    "        output.append(f\"{student['name']} passed the exam!\")\n",
    "    else:\n",
    "        output.append(f\"{student['name']} failed the exam!\")\n",
    "        \n",
    "print(output)"
   ]
  },
  {
   "cell_type": "markdown",
   "id": "810b3626",
   "metadata": {},
   "source": [
    "<a id=\"toc\"></a>\n",
    "\n",
    "### <p style=\"background-color:#9d4f8c; font-family:newtimeroman; color:#FFF9ED; font-size:175%; text-align:center; border-radius:10px 10px;\">Generator Comprehension</p>"
   ]
  },
  {
   "cell_type": "markdown",
   "id": "f409a181",
   "metadata": {},
   "source": [
    "<hr>\n",
    "\n",
    "**Python official document - Generators-generator expressions : https://docs.python.org/3/tutorial/classes.html#generators**\n",
    "\n",
    "**Python official document - PEP 289 Generator Expressions : https://peps.python.org/pep-0289/**\n",
    "\n",
    "**How to Use Generators and yield in Python : https://realpython.com/introduction-to-python-generators/**\n",
    "\n",
    "**Generators & Comprehension Expressions: https://www.pythonlikeyoumeanit.com/Module2_EssentialsOfPython/Generators_and_Comprehensions.html**\n",
    "<hr>"
   ]
  },
  {
   "cell_type": "markdown",
   "id": "f0bf7b57",
   "metadata": {},
   "source": [
    "## `yield` keyword:"
   ]
  },
  {
   "cell_type": "markdown",
   "id": "20689072",
   "metadata": {},
   "source": [
    "The \"yield\" statement in Python is used as a keyword to turn a function into a generator. When the \"yield\" statement is used in a function, the function becomes a generator and starts running when the function is called.\n",
    "\n",
    "If a function contains the \"yield\" keyword, we can say that it is a generator function.\n",
    "\n",
    "The \"yield\" statement returns the next value of the generator and saves the state of the generator. Later, when the generator wants to access the next value, it continues from where it left off and returns the next value. This makes the generator take up less memory and improves performance when working with large datasets.\n",
    "\n",
    "In addition, when the \"yield\" statement is used inside a loop, it returns the next value at each iteration of the loop and continues until the loop ends.\n",
    "\n",
    "In summary, the \"yield\" keyword enables the creation of generators and efficient memory usage when working with large datasets."
   ]
  },
  {
   "cell_type": "markdown",
   "id": "e0b6d0e0",
   "metadata": {},
   "source": [
    "## Using the yield keyword to turn a function into a generator:"
   ]
  },
  {
   "cell_type": "code",
   "execution_count": 16,
   "id": "6c3b6f7b",
   "metadata": {},
   "outputs": [],
   "source": [
    "def my_generator():\n",
    "    yield 1\n",
    "    yield 2\n",
    "    yield 3"
   ]
  },
  {
   "cell_type": "code",
   "execution_count": 17,
   "id": "ce7e7ce3",
   "metadata": {},
   "outputs": [
    {
     "name": "stdout",
     "output_type": "stream",
     "text": [
      "1\n"
     ]
    }
   ],
   "source": [
    "gen = my_generator()\n",
    "\n",
    "print(next(gen)) "
   ]
  },
  {
   "cell_type": "code",
   "execution_count": 18,
   "id": "b2e92a54",
   "metadata": {},
   "outputs": [
    {
     "name": "stdout",
     "output_type": "stream",
     "text": [
      "2\n"
     ]
    }
   ],
   "source": [
    "print(next(gen)) "
   ]
  },
  {
   "cell_type": "code",
   "execution_count": 19,
   "id": "6242e9f7",
   "metadata": {},
   "outputs": [
    {
     "name": "stdout",
     "output_type": "stream",
     "text": [
      "3\n"
     ]
    }
   ],
   "source": [
    "print(next(gen)) "
   ]
  },
  {
   "cell_type": "markdown",
   "id": "3fb325db",
   "metadata": {},
   "source": [
    "## The usage of the yield keyword inside a 'while' loop :"
   ]
  },
  {
   "cell_type": "code",
   "execution_count": 7,
   "id": "f1af5c33",
   "metadata": {},
   "outputs": [],
   "source": [
    "def countdown(n):\n",
    "    while n > 0:\n",
    "        yield n\n",
    "        n -= 1"
   ]
  },
  {
   "cell_type": "code",
   "execution_count": 11,
   "id": "000e8294",
   "metadata": {},
   "outputs": [
    {
     "name": "stdout",
     "output_type": "stream",
     "text": [
      "3\n"
     ]
    }
   ],
   "source": [
    "gen = countdown(3)\n",
    "\n",
    "print(next(gen))"
   ]
  },
  {
   "cell_type": "code",
   "execution_count": 12,
   "id": "ffd84933",
   "metadata": {},
   "outputs": [
    {
     "name": "stdout",
     "output_type": "stream",
     "text": [
      "2\n"
     ]
    }
   ],
   "source": [
    "print(next(gen))"
   ]
  },
  {
   "cell_type": "code",
   "execution_count": 13,
   "id": "981215a6",
   "metadata": {},
   "outputs": [
    {
     "name": "stdout",
     "output_type": "stream",
     "text": [
      "1\n"
     ]
    }
   ],
   "source": [
    "print(next(gen))"
   ]
  },
  {
   "cell_type": "code",
   "execution_count": 14,
   "id": "56731abb",
   "metadata": {},
   "outputs": [
    {
     "ename": "StopIteration",
     "evalue": "",
     "output_type": "error",
     "traceback": [
      "\u001b[1;31m---------------------------------------------------------------------------\u001b[0m",
      "\u001b[1;31mStopIteration\u001b[0m                             Traceback (most recent call last)",
      "Cell \u001b[1;32mIn[14], line 1\u001b[0m\n\u001b[1;32m----> 1\u001b[0m \u001b[38;5;28mprint\u001b[39m(\u001b[38;5;28;43mnext\u001b[39;49m\u001b[43m(\u001b[49m\u001b[43mgen\u001b[49m\u001b[43m)\u001b[49m)\n",
      "\u001b[1;31mStopIteration\u001b[0m: "
     ]
    }
   ],
   "source": [
    "print(next(gen))\n",
    "\n",
    "# StopIteration Exception raises!"
   ]
  },
  {
   "cell_type": "markdown",
   "id": "ac9ce34f",
   "metadata": {},
   "source": [
    "## The usage of the yield keyword inside a 'for' loop :"
   ]
  },
  {
   "cell_type": "code",
   "execution_count": 7,
   "id": "c4c6686e",
   "metadata": {},
   "outputs": [],
   "source": [
    "def squares(n):\n",
    "    for i in range(n):\n",
    "        yield i**2"
   ]
  },
  {
   "cell_type": "code",
   "execution_count": 27,
   "id": "b15587a2",
   "metadata": {},
   "outputs": [
    {
     "data": {
      "text/plain": [
       "<generator object squares at 0x0000023320FEF7B0>"
      ]
     },
     "execution_count": 27,
     "metadata": {},
     "output_type": "execute_result"
    }
   ],
   "source": [
    "gen = squares(5)\n",
    "gen"
   ]
  },
  {
   "cell_type": "code",
   "execution_count": 28,
   "id": "06d82e35",
   "metadata": {},
   "outputs": [
    {
     "name": "stdout",
     "output_type": "stream",
     "text": [
      "0 1 4 9 16 "
     ]
    }
   ],
   "source": [
    "for i in gen :\n",
    "    print(i, end=\" \")"
   ]
  },
  {
   "cell_type": "code",
   "execution_count": 8,
   "id": "80735314",
   "metadata": {},
   "outputs": [],
   "source": [
    "gen = squares(5)"
   ]
  },
  {
   "cell_type": "code",
   "execution_count": 10,
   "id": "88bbfbce",
   "metadata": {},
   "outputs": [
    {
     "name": "stdout",
     "output_type": "stream",
     "text": [
      "0 1 4 9 16\n"
     ]
    }
   ],
   "source": [
    "print(* gen)"
   ]
  },
  {
   "cell_type": "code",
   "execution_count": 21,
   "id": "c006f9b5",
   "metadata": {},
   "outputs": [],
   "source": [
    "gen = squares(5)"
   ]
  },
  {
   "cell_type": "code",
   "execution_count": 22,
   "id": "afab170e",
   "metadata": {},
   "outputs": [
    {
     "data": {
      "text/plain": [
       "[0, 1, 4, 9, 16]"
      ]
     },
     "execution_count": 22,
     "metadata": {},
     "output_type": "execute_result"
    }
   ],
   "source": [
    "list(gen)"
   ]
  },
  {
   "cell_type": "code",
   "execution_count": 19,
   "id": "ef056094",
   "metadata": {},
   "outputs": [
    {
     "data": {
      "text/plain": [
       "[]"
      ]
     },
     "execution_count": 19,
     "metadata": {},
     "output_type": "execute_result"
    }
   ],
   "source": [
    "list(gen)\n",
    "\n",
    "# The generator was exhausted because all of its elements have been used."
   ]
  },
  {
   "cell_type": "code",
   "execution_count": 23,
   "id": "85dde1a4",
   "metadata": {},
   "outputs": [
    {
     "data": {
      "text/plain": [
       "0"
      ]
     },
     "execution_count": 23,
     "metadata": {},
     "output_type": "execute_result"
    }
   ],
   "source": [
    "gen = squares(2)\n",
    "\n",
    "next(gen)"
   ]
  },
  {
   "cell_type": "code",
   "execution_count": 24,
   "id": "1c7bc690",
   "metadata": {},
   "outputs": [
    {
     "data": {
      "text/plain": [
       "1"
      ]
     },
     "execution_count": 24,
     "metadata": {},
     "output_type": "execute_result"
    }
   ],
   "source": [
    "next(gen)"
   ]
  },
  {
   "cell_type": "code",
   "execution_count": 25,
   "id": "a919ddcf",
   "metadata": {},
   "outputs": [
    {
     "ename": "StopIteration",
     "evalue": "",
     "output_type": "error",
     "traceback": [
      "\u001b[1;31m---------------------------------------------------------------------------\u001b[0m",
      "\u001b[1;31mStopIteration\u001b[0m                             Traceback (most recent call last)",
      "Cell \u001b[1;32mIn[25], line 1\u001b[0m\n\u001b[1;32m----> 1\u001b[0m \u001b[38;5;28;43mnext\u001b[39;49m\u001b[43m(\u001b[49m\u001b[43mgen\u001b[49m\u001b[43m)\u001b[49m\n",
      "\u001b[1;31mStopIteration\u001b[0m: "
     ]
    }
   ],
   "source": [
    "next(gen)"
   ]
  },
  {
   "cell_type": "markdown",
   "id": "52c2f41e",
   "metadata": {},
   "source": [
    "# Generator Comprehension:"
   ]
  },
  {
   "cell_type": "markdown",
   "id": "df97f8b6",
   "metadata": {},
   "source": [
    "<hr>\n",
    "\n",
    "A generator is a special kind of iterator, which stores the instructions for how to generate each of its members, in order, along with its current state of iterations. It generates each member, one at a time, only as it is requested via iteration.\n",
    "\n",
    "Recall that a list readily stores all of its members; you can access any of its contents via indexing. \n",
    "\n",
    "A generator, on the other hand, does not store any items. Instead, it stores the instructions for generating each of its members, and stores its iteration state; \n",
    "\n",
    "this means that the generator will know if it has generated its second member, and will thus generate its third member the next time it is iterated on.\n",
    "\n",
    "The whole point of this is that you can use a generator to produce a long sequence of items, without having to store them all in memory.\n",
    "\n",
    "Because range is a generator, the command range(5) will simply store the instructions needed to produce the sequence of numbers 0-4, whereas the list [0, 1, 2, 3, 4] stores all of these items in memory at once.\n",
    "\n",
    "For short sequences, this seems to be a rather paltry savings; this is not the case for long sequences. \n",
    "\n",
    "A generator comprehension is a single-line specification for defining a generator in Python. It is absolutely essential to learn this syntax in order to write simple and readable code.\n",
    "\n",
    "<hr>"
   ]
  },
  {
   "cell_type": "code",
   "execution_count": 1,
   "id": "8e94c1e9",
   "metadata": {},
   "outputs": [
    {
     "data": {
      "text/plain": [
       "[0, 1, 4, 9, 16, 25]"
      ]
     },
     "execution_count": 1,
     "metadata": {},
     "output_type": "execute_result"
    }
   ],
   "source": [
    "# list comprehension. (a visible object returned)\n",
    "\n",
    "[i ** 2 for i in range(6)]"
   ]
  },
  {
   "cell_type": "code",
   "execution_count": 2,
   "id": "7f1c750b",
   "metadata": {},
   "outputs": [
    {
     "data": {
      "text/plain": [
       "<generator object <genexpr> at 0x000001F187725270>"
      ]
     },
     "execution_count": 2,
     "metadata": {},
     "output_type": "execute_result"
    }
   ],
   "source": [
    "# create a tuple using tuple comprehension.\n",
    "\n",
    "(i ** 2 for i in range(6))\n",
    "\n",
    "# a \"lazy\" generator object created."
   ]
  },
  {
   "cell_type": "markdown",
   "id": "e753aefb",
   "metadata": {},
   "source": [
    "**list comprehension vs generator expression (comprehension)**\n",
    "\n",
    "- A list comprehension returns a list while a generator expression returns a generator object.\n",
    "\n",
    "- It means that a list comprehension returns a complete list of elements upfront. However, a generator expression returns a list of elements, one at a time, based on request.\n",
    "\n",
    "- A list comprehension is eager while a generator expression is lazy.\n",
    "\n",
    "- In other words, a list comprehension creates all elements right away and loads all of them into the memory.\n",
    "\n",
    "- Conversely, a generator expression creates a single element based on request. It loads only one single element to the memory.\n",
    "\n",
    "- A list comprehension returns an iterable. It means that you can iterate over the result of a list comprehension again and again.\n",
    "\n",
    "- However, a generator expression returns an iterator, specifically a lazy iterator. It becomes exhausting when you complete iterating over it."
   ]
  },
  {
   "cell_type": "code",
   "execution_count": 1,
   "id": "175c6a92",
   "metadata": {},
   "outputs": [],
   "source": [
    "generator = (i ** 2 for i in range(6))"
   ]
  },
  {
   "cell_type": "markdown",
   "id": "1d1db71b",
   "metadata": {},
   "source": [
    "**The 3 basic ways to make a lazy object visible are. What are they?**\n",
    "\n",
    "1. Converting it into a collection using functions such as list() and tuple().\n",
    "\n",
    "2. Using it inside a for loop.\n",
    "\n",
    "3. using the asterisk (*) operator in the print function."
   ]
  },
  {
   "cell_type": "code",
   "execution_count": 2,
   "id": "475f26ef",
   "metadata": {},
   "outputs": [
    {
     "data": {
      "text/plain": [
       "[0, 1, 4, 9, 16, 25]"
      ]
     },
     "execution_count": 2,
     "metadata": {},
     "output_type": "execute_result"
    }
   ],
   "source": [
    "list(generator)"
   ]
  },
  {
   "cell_type": "markdown",
   "id": "91e42a2a",
   "metadata": {},
   "source": [
    "**When we made the iterator object visible using these ways, the object was consumed, meaning that its elements were iterated over and printed out.**\n",
    "\n",
    "**Therefore, when we try to see the iterator again, it will be empty because all its elements have already been consumed and we need to create a new iterator object if we want to iterate over its elements again.**"
   ]
  },
  {
   "cell_type": "code",
   "execution_count": 3,
   "id": "55d2e979",
   "metadata": {},
   "outputs": [
    {
     "data": {
      "text/plain": [
       "[]"
      ]
     },
     "execution_count": 3,
     "metadata": {},
     "output_type": "execute_result"
    }
   ],
   "source": [
    "list(generator)"
   ]
  },
  {
   "cell_type": "code",
   "execution_count": 62,
   "id": "02270927",
   "metadata": {},
   "outputs": [
    {
     "name": "stdout",
     "output_type": "stream",
     "text": [
      "\n"
     ]
    }
   ],
   "source": [
    "print(* generator)\n",
    "\n",
    "# return nothing, because we just used its elements."
   ]
  },
  {
   "cell_type": "code",
   "execution_count": 63,
   "id": "69d497fa",
   "metadata": {},
   "outputs": [],
   "source": [
    "# let's generate again.\n",
    "\n",
    "generator = (i ** 2 for i in range(6))"
   ]
  },
  {
   "cell_type": "code",
   "execution_count": 64,
   "id": "ecbbb502",
   "metadata": {},
   "outputs": [
    {
     "name": "stdout",
     "output_type": "stream",
     "text": [
      "0\n",
      "1\n",
      "4\n",
      "9\n",
      "16\n",
      "25\n"
     ]
    }
   ],
   "source": [
    "for i in generator :\n",
    "    print(i)"
   ]
  },
  {
   "cell_type": "code",
   "execution_count": 65,
   "id": "c1ce0b32",
   "metadata": {},
   "outputs": [],
   "source": [
    "generator = (i ** 2 for i in range(6))"
   ]
  },
  {
   "cell_type": "markdown",
   "id": "b8c7d5cd",
   "metadata": {},
   "source": [
    "**There is a build-in function that runs in the background of the for loop that allows us to iterate the iterable.**\n",
    "\n",
    "**it's next() function.** \n",
    "\n",
    "https://docs.python.org/3/library/functions.html#next "
   ]
  },
  {
   "cell_type": "code",
   "execution_count": 66,
   "id": "5b6fbaab",
   "metadata": {},
   "outputs": [
    {
     "data": {
      "text/plain": [
       "<generator object <genexpr> at 0x000001BF536C2D60>"
      ]
     },
     "execution_count": 66,
     "metadata": {},
     "output_type": "execute_result"
    }
   ],
   "source": [
    "generator"
   ]
  },
  {
   "cell_type": "code",
   "execution_count": 67,
   "id": "84b9961d",
   "metadata": {},
   "outputs": [
    {
     "name": "stdout",
     "output_type": "stream",
     "text": [
      "0\n"
     ]
    }
   ],
   "source": [
    "print(next(generator))  "
   ]
  },
  {
   "cell_type": "code",
   "execution_count": 68,
   "id": "9621d8ee",
   "metadata": {},
   "outputs": [
    {
     "name": "stdout",
     "output_type": "stream",
     "text": [
      "1\n"
     ]
    }
   ],
   "source": [
    "print(next(generator))"
   ]
  },
  {
   "cell_type": "code",
   "execution_count": 69,
   "id": "884f5524",
   "metadata": {},
   "outputs": [
    {
     "name": "stdout",
     "output_type": "stream",
     "text": [
      "4\n"
     ]
    }
   ],
   "source": [
    "print(next(generator))"
   ]
  },
  {
   "cell_type": "code",
   "execution_count": 70,
   "id": "317512be",
   "metadata": {},
   "outputs": [
    {
     "name": "stdout",
     "output_type": "stream",
     "text": [
      "9\n"
     ]
    }
   ],
   "source": [
    "print(next(generator))\n"
   ]
  },
  {
   "cell_type": "code",
   "execution_count": 71,
   "id": "b759759a",
   "metadata": {},
   "outputs": [
    {
     "name": "stdout",
     "output_type": "stream",
     "text": [
      "16\n"
     ]
    }
   ],
   "source": [
    "print(next(generator))\n"
   ]
  },
  {
   "cell_type": "code",
   "execution_count": 72,
   "id": "31e2931d",
   "metadata": {},
   "outputs": [
    {
     "name": "stdout",
     "output_type": "stream",
     "text": [
      "25\n"
     ]
    }
   ],
   "source": [
    "print(next(generator))"
   ]
  },
  {
   "cell_type": "code",
   "execution_count": 73,
   "id": "6cf8f741",
   "metadata": {},
   "outputs": [
    {
     "ename": "StopIteration",
     "evalue": "",
     "output_type": "error",
     "traceback": [
      "\u001b[1;31m---------------------------------------------------------------------------\u001b[0m",
      "\u001b[1;31mStopIteration\u001b[0m                             Traceback (most recent call last)",
      "Input \u001b[1;32mIn [73]\u001b[0m, in \u001b[0;36m<cell line: 1>\u001b[1;34m()\u001b[0m\n\u001b[1;32m----> 1\u001b[0m \u001b[38;5;28mprint\u001b[39m(\u001b[38;5;28;43mnext\u001b[39;49m\u001b[43m(\u001b[49m\u001b[43mgenerator\u001b[49m\u001b[43m)\u001b[49m)\n",
      "\u001b[1;31mStopIteration\u001b[0m: "
     ]
    }
   ],
   "source": [
    "print(next(generator))\n",
    "\n",
    "# error! (StopIteration!)"
   ]
  },
  {
   "cell_type": "markdown",
   "id": "f987f836",
   "metadata": {},
   "source": [
    "**With the next() function, we have emptied the elements of the generate object one by one.**\n",
    "\n",
    "**Now if we try to see it with the print function, it will give an empty output:**"
   ]
  },
  {
   "cell_type": "code",
   "execution_count": 74,
   "id": "c3e9348f",
   "metadata": {},
   "outputs": [
    {
     "name": "stdout",
     "output_type": "stream",
     "text": [
      "\n"
     ]
    }
   ],
   "source": [
    "print(*generator)\n",
    "\n",
    "# Look! empty output."
   ]
  },
  {
   "cell_type": "markdown",
   "id": "1c791528",
   "metadata": {},
   "source": [
    "## some other examples:"
   ]
  },
  {
   "cell_type": "code",
   "execution_count": 3,
   "id": "c20fe72c",
   "metadata": {},
   "outputs": [
    {
     "name": "stdout",
     "output_type": "stream",
     "text": [
      "0.0 4.5 10.5 16.0\n"
     ]
    }
   ],
   "source": [
    "generator2 = (i/2 for i in [0, 9, 21, 32])\n",
    "print(*generator2)"
   ]
  },
  {
   "cell_type": "code",
   "execution_count": 4,
   "id": "cd77e362",
   "metadata": {},
   "outputs": [
    {
     "name": "stdout",
     "output_type": "stream",
     "text": [
      "0 2 4 6 8 10 12 14 16 18 20 22 24 26 28 30 32 34 36 38 40 42 44 46 48 50 52 54 56 58 60 62 64 66 68 70 72 74 76 78 80 82 84 86 88 90 92 94 96 98\n"
     ]
    }
   ],
   "source": [
    "generator3 = (i for i in range(100) if i%2 == 0)\n",
    "print(*generator3)"
   ]
  },
  {
   "cell_type": "markdown",
   "id": "8b75c40c",
   "metadata": {},
   "source": [
    "**\"expression\" can be any valid single-line of Python code that returns an object:**"
   ]
  },
  {
   "cell_type": "code",
   "execution_count": 6,
   "id": "7166b86f",
   "metadata": {},
   "outputs": [
    {
     "data": {
      "text/plain": [
       "<generator object <genexpr> at 0x00000273DD98B890>"
      ]
     },
     "execution_count": 6,
     "metadata": {},
     "output_type": "execute_result"
    }
   ],
   "source": [
    "((i, i**2, i**3) for i in range(10))"
   ]
  },
  {
   "cell_type": "code",
   "execution_count": 10,
   "id": "793a3c41",
   "metadata": {},
   "outputs": [
    {
     "name": "stdout",
     "output_type": "stream",
     "text": [
      "(0, 0, 0) (1, 1, 1) (2, 4, 8) (3, 9, 27) (4, 16, 64) (5, 25, 125) (6, 36, 216) (7, 49, 343) (8, 64, 512) (9, 81, 729)\n"
     ]
    }
   ],
   "source": [
    "print(*((i, i**2, i**3) for i in range(10)))"
   ]
  },
  {
   "cell_type": "markdown",
   "id": "beb1dff4",
   "metadata": {},
   "source": [
    "**This means that \"expression\" can even involve inline if-else statements:**"
   ]
  },
  {
   "cell_type": "code",
   "execution_count": 12,
   "id": "196a2325",
   "metadata": {},
   "outputs": [
    {
     "name": "stdout",
     "output_type": "stream",
     "text": [
      "apple apple apple pie pie pie\n"
     ]
    }
   ],
   "source": [
    "generator5 = ((\"apple\" if i < 3 else \"pie\") for i in range(6))\n",
    "\n",
    "print(*generator5)"
   ]
  },
  {
   "cell_type": "code",
   "execution_count": 7,
   "id": "89552cf4",
   "metadata": {},
   "outputs": [
    {
     "data": {
      "text/plain": [
       "<generator object <genexpr> at 0x00000273DD98BCF0>"
      ]
     },
     "execution_count": 7,
     "metadata": {},
     "output_type": "execute_result"
    }
   ],
   "source": [
    "generator4 = (i/2 for i in [0, 9, 21, 32])\n",
    "generator4"
   ]
  },
  {
   "cell_type": "code",
   "execution_count": 9,
   "id": "0f00c9b1",
   "metadata": {
    "scrolled": true
   },
   "outputs": [
    {
     "name": "stdout",
     "output_type": "stream",
     "text": [
      "0.0\n",
      "4.5\n",
      "10.5\n",
      "16.0\n"
     ]
    }
   ],
   "source": [
    "for item in generator4:\n",
    "    print(item)"
   ]
  },
  {
   "cell_type": "markdown",
   "id": "79a16550",
   "metadata": {},
   "source": [
    "![python.exe](https://drive.google.com/uc?id=1oY07NFR8n0Q3oP9CwwxLWh40cGEb_YkU)"
   ]
  }
 ],
 "metadata": {
  "kernelspec": {
   "display_name": "Python 3 (ipykernel)",
   "language": "python",
   "name": "python3"
  },
  "language_info": {
   "codemirror_mode": {
    "name": "ipython",
    "version": 3
   },
   "file_extension": ".py",
   "mimetype": "text/x-python",
   "name": "python",
   "nbconvert_exporter": "python",
   "pygments_lexer": "ipython3",
   "version": "3.9.12"
  }
 },
 "nbformat": 4,
 "nbformat_minor": 5
}
